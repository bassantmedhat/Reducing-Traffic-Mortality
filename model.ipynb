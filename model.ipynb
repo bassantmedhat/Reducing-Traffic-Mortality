{
 "cells": [
  {
   "attachments": {},
   "cell_type": "markdown",
   "metadata": {},
   "source": [
    "# importing"
   ]
  },
  {
   "cell_type": "code",
   "execution_count": 5,
   "metadata": {},
   "outputs": [],
   "source": [
    "import numpy as np\n",
    "import pandas as pd \n",
    "import matplotlib.pyplot as plt\n",
    "import seaborn as sb\n",
    "import seaborn as sns\n",
    "from matplotlib.ticker import StrMethodFormatter\n",
    "from matplotlib import colors\n",
    "from matplotlib.ticker import PercentFormatter"
   ]
  },
  {
   "attachments": {},
   "cell_type": "markdown",
   "metadata": {},
   "source": [
    "# loading data set\n"
   ]
  },
  {
   "cell_type": "code",
   "execution_count": 6,
   "metadata": {},
   "outputs": [
    {
     "data": {
      "text/html": [
       "<div>\n",
       "<style scoped>\n",
       "    .dataframe tbody tr th:only-of-type {\n",
       "        vertical-align: middle;\n",
       "    }\n",
       "\n",
       "    .dataframe tbody tr th {\n",
       "        vertical-align: top;\n",
       "    }\n",
       "\n",
       "    .dataframe thead th {\n",
       "        text-align: right;\n",
       "    }\n",
       "</style>\n",
       "<table border=\"1\" class=\"dataframe\">\n",
       "  <thead>\n",
       "    <tr style=\"text-align: right;\">\n",
       "      <th></th>\n",
       "      <th>state</th>\n",
       "      <th>drvr_fatl_col_bmiles</th>\n",
       "      <th>perc_fatl_speed</th>\n",
       "      <th>perc_fatl_alcohol</th>\n",
       "      <th>perc_fatl_1st_time</th>\n",
       "      <th>million_miles_annually</th>\n",
       "    </tr>\n",
       "  </thead>\n",
       "  <tbody>\n",
       "    <tr>\n",
       "      <th>0</th>\n",
       "      <td>Alabama</td>\n",
       "      <td>18.8</td>\n",
       "      <td>39</td>\n",
       "      <td>30</td>\n",
       "      <td>80</td>\n",
       "      <td>64914</td>\n",
       "    </tr>\n",
       "    <tr>\n",
       "      <th>1</th>\n",
       "      <td>Alaska</td>\n",
       "      <td>18.1</td>\n",
       "      <td>41</td>\n",
       "      <td>25</td>\n",
       "      <td>94</td>\n",
       "      <td>4593</td>\n",
       "    </tr>\n",
       "    <tr>\n",
       "      <th>2</th>\n",
       "      <td>Arizona</td>\n",
       "      <td>18.6</td>\n",
       "      <td>35</td>\n",
       "      <td>28</td>\n",
       "      <td>96</td>\n",
       "      <td>59575</td>\n",
       "    </tr>\n",
       "    <tr>\n",
       "      <th>3</th>\n",
       "      <td>Arkansas</td>\n",
       "      <td>22.4</td>\n",
       "      <td>18</td>\n",
       "      <td>26</td>\n",
       "      <td>95</td>\n",
       "      <td>32953</td>\n",
       "    </tr>\n",
       "    <tr>\n",
       "      <th>4</th>\n",
       "      <td>California</td>\n",
       "      <td>12.0</td>\n",
       "      <td>35</td>\n",
       "      <td>28</td>\n",
       "      <td>89</td>\n",
       "      <td>320784</td>\n",
       "    </tr>\n",
       "  </tbody>\n",
       "</table>\n",
       "</div>"
      ],
      "text/plain": [
       "        state  drvr_fatl_col_bmiles  perc_fatl_speed  perc_fatl_alcohol  \\\n",
       "0     Alabama                  18.8               39                 30   \n",
       "1      Alaska                  18.1               41                 25   \n",
       "2     Arizona                  18.6               35                 28   \n",
       "3    Arkansas                  22.4               18                 26   \n",
       "4  California                  12.0               35                 28   \n",
       "\n",
       "   perc_fatl_1st_time  million_miles_annually  \n",
       "0                  80                   64914  \n",
       "1                  94                    4593  \n",
       "2                  96                   59575  \n",
       "3                  95                   32953  \n",
       "4                  89                  320784  "
      ]
     },
     "execution_count": 6,
     "metadata": {},
     "output_type": "execute_result"
    }
   ],
   "source": [
    "road_accident_train = pd.read_csv(r'C:\\Users\\popo\\mini_project\\data\\merged-csv-files.csv')\n",
    "road_accident_train.head()"
   ]
  },
  {
   "cell_type": "code",
   "execution_count": 7,
   "metadata": {},
   "outputs": [
    {
     "name": "stdout",
     "output_type": "stream",
     "text": [
      "          state\n",
      "count        51\n",
      "unique       51\n",
      "top     Alabama\n",
      "freq          1\n"
     ]
    }
   ],
   "source": [
    "print(road_accident_train.describe(include=[\"O\"]))"
   ]
  },
  {
   "cell_type": "code",
   "execution_count": 8,
   "metadata": {},
   "outputs": [
    {
     "name": "stdout",
     "output_type": "stream",
     "text": [
      "<class 'pandas.core.frame.DataFrame'>\n",
      "RangeIndex: 51 entries, 0 to 50\n",
      "Data columns (total 6 columns):\n",
      " #   Column                  Non-Null Count  Dtype  \n",
      "---  ------                  --------------  -----  \n",
      " 0   state                   51 non-null     object \n",
      " 1   drvr_fatl_col_bmiles    51 non-null     float64\n",
      " 2   perc_fatl_speed         51 non-null     int64  \n",
      " 3   perc_fatl_alcohol       51 non-null     int64  \n",
      " 4   perc_fatl_1st_time      51 non-null     int64  \n",
      " 5   million_miles_annually  51 non-null     int64  \n",
      "dtypes: float64(1), int64(4), object(1)\n",
      "memory usage: 2.5+ KB\n",
      "None\n"
     ]
    }
   ],
   "source": [
    "print(road_accident_train.info())"
   ]
  },
  {
   "attachments": {},
   "cell_type": "markdown",
   "metadata": {},
   "source": [
    "# Pre Processing"
   ]
  },
  {
   "cell_type": "code",
   "execution_count": 9,
   "metadata": {},
   "outputs": [
    {
     "name": "stdout",
     "output_type": "stream",
     "text": [
      "False\n"
     ]
    }
   ],
   "source": [
    "check_nan = road_accident_train['perc_fatl_speed'].isnull().values.any()\n",
    "# printing the result\n",
    "print(check_nan)\n",
    "\n"
   ]
  },
  {
   "cell_type": "code",
   "execution_count": 10,
   "metadata": {},
   "outputs": [
    {
     "data": {
      "text/plain": [
       "(51, 6)"
      ]
     },
     "execution_count": 10,
     "metadata": {},
     "output_type": "execute_result"
    }
   ],
   "source": [
    "road_accident_train.shape"
   ]
  },
  {
   "cell_type": "code",
   "execution_count": 11,
   "metadata": {},
   "outputs": [
    {
     "data": {
      "text/plain": [
       "state                      object\n",
       "drvr_fatl_col_bmiles      float64\n",
       "perc_fatl_speed             int64\n",
       "perc_fatl_alcohol           int64\n",
       "perc_fatl_1st_time          int64\n",
       "million_miles_annually      int64\n",
       "dtype: object"
      ]
     },
     "execution_count": 11,
     "metadata": {},
     "output_type": "execute_result"
    }
   ],
   "source": [
    "road_accident_train.dtypes"
   ]
  },
  {
   "cell_type": "code",
   "execution_count": 12,
   "metadata": {},
   "outputs": [
    {
     "data": {
      "text/plain": [
       "state                      string\n",
       "drvr_fatl_col_bmiles      float64\n",
       "perc_fatl_speed             int64\n",
       "perc_fatl_alcohol           int64\n",
       "perc_fatl_1st_time          int64\n",
       "million_miles_annually      int64\n",
       "dtype: object"
      ]
     },
     "execution_count": 12,
     "metadata": {},
     "output_type": "execute_result"
    }
   ],
   "source": [
    "# Data type conversions\n",
    "road_accident_train['state'] = road_accident_train['state'].astype('string')\n",
    "\n",
    "# Show new data types\n",
    "road_accident_train.dtypes"
   ]
  },
  {
   "attachments": {},
   "cell_type": "markdown",
   "metadata": {},
   "source": [
    "# Visualization"
   ]
  },
  {
   "cell_type": "code",
   "execution_count": 13,
   "metadata": {},
   "outputs": [
    {
     "data": {
      "text/plain": [
       "array([[<AxesSubplot: title={'center': 'drvr_fatl_col_bmiles'}>,\n",
       "        <AxesSubplot: title={'center': 'perc_fatl_speed'}>],\n",
       "       [<AxesSubplot: title={'center': 'perc_fatl_alcohol'}>,\n",
       "        <AxesSubplot: title={'center': 'perc_fatl_1st_time'}>],\n",
       "       [<AxesSubplot: title={'center': 'million_miles_annually'}>,\n",
       "        <AxesSubplot: >]], dtype=object)"
      ]
     },
     "execution_count": 13,
     "metadata": {},
     "output_type": "execute_result"
    },
    {
     "data": {
      "image/png": "[encoded data removed]",
      "text/plain": [
       "<Figure size 1500x1000 with 6 Axes>"
      ]
     },
     "metadata": {},
     "output_type": "display_data"
    }
   ],
   "source": [
    "road_accident_train.hist(bins=30, figsize=(15, 10))\n"
   ]
  },
  {
   "cell_type": "code",
   "execution_count": 14,
   "metadata": {},
   "outputs": [
    {
     "name": "stderr",
     "output_type": "stream",
     "text": [
      "c:\\Users\\popo\\anaconda3\\lib\\site-packages\\plotly\\express\\_core.py:279: FutureWarning: iteritems is deprecated and will be removed in a future version. Use .items instead.\n",
      "  dims = [\n"
     ]
    },
    {
     "data": {
      "application/vnd.plotly.v1+json": {
       "config": {
        "plotlyServerURL": "https://plot.ly"
       },
       "data": [
        {
         "dimensions": [
          {
           "axis": {
            "matches": true
           },
           "label": "drvr_fatl_col_bmiles",
           "values": [
            18.8
           ]
          },
          {
           "axis": {
            "matches": true
           },
           "label": "perc_fatl_speed",
           "values": [
            39
           ]
          },
          {
           "axis": {
            "matches": true
           },
           "label": "perc_fatl_alcohol",
           "values": [
            30
           ]
          },
          {
           "axis": {
            "matches": true
           },
           "label": "perc_fatl_1st_time",
           "values": [
            80
           ]
          }
         ],
         "hovertemplate": "state=Alabama<br>%{xaxis.title.text}=%{x}<br>%{yaxis.title.text}=%{y}<extra></extra>",
         "legendgroup": "Alabama",
         "marker": {
          "color": "#636efa",
          "symbol": "circle"
         },
         "name": "Alabama",
         "showlegend": true,
         "type": "splom"
        },
        {
         "dimensions": [
          {
           "axis": {
            "matches": true
           },
           "label": "drvr_fatl_col_bmiles",
           "values": [
            18.1
           ]
          },
          {
           "axis": {
            "matches": true
           },
           "label": "perc_fatl_speed",
           "values": [
            41
           ]
          },
          {
           "axis": {
            "matches": true
           },
           "label": "perc_fatl_alcohol",
           "values": [
            25
           ]
          },
          {
           "axis": {
            "matches": true
           },
           "label": "perc_fatl_1st_time",
           "values": [
            94
           ]
          }
         ],
         "hovertemplate": "state=Alaska<br>%{xaxis.title.text}=%{x}<br>%{yaxis.title.text}=%{y}<extra></extra>",
         "legendgroup": "Alaska",
         "marker": {
          "color": "#EF553B",
          "symbol": "circle"
         },
         "name": "Alaska",
         "showlegend": true,
         "type": "splom"
        },
        {
         "dimensions": [
          {
           "axis": {
            "matches": true
           },
           "label": "drvr_fatl_col_bmiles",
           "values": [
            18.6
           ]
          },
          {
           "axis": {
            "matches": true
           },
           "label": "perc_fatl_speed",
           "values": [
            35
           ]
          },
          {
           "axis": {
            "matches": true
           },
           "label": "perc_fatl_alcohol",
           "values": [
            28
           ]
          },
          {
           "axis": {
            "matches": true
           },
           "label": "perc_fatl_1st_time",
           "values": [
            96
           ]
          }
         ],
         "hovertemplate": "state=Arizona<br>%{xaxis.title.text}=%{x}<br>%{yaxis.title.text}=%{y}<extra></extra>",
         "legendgroup": "Arizona",
         "marker": {
          "color": "#00cc96",
          "symbol": "circle"
         },
         "name": "Arizona",
         "showlegend": true,
         "type": "splom"
        },
        {
         "dimensions": [
          {
           "axis": {
            "matches": true
           },
           "label": "drvr_fatl_col_bmiles",
           "values": [
            22.4
           ]
          },
          {
           "axis": {
            "matches": true
           },
           "label": "perc_fatl_speed",
           "values": [
            18
           ]
          },
          {
           "axis": {
            "matches": true
           },
           "label": "perc_fatl_alcohol",
           "values": [
            26
           ]
          },
          {
           "axis": {
            "matches": true
           },
           "label": "perc_fatl_1st_time",
           "values": [
            95
           ]
          }
         ],
         "hovertemplate": "state=Arkansas<br>%{xaxis.title.text}=%{x}<br>%{yaxis.title.text}=%{y}<extra></extra>",
         "legendgroup": "Arkansas",
         "marker": {
          "color": "#ab63fa",
          "symbol": "circle"
         },
         "name": "Arkansas",
         "showlegend": true,
         "type": "splom"
        },
        {
         "dimensions": [
          {
           "axis": {
            "matches": true
           },
           "label": "drvr_fatl_col_bmiles",
           "values": [
            12
           ]
          },
          {
           "axis": {
            "matches": true
           },
           "label": "perc_fatl_speed",
           "values": [
            35
           ]
          },
          {
           "axis": {
            "matches": true
           },
           "label": "perc_fatl_alcohol",
           "values": [
            28
           ]
          },
          {
           "axis": {
            "matches": true
           },
           "label": "perc_fatl_1st_time",
           "values": [
            89
           ]
          }
         ],
         "hovertemplate": "state=California<br>%{xaxis.title.text}=%{x}<br>%{yaxis.title.text}=%{y}<extra></extra>",
         "legendgroup": "California",
         "marker": {
          "color": "#FFA15A",
          "symbol": "circle"
         },
         "name": "California",
         "showlegend": true,
         "type": "splom"
        },
        {
         "dimensions": [
          {
           "axis": {
            "matches": true
           },
           "label": "drvr_fatl_col_bmiles",
           "values": [
            13.6
           ]
          },
          {
           "axis": {
            "matches": true
           },
           "label": "perc_fatl_speed",
           "values": [
            37
           ]
          },
          {
           "axis": {
            "matches": true
           },
           "label": "perc_fatl_alcohol",
           "values": [
            28
           ]
          },
          {
           "axis": {
            "matches": true
           },
           "label": "perc_fatl_1st_time",
           "values": [
            95
           ]
          }
         ],
         "hovertemplate": "state=Colorado<br>%{xaxis.title.text}=%{x}<br>%{yaxis.title.text}=%{y}<extra></extra>",
         "legendgroup": "Colorado",
         "marker": {
          "color": "#19d3f3",
          "symbol": "circle"
         },
         "name": "Colorado",
         "showlegend": true,
         "type": "splom"
        },
        {
         "dimensions": [
          {
           "axis": {
            "matches": true
           },
           "label": "drvr_fatl_col_bmiles",
           "values": [
            10.8
           ]
          },
          {
           "axis": {
            "matches": true
           },
           "label": "perc_fatl_speed",
           "values": [
            46
           ]
          },
          {
           "axis": {
            "matches": true
           },
           "label": "perc_fatl_alcohol",
           "values": [
            36
           ]
          },
          {
           "axis": {
            "matches": true
           },
           "label": "perc_fatl_1st_time",
           "values": [
            82
           ]
          }
         ],
         "hovertemplate": "state=Connecticut<br>%{xaxis.title.text}=%{x}<br>%{yaxis.title.text}=%{y}<extra></extra>",
         "legendgroup": "Connecticut",
         "marker": {
          "color": "#FF6692",
          "symbol": "circle"
         },
         "name": "Connecticut",
         "showlegend": true,
         "type": "splom"
        },
        {
         "dimensions": [
          {
           "axis": {
            "matches": true
           },
           "label": "drvr_fatl_col_bmiles",
           "values": [
            16.2
           ]
          },
          {
           "axis": {
            "matches": true
           },
           "label": "perc_fatl_speed",
           "values": [
            38
           ]
          },
          {
           "axis": {
            "matches": true
           },
           "label": "perc_fatl_alcohol",
           "values": [
            30
           ]
          },
          {
           "axis": {
            "matches": true
           },
           "label": "perc_fatl_1st_time",
           "values": [
            99
           ]
          }
         ],
         "hovertemplate": "state=Delaware<br>%{xaxis.title.text}=%{x}<br>%{yaxis.title.text}=%{y}<extra></extra>",
         "legendgroup": "Delaware",
         "marker": {
          "color": "#B6E880",
          "symbol": "circle"
         },
         "name": "Delaware",
         "showlegend": true,
         "type": "splom"
        },
        {
         "dimensions": [
          {
           "axis": {
            "matches": true
           },
           "label": "drvr_fatl_col_bmiles",
           "values": [
            5.9
           ]
          },
          {
           "axis": {
            "matches": true
           },
           "label": "perc_fatl_speed",
           "values": [
            34
           ]
          },
          {
           "axis": {
            "matches": true
           },
           "label": "perc_fatl_alcohol",
           "values": [
            27
           ]
          },
          {
           "axis": {
            "matches": true
           },
           "label": "perc_fatl_1st_time",
           "values": [
            100
           ]
          }
         ],
         "hovertemplate": "state=District of Columnia<br>%{xaxis.title.text}=%{x}<br>%{yaxis.title.text}=%{y}<extra></extra>",
         "legendgroup": "District of Columnia",
         "marker": {
          "color": "#FF97FF",
          "symbol": "circle"
         },
         "name": "District of Columnia",
         "showlegend": true,
         "type": "splom"
        },
        {
         "dimensions": [
          {
           "axis": {
            "matches": true
           },
           "label": "drvr_fatl_col_bmiles",
           "values": [
            17.9
           ]
          },
          {
           "axis": {
            "matches": true
           },
           "label": "perc_fatl_speed",
           "values": [
            21
           ]
          },
          {
           "axis": {
            "matches": true
           },
           "label": "perc_fatl_alcohol",
           "values": [
            29
           ]
          },
          {
           "axis": {
            "matches": true
           },
           "label": "perc_fatl_1st_time",
           "values": [
            94
           ]
          }
         ],
         "hovertemplate": "state=Florida<br>%{xaxis.title.text}=%{x}<br>%{yaxis.title.text}=%{y}<extra></extra>",
         "legendgroup": "Florida",
         "marker": {
          "color": "#FECB52",
          "symbol": "circle"
         },
         "name": "Florida",
         "showlegend": true,
         "type": "splom"
        },
        {
         "dimensions": [
          {
           "axis": {
            "matches": true
           },
           "label": "drvr_fatl_col_bmiles",
           "values": [
            15.6
           ]
          },
          {
           "axis": {
            "matches": true
           },
           "label": "perc_fatl_speed",
           "values": [
            19
           ]
          },
          {
           "axis": {
            "matches": true
           },
           "label": "perc_fatl_alcohol",
           "values": [
            25
           ]
          },
          {
           "axis": {
            "matches": true
           },
           "label": "perc_fatl_1st_time",
           "values": [
            93
           ]
          }
         ],
         "hovertemplate": "state=Georgia<br>%{xaxis.title.text}=%{x}<br>%{yaxis.title.text}=%{y}<extra></extra>",
         "legendgroup": "Georgia",
         "marker": {
          "color": "#636efa",
          "symbol": "circle"
         },
         "name": "Georgia",
         "showlegend": true,
         "type": "splom"
        },
        {
         "dimensions": [
          {
           "axis": {
            "matches": true
           },
           "label": "drvr_fatl_col_bmiles",
           "values": [
            17.5
           ]
          },
          {
           "axis": {
            "matches": true
           },
           "label": "perc_fatl_speed",
           "values": [
            54
           ]
          },
          {
           "axis": {
            "matches": true
           },
           "label": "perc_fatl_alcohol",
           "values": [
            41
           ]
          },
          {
           "axis": {
            "matches": true
           },
           "label": "perc_fatl_1st_time",
           "values": [
            87
           ]
          }
         ],
         "hovertemplate": "state=Hawaii<br>%{xaxis.title.text}=%{x}<br>%{yaxis.title.text}=%{y}<extra></extra>",
         "legendgroup": "Hawaii",
         "marker": {
          "color": "#EF553B",
          "symbol": "circle"
         },
         "name": "Hawaii",
         "showlegend": true,
         "type": "splom"
        },
        {
         "dimensions": [
          {
           "axis": {
            "matches": true
           },
           "label": "drvr_fatl_col_bmiles",
           "values": [
            15.3
           ]
          },
          {
           "axis": {
            "matches": true
           },
           "label": "perc_fatl_speed",
           "values": [
            36
           ]
          },
          {
           "axis": {
            "matches": true
           },
           "label": "perc_fatl_alcohol",
           "values": [
            29
           ]
          },
          {
           "axis": {
            "matches": true
           },
           "label": "perc_fatl_1st_time",
           "values": [
            98
           ]
          }
         ],
         "hovertemplate": "state=Idaho<br>%{xaxis.title.text}=%{x}<br>%{yaxis.title.text}=%{y}<extra></extra>",
         "legendgroup": "Idaho",
         "marker": {
          "color": "#00cc96",
          "symbol": "circle"
         },
         "name": "Idaho",
         "showlegend": true,
         "type": "splom"
        },
        {
         "dimensions": [
          {
           "axis": {
            "matches": true
           },
           "label": "drvr_fatl_col_bmiles",
           "values": [
            12.8
           ]
          },
          {
           "axis": {
            "matches": true
           },
           "label": "perc_fatl_speed",
           "values": [
            36
           ]
          },
          {
           "axis": {
            "matches": true
           },
           "label": "perc_fatl_alcohol",
           "values": [
            34
           ]
          },
          {
           "axis": {
            "matches": true
           },
           "label": "perc_fatl_1st_time",
           "values": [
            96
           ]
          }
         ],
         "hovertemplate": "state=Illinois<br>%{xaxis.title.text}=%{x}<br>%{yaxis.title.text}=%{y}<extra></extra>",
         "legendgroup": "Illinois",
         "marker": {
          "color": "#ab63fa",
          "symbol": "circle"
         },
         "name": "Illinois",
         "showlegend": true,
         "type": "splom"
        },
        {
         "dimensions": [
          {
           "axis": {
            "matches": true
           },
           "label": "drvr_fatl_col_bmiles",
           "values": [
            14.5
           ]
          },
          {
           "axis": {
            "matches": true
           },
           "label": "perc_fatl_speed",
           "values": [
            25
           ]
          },
          {
           "axis": {
            "matches": true
           },
           "label": "perc_fatl_alcohol",
           "values": [
            29
           ]
          },
          {
           "axis": {
            "matches": true
           },
           "label": "perc_fatl_1st_time",
           "values": [
            95
           ]
          }
         ],
         "hovertemplate": "state=Indiana<br>%{xaxis.title.text}=%{x}<br>%{yaxis.title.text}=%{y}<extra></extra>",
         "legendgroup": "Indiana",
         "marker": {
          "color": "#FFA15A",
          "symbol": "circle"
         },
         "name": "Indiana",
         "showlegend": true,
         "type": "splom"
        },
        {
         "dimensions": [
          {
           "axis": {
            "matches": true
           },
           "label": "drvr_fatl_col_bmiles",
           "values": [
            15.7
           ]
          },
          {
           "axis": {
            "matches": true
           },
           "label": "perc_fatl_speed",
           "values": [
            17
           ]
          },
          {
           "axis": {
            "matches": true
           },
           "label": "perc_fatl_alcohol",
           "values": [
            25
           ]
          },
          {
           "axis": {
            "matches": true
           },
           "label": "perc_fatl_1st_time",
           "values": [
            87
           ]
          }
         ],
         "hovertemplate": "state=Iowa<br>%{xaxis.title.text}=%{x}<br>%{yaxis.title.text}=%{y}<extra></extra>",
         "legendgroup": "Iowa",
         "marker": {
          "color": "#19d3f3",
          "symbol": "circle"
         },
         "name": "Iowa",
         "showlegend": true,
         "type": "splom"
        },
        {
         "dimensions": [
          {
           "axis": {
            "matches": true
           },
           "label": "drvr_fatl_col_bmiles",
           "values": [
            17.8
           ]
          },
          {
           "axis": {
            "matches": true
           },
           "label": "perc_fatl_speed",
           "values": [
            27
           ]
          },
          {
           "axis": {
            "matches": true
           },
           "label": "perc_fatl_alcohol",
           "values": [
            24
           ]
          },
          {
           "axis": {
            "matches": true
           },
           "label": "perc_fatl_1st_time",
           "values": [
            85
           ]
          }
         ],
         "hovertemplate": "state=Kansas<br>%{xaxis.title.text}=%{x}<br>%{yaxis.title.text}=%{y}<extra></extra>",
         "legendgroup": "Kansas",
         "marker": {
          "color": "#FF6692",
          "symbol": "circle"
         },
         "name": "Kansas",
         "showlegend": true,
         "type": "splom"
        },
        {
         "dimensions": [
          {
           "axis": {
            "matches": true
           },
           "label": "drvr_fatl_col_bmiles",
           "values": [
            21.4
           ]
          },
          {
           "axis": {
            "matches": true
           },
           "label": "perc_fatl_speed",
           "values": [
            19
           ]
          },
          {
           "axis": {
            "matches": true
           },
           "label": "perc_fatl_alcohol",
           "values": [
            23
           ]
          },
          {
           "axis": {
            "matches": true
           },
           "label": "perc_fatl_1st_time",
           "values": [
            76
           ]
          }
         ],
         "hovertemplate": "state=Kentucky<br>%{xaxis.title.text}=%{x}<br>%{yaxis.title.text}=%{y}<extra></extra>",
         "legendgroup": "Kentucky",
         "marker": {
          "color": "#B6E880",
          "symbol": "circle"
         },
         "name": "Kentucky",
         "showlegend": true,
         "type": "splom"
        },
        {
         "dimensions": [
          {
           "axis": {
            "matches": true
           },
           "label": "drvr_fatl_col_bmiles",
           "values": [
            20.5
           ]
          },
          {
           "axis": {
            "matches": true
           },
           "label": "perc_fatl_speed",
           "values": [
            35
           ]
          },
          {
           "axis": {
            "matches": true
           },
           "label": "perc_fatl_alcohol",
           "values": [
            33
           ]
          },
          {
           "axis": {
            "matches": true
           },
           "label": "perc_fatl_1st_time",
           "values": [
            98
           ]
          }
         ],
         "hovertemplate": "state=Louisiana<br>%{xaxis.title.text}=%{x}<br>%{yaxis.title.text}=%{y}<extra></extra>",
         "legendgroup": "Louisiana",
         "marker": {
          "color": "#FF97FF",
          "symbol": "circle"
         },
         "name": "Louisiana",
         "showlegend": true,
         "type": "splom"
        },
        {
         "dimensions": [
          {
           "axis": {
            "matches": true
           },
           "label": "drvr_fatl_col_bmiles",
           "values": [
            15.1
           ]
          },
          {
           "axis": {
            "matches": true
           },
           "label": "perc_fatl_speed",
           "values": [
            38
           ]
          },
          {
           "axis": {
            "matches": true
           },
           "label": "perc_fatl_alcohol",
           "values": [
            30
           ]
          },
          {
           "axis": {
            "matches": true
           },
           "label": "perc_fatl_1st_time",
           "values": [
            84
           ]
          }
         ],
         "hovertemplate": "state=Maine<br>%{xaxis.title.text}=%{x}<br>%{yaxis.title.text}=%{y}<extra></extra>",
         "legendgroup": "Maine",
         "marker": {
          "color": "#FECB52",
          "symbol": "circle"
         },
         "name": "Maine",
         "showlegend": true,
         "type": "splom"
        },
        {
         "dimensions": [
          {
           "axis": {
            "matches": true
           },
           "label": "drvr_fatl_col_bmiles",
           "values": [
            12.5
           ]
          },
          {
           "axis": {
            "matches": true
           },
           "label": "perc_fatl_speed",
           "values": [
            34
           ]
          },
          {
           "axis": {
            "matches": true
           },
           "label": "perc_fatl_alcohol",
           "values": [
            32
           ]
          },
          {
           "axis": {
            "matches": true
           },
           "label": "perc_fatl_1st_time",
           "values": [
            99
           ]
          }
         ],
         "hovertemplate": "state=Maryland<br>%{xaxis.title.text}=%{x}<br>%{yaxis.title.text}=%{y}<extra></extra>",
         "legendgroup": "Maryland",
         "marker": {
          "color": "#636efa",
          "symbol": "circle"
         },
         "name": "Maryland",
         "showlegend": true,
         "type": "splom"
        },
        {
         "dimensions": [
          {
           "axis": {
            "matches": true
           },
           "label": "drvr_fatl_col_bmiles",
           "values": [
            8.2
           ]
          },
          {
           "axis": {
            "matches": true
           },
           "label": "perc_fatl_speed",
           "values": [
            23
           ]
          },
          {
           "axis": {
            "matches": true
           },
           "label": "perc_fatl_alcohol",
           "values": [
            35
           ]
          },
          {
           "axis": {
            "matches": true
           },
           "label": "perc_fatl_1st_time",
           "values": [
            80
           ]
          }
         ],
         "hovertemplate": "state=Massachusetts<br>%{xaxis.title.text}=%{x}<br>%{yaxis.title.text}=%{y}<extra></extra>",
         "legendgroup": "Massachusetts",
         "marker": {
          "color": "#EF553B",
          "symbol": "circle"
         },
         "name": "Massachusetts",
         "showlegend": true,
         "type": "splom"
        },
        {
         "dimensions": [
          {
           "axis": {
            "matches": true
           },
           "label": "drvr_fatl_col_bmiles",
           "values": [
            14.1
           ]
          },
          {
           "axis": {
            "matches": true
           },
           "label": "perc_fatl_speed",
           "values": [
            24
           ]
          },
          {
           "axis": {
            "matches": true
           },
           "label": "perc_fatl_alcohol",
           "values": [
            28
           ]
          },
          {
           "axis": {
            "matches": true
           },
           "label": "perc_fatl_1st_time",
           "values": [
            77
           ]
          }
         ],
         "hovertemplate": "state=Michigan<br>%{xaxis.title.text}=%{x}<br>%{yaxis.title.text}=%{y}<extra></extra>",
         "legendgroup": "Michigan",
         "marker": {
          "color": "#00cc96",
          "symbol": "circle"
         },
         "name": "Michigan",
         "showlegend": true,
         "type": "splom"
        },
        {
         "dimensions": [
          {
           "axis": {
            "matches": true
           },
           "label": "drvr_fatl_col_bmiles",
           "values": [
            9.6
           ]
          },
          {
           "axis": {
            "matches": true
           },
           "label": "perc_fatl_speed",
           "values": [
            23
           ]
          },
          {
           "axis": {
            "matches": true
           },
           "label": "perc_fatl_alcohol",
           "values": [
            29
           ]
          },
          {
           "axis": {
            "matches": true
           },
           "label": "perc_fatl_1st_time",
           "values": [
            88
           ]
          }
         ],
         "hovertemplate": "state=Minnesota<br>%{xaxis.title.text}=%{x}<br>%{yaxis.title.text}=%{y}<extra></extra>",
         "legendgroup": "Minnesota",
         "marker": {
          "color": "#ab63fa",
          "symbol": "circle"
         },
         "name": "Minnesota",
         "showlegend": true,
         "type": "splom"
        },
        {
         "dimensions": [
          {
           "axis": {
            "matches": true
           },
           "label": "drvr_fatl_col_bmiles",
           "values": [
            17.6
           ]
          },
          {
           "axis": {
            "matches": true
           },
           "label": "perc_fatl_speed",
           "values": [
            15
           ]
          },
          {
           "axis": {
            "matches": true
           },
           "label": "perc_fatl_alcohol",
           "values": [
            31
           ]
          },
          {
           "axis": {
            "matches": true
           },
           "label": "perc_fatl_1st_time",
           "values": [
            100
           ]
          }
         ],
         "hovertemplate": "state=Mississippi<br>%{xaxis.title.text}=%{x}<br>%{yaxis.title.text}=%{y}<extra></extra>",
         "legendgroup": "Mississippi",
         "marker": {
          "color": "#FFA15A",
          "symbol": "circle"
         },
         "name": "Mississippi",
         "showlegend": true,
         "type": "splom"
        },
        {
         "dimensions": [
          {
           "axis": {
            "matches": true
           },
           "label": "drvr_fatl_col_bmiles",
           "values": [
            16.1
           ]
          },
          {
           "axis": {
            "matches": true
           },
           "label": "perc_fatl_speed",
           "values": [
            43
           ]
          },
          {
           "axis": {
            "matches": true
           },
           "label": "perc_fatl_alcohol",
           "values": [
            34
           ]
          },
          {
           "axis": {
            "matches": true
           },
           "label": "perc_fatl_1st_time",
           "values": [
            84
           ]
          }
         ],
         "hovertemplate": "state=Missouri<br>%{xaxis.title.text}=%{x}<br>%{yaxis.title.text}=%{y}<extra></extra>",
         "legendgroup": "Missouri",
         "marker": {
          "color": "#19d3f3",
          "symbol": "circle"
         },
         "name": "Missouri",
         "showlegend": true,
         "type": "splom"
        },
        {
         "dimensions": [
          {
           "axis": {
            "matches": true
           },
           "label": "drvr_fatl_col_bmiles",
           "values": [
            21.4
           ]
          },
          {
           "axis": {
            "matches": true
           },
           "label": "perc_fatl_speed",
           "values": [
            39
           ]
          },
          {
           "axis": {
            "matches": true
           },
           "label": "perc_fatl_alcohol",
           "values": [
            44
           ]
          },
          {
           "axis": {
            "matches": true
           },
           "label": "perc_fatl_1st_time",
           "values": [
            85
           ]
          }
         ],
         "hovertemplate": "state=Montana<br>%{xaxis.title.text}=%{x}<br>%{yaxis.title.text}=%{y}<extra></extra>",
         "legendgroup": "Montana",
         "marker": {
          "color": "#FF6692",
          "symbol": "circle"
         },
         "name": "Montana",
         "showlegend": true,
         "type": "splom"
        },
        {
         "dimensions": [
          {
           "axis": {
            "matches": true
           },
           "label": "drvr_fatl_col_bmiles",
           "values": [
            14.9
           ]
          },
          {
           "axis": {
            "matches": true
           },
           "label": "perc_fatl_speed",
           "values": [
            13
           ]
          },
          {
           "axis": {
            "matches": true
           },
           "label": "perc_fatl_alcohol",
           "values": [
            35
           ]
          },
          {
           "axis": {
            "matches": true
           },
           "label": "perc_fatl_1st_time",
           "values": [
            90
           ]
          }
         ],
         "hovertemplate": "state=Nebraska<br>%{xaxis.title.text}=%{x}<br>%{yaxis.title.text}=%{y}<extra></extra>",
         "legendgroup": "Nebraska",
         "marker": {
          "color": "#B6E880",
          "symbol": "circle"
         },
         "name": "Nebraska",
         "showlegend": true,
         "type": "splom"
        },
        {
         "dimensions": [
          {
           "axis": {
            "matches": true
           },
           "label": "drvr_fatl_col_bmiles",
           "values": [
            14.7
           ]
          },
          {
           "axis": {
            "matches": true
           },
           "label": "perc_fatl_speed",
           "values": [
            37
           ]
          },
          {
           "axis": {
            "matches": true
           },
           "label": "perc_fatl_alcohol",
           "values": [
            32
           ]
          },
          {
           "axis": {
            "matches": true
           },
           "label": "perc_fatl_1st_time",
           "values": [
            99
           ]
          }
         ],
         "hovertemplate": "state=Nevada<br>%{xaxis.title.text}=%{x}<br>%{yaxis.title.text}=%{y}<extra></extra>",
         "legendgroup": "Nevada",
         "marker": {
          "color": "#FF97FF",
          "symbol": "circle"
         },
         "name": "Nevada",
         "showlegend": true,
         "type": "splom"
        },
        {
         "dimensions": [
          {
           "axis": {
            "matches": true
           },
           "label": "drvr_fatl_col_bmiles",
           "values": [
            11.6
           ]
          },
          {
           "axis": {
            "matches": true
           },
           "label": "perc_fatl_speed",
           "values": [
            35
           ]
          },
          {
           "axis": {
            "matches": true
           },
           "label": "perc_fatl_alcohol",
           "values": [
            30
           ]
          },
          {
           "axis": {
            "matches": true
           },
           "label": "perc_fatl_1st_time",
           "values": [
            83
           ]
          }
         ],
         "hovertemplate": "state=New Hampshire<br>%{xaxis.title.text}=%{x}<br>%{yaxis.title.text}=%{y}<extra></extra>",
         "legendgroup": "New Hampshire",
         "marker": {
          "color": "#FECB52",
          "symbol": "circle"
         },
         "name": "New Hampshire",
         "showlegend": true,
         "type": "splom"
        },
        {
         "dimensions": [
          {
           "axis": {
            "matches": true
           },
           "label": "drvr_fatl_col_bmiles",
           "values": [
            11.2
           ]
          },
          {
           "axis": {
            "matches": true
           },
           "label": "perc_fatl_speed",
           "values": [
            16
           ]
          },
          {
           "axis": {
            "matches": true
           },
           "label": "perc_fatl_alcohol",
           "values": [
            28
           ]
          },
          {
           "axis": {
            "matches": true
           },
           "label": "perc_fatl_1st_time",
           "values": [
            78
           ]
          }
         ],
         "hovertemplate": "state=New Jersey<br>%{xaxis.title.text}=%{x}<br>%{yaxis.title.text}=%{y}<extra></extra>",
         "legendgroup": "New Jersey",
         "marker": {
          "color": "#636efa",
          "symbol": "circle"
         },
         "name": "New Jersey",
         "showlegend": true,
         "type": "splom"
        },
        {
         "dimensions": [
          {
           "axis": {
            "matches": true
           },
           "label": "drvr_fatl_col_bmiles",
           "values": [
            18.4
           ]
          },
          {
           "axis": {
            "matches": true
           },
           "label": "perc_fatl_speed",
           "values": [
            19
           ]
          },
          {
           "axis": {
            "matches": true
           },
           "label": "perc_fatl_alcohol",
           "values": [
            27
           ]
          },
          {
           "axis": {
            "matches": true
           },
           "label": "perc_fatl_1st_time",
           "values": [
            98
           ]
          }
         ],
         "hovertemplate": "state=New Mexico<br>%{xaxis.title.text}=%{x}<br>%{yaxis.title.text}=%{y}<extra></extra>",
         "legendgroup": "New Mexico",
         "marker": {
          "color": "#EF553B",
          "symbol": "circle"
         },
         "name": "New Mexico",
         "showlegend": true,
         "type": "splom"
        },
        {
         "dimensions": [
          {
           "axis": {
            "matches": true
           },
           "label": "drvr_fatl_col_bmiles",
           "values": [
            12.3
           ]
          },
          {
           "axis": {
            "matches": true
           },
           "label": "perc_fatl_speed",
           "values": [
            32
           ]
          },
          {
           "axis": {
            "matches": true
           },
           "label": "perc_fatl_alcohol",
           "values": [
            29
           ]
          },
          {
           "axis": {
            "matches": true
           },
           "label": "perc_fatl_1st_time",
           "values": [
            80
           ]
          }
         ],
         "hovertemplate": "state=New York<br>%{xaxis.title.text}=%{x}<br>%{yaxis.title.text}=%{y}<extra></extra>",
         "legendgroup": "New York",
         "marker": {
          "color": "#00cc96",
          "symbol": "circle"
         },
         "name": "New York",
         "showlegend": true,
         "type": "splom"
        },
        {
         "dimensions": [
          {
           "axis": {
            "matches": true
           },
           "label": "drvr_fatl_col_bmiles",
           "values": [
            16.8
           ]
          },
          {
           "axis": {
            "matches": true
           },
           "label": "perc_fatl_speed",
           "values": [
            39
           ]
          },
          {
           "axis": {
            "matches": true
           },
           "label": "perc_fatl_alcohol",
           "values": [
            31
           ]
          },
          {
           "axis": {
            "matches": true
           },
           "label": "perc_fatl_1st_time",
           "values": [
            81
           ]
          }
         ],
         "hovertemplate": "state=North Carolina<br>%{xaxis.title.text}=%{x}<br>%{yaxis.title.text}=%{y}<extra></extra>",
         "legendgroup": "North Carolina",
         "marker": {
          "color": "#ab63fa",
          "symbol": "circle"
         },
         "name": "North Carolina",
         "showlegend": true,
         "type": "splom"
        },
        {
         "dimensions": [
          {
           "axis": {
            "matches": true
           },
           "label": "drvr_fatl_col_bmiles",
           "values": [
            23.9
           ]
          },
          {
           "axis": {
            "matches": true
           },
           "label": "perc_fatl_speed",
           "values": [
            23
           ]
          },
          {
           "axis": {
            "matches": true
           },
           "label": "perc_fatl_alcohol",
           "values": [
            42
           ]
          },
          {
           "axis": {
            "matches": true
           },
           "label": "perc_fatl_1st_time",
           "values": [
            86
           ]
          }
         ],
         "hovertemplate": "state=North Dakota<br>%{xaxis.title.text}=%{x}<br>%{yaxis.title.text}=%{y}<extra></extra>",
         "legendgroup": "North Dakota",
         "marker": {
          "color": "#FFA15A",
          "symbol": "circle"
         },
         "name": "North Dakota",
         "showlegend": true,
         "type": "splom"
        },
        {
         "dimensions": [
          {
           "axis": {
            "matches": true
           },
           "label": "drvr_fatl_col_bmiles",
           "values": [
            14.1
           ]
          },
          {
           "axis": {
            "matches": true
           },
           "label": "perc_fatl_speed",
           "values": [
            28
           ]
          },
          {
           "axis": {
            "matches": true
           },
           "label": "perc_fatl_alcohol",
           "values": [
            34
           ]
          },
          {
           "axis": {
            "matches": true
           },
           "label": "perc_fatl_1st_time",
           "values": [
            82
           ]
          }
         ],
         "hovertemplate": "state=Ohio<br>%{xaxis.title.text}=%{x}<br>%{yaxis.title.text}=%{y}<extra></extra>",
         "legendgroup": "Ohio",
         "marker": {
          "color": "#19d3f3",
          "symbol": "circle"
         },
         "name": "Ohio",
         "showlegend": true,
         "type": "splom"
        },
        {
         "dimensions": [
          {
           "axis": {
            "matches": true
           },
           "label": "drvr_fatl_col_bmiles",
           "values": [
            19.9
           ]
          },
          {
           "axis": {
            "matches": true
           },
           "label": "perc_fatl_speed",
           "values": [
            32
           ]
          },
          {
           "axis": {
            "matches": true
           },
           "label": "perc_fatl_alcohol",
           "values": [
            29
           ]
          },
          {
           "axis": {
            "matches": true
           },
           "label": "perc_fatl_1st_time",
           "values": [
            94
           ]
          }
         ],
         "hovertemplate": "state=Oklahoma<br>%{xaxis.title.text}=%{x}<br>%{yaxis.title.text}=%{y}<extra></extra>",
         "legendgroup": "Oklahoma",
         "marker": {
          "color": "#FF6692",
          "symbol": "circle"
         },
         "name": "Oklahoma",
         "showlegend": true,
         "type": "splom"
        },
        {
         "dimensions": [
          {
           "axis": {
            "matches": true
           },
           "label": "drvr_fatl_col_bmiles",
           "values": [
            12.8
           ]
          },
          {
           "axis": {
            "matches": true
           },
           "label": "perc_fatl_speed",
           "values": [
            33
           ]
          },
          {
           "axis": {
            "matches": true
           },
           "label": "perc_fatl_alcohol",
           "values": [
            26
           ]
          },
          {
           "axis": {
            "matches": true
           },
           "label": "perc_fatl_1st_time",
           "values": [
            90
           ]
          }
         ],
         "hovertemplate": "state=Oregon<br>%{xaxis.title.text}=%{x}<br>%{yaxis.title.text}=%{y}<extra></extra>",
         "legendgroup": "Oregon",
         "marker": {
          "color": "#B6E880",
          "symbol": "circle"
         },
         "name": "Oregon",
         "showlegend": true,
         "type": "splom"
        },
        {
         "dimensions": [
          {
           "axis": {
            "matches": true
           },
           "label": "drvr_fatl_col_bmiles",
           "values": [
            18.2
           ]
          },
          {
           "axis": {
            "matches": true
           },
           "label": "perc_fatl_speed",
           "values": [
            50
           ]
          },
          {
           "axis": {
            "matches": true
           },
           "label": "perc_fatl_alcohol",
           "values": [
            31
           ]
          },
          {
           "axis": {
            "matches": true
           },
           "label": "perc_fatl_1st_time",
           "values": [
            88
           ]
          }
         ],
         "hovertemplate": "state=Pennsylvania<br>%{xaxis.title.text}=%{x}<br>%{yaxis.title.text}=%{y}<extra></extra>",
         "legendgroup": "Pennsylvania",
         "marker": {
          "color": "#FF97FF",
          "symbol": "circle"
         },
         "name": "Pennsylvania",
         "showlegend": true,
         "type": "splom"
        },
        {
         "dimensions": [
          {
           "axis": {
            "matches": true
           },
           "label": "drvr_fatl_col_bmiles",
           "values": [
            11.1
           ]
          },
          {
           "axis": {
            "matches": true
           },
           "label": "perc_fatl_speed",
           "values": [
            34
           ]
          },
          {
           "axis": {
            "matches": true
           },
           "label": "perc_fatl_alcohol",
           "values": [
            38
           ]
          },
          {
           "axis": {
            "matches": true
           },
           "label": "perc_fatl_1st_time",
           "values": [
            79
           ]
          }
         ],
         "hovertemplate": "state=Rhode Island<br>%{xaxis.title.text}=%{x}<br>%{yaxis.title.text}=%{y}<extra></extra>",
         "legendgroup": "Rhode Island",
         "marker": {
          "color": "#FECB52",
          "symbol": "circle"
         },
         "name": "Rhode Island",
         "showlegend": true,
         "type": "splom"
        },
        {
         "dimensions": [
          {
           "axis": {
            "matches": true
           },
           "label": "drvr_fatl_col_bmiles",
           "values": [
            23.9
           ]
          },
          {
           "axis": {
            "matches": true
           },
           "label": "perc_fatl_speed",
           "values": [
            38
           ]
          },
          {
           "axis": {
            "matches": true
           },
           "label": "perc_fatl_alcohol",
           "values": [
            41
           ]
          },
          {
           "axis": {
            "matches": true
           },
           "label": "perc_fatl_1st_time",
           "values": [
            81
           ]
          }
         ],
         "hovertemplate": "state=South Carolina<br>%{xaxis.title.text}=%{x}<br>%{yaxis.title.text}=%{y}<extra></extra>",
         "legendgroup": "South Carolina",
         "marker": {
          "color": "#636efa",
          "symbol": "circle"
         },
         "name": "South Carolina",
         "showlegend": true,
         "type": "splom"
        },
        {
         "dimensions": [
          {
           "axis": {
            "matches": true
           },
           "label": "drvr_fatl_col_bmiles",
           "values": [
            19.4
           ]
          },
          {
           "axis": {
            "matches": true
           },
           "label": "perc_fatl_speed",
           "values": [
            31
           ]
          },
          {
           "axis": {
            "matches": true
           },
           "label": "perc_fatl_alcohol",
           "values": [
            33
           ]
          },
          {
           "axis": {
            "matches": true
           },
           "label": "perc_fatl_1st_time",
           "values": [
            86
           ]
          }
         ],
         "hovertemplate": "state=South Dakota<br>%{xaxis.title.text}=%{x}<br>%{yaxis.title.text}=%{y}<extra></extra>",
         "legendgroup": "South Dakota",
         "marker": {
          "color": "#EF553B",
          "symbol": "circle"
         },
         "name": "South Dakota",
         "showlegend": true,
         "type": "splom"
        },
        {
         "dimensions": [
          {
           "axis": {
            "matches": true
           },
           "label": "drvr_fatl_col_bmiles",
           "values": [
            19.5
           ]
          },
          {
           "axis": {
            "matches": true
           },
           "label": "perc_fatl_speed",
           "values": [
            21
           ]
          },
          {
           "axis": {
            "matches": true
           },
           "label": "perc_fatl_alcohol",
           "values": [
            29
           ]
          },
          {
           "axis": {
            "matches": true
           },
           "label": "perc_fatl_1st_time",
           "values": [
            81
           ]
          }
         ],
         "hovertemplate": "state=Tennessee<br>%{xaxis.title.text}=%{x}<br>%{yaxis.title.text}=%{y}<extra></extra>",
         "legendgroup": "Tennessee",
         "marker": {
          "color": "#00cc96",
          "symbol": "circle"
         },
         "name": "Tennessee",
         "showlegend": true,
         "type": "splom"
        },
        {
         "dimensions": [
          {
           "axis": {
            "matches": true
           },
           "label": "drvr_fatl_col_bmiles",
           "values": [
            19.4
           ]
          },
          {
           "axis": {
            "matches": true
           },
           "label": "perc_fatl_speed",
           "values": [
            40
           ]
          },
          {
           "axis": {
            "matches": true
           },
           "label": "perc_fatl_alcohol",
           "values": [
            38
           ]
          },
          {
           "axis": {
            "matches": true
           },
           "label": "perc_fatl_1st_time",
           "values": [
            87
           ]
          }
         ],
         "hovertemplate": "state=Texas<br>%{xaxis.title.text}=%{x}<br>%{yaxis.title.text}=%{y}<extra></extra>",
         "legendgroup": "Texas",
         "marker": {
          "color": "#ab63fa",
          "symbol": "circle"
         },
         "name": "Texas",
         "showlegend": true,
         "type": "splom"
        },
        {
         "dimensions": [
          {
           "axis": {
            "matches": true
           },
           "label": "drvr_fatl_col_bmiles",
           "values": [
            11.3
           ]
          },
          {
           "axis": {
            "matches": true
           },
           "label": "perc_fatl_speed",
           "values": [
            43
           ]
          },
          {
           "axis": {
            "matches": true
           },
           "label": "perc_fatl_alcohol",
           "values": [
            16
           ]
          },
          {
           "axis": {
            "matches": true
           },
           "label": "perc_fatl_1st_time",
           "values": [
            96
           ]
          }
         ],
         "hovertemplate": "state=Utah<br>%{xaxis.title.text}=%{x}<br>%{yaxis.title.text}=%{y}<extra></extra>",
         "legendgroup": "Utah",
         "marker": {
          "color": "#FFA15A",
          "symbol": "circle"
         },
         "name": "Utah",
         "showlegend": true,
         "type": "splom"
        },
        {
         "dimensions": [
          {
           "axis": {
            "matches": true
           },
           "label": "drvr_fatl_col_bmiles",
           "values": [
            13.6
           ]
          },
          {
           "axis": {
            "matches": true
           },
           "label": "perc_fatl_speed",
           "values": [
            30
           ]
          },
          {
           "axis": {
            "matches": true
           },
           "label": "perc_fatl_alcohol",
           "values": [
            30
           ]
          },
          {
           "axis": {
            "matches": true
           },
           "label": "perc_fatl_1st_time",
           "values": [
            95
           ]
          }
         ],
         "hovertemplate": "state=Vermont<br>%{xaxis.title.text}=%{x}<br>%{yaxis.title.text}=%{y}<extra></extra>",
         "legendgroup": "Vermont",
         "marker": {
          "color": "#19d3f3",
          "symbol": "circle"
         },
         "name": "Vermont",
         "showlegend": true,
         "type": "splom"
        },
        {
         "dimensions": [
          {
           "axis": {
            "matches": true
           },
           "label": "drvr_fatl_col_bmiles",
           "values": [
            12.7
           ]
          },
          {
           "axis": {
            "matches": true
           },
           "label": "perc_fatl_speed",
           "values": [
            19
           ]
          },
          {
           "axis": {
            "matches": true
           },
           "label": "perc_fatl_alcohol",
           "values": [
            27
           ]
          },
          {
           "axis": {
            "matches": true
           },
           "label": "perc_fatl_1st_time",
           "values": [
            88
           ]
          }
         ],
         "hovertemplate": "state=Virginia<br>%{xaxis.title.text}=%{x}<br>%{yaxis.title.text}=%{y}<extra></extra>",
         "legendgroup": "Virginia",
         "marker": {
          "color": "#FF6692",
          "symbol": "circle"
         },
         "name": "Virginia",
         "showlegend": true,
         "type": "splom"
        },
        {
         "dimensions": [
          {
           "axis": {
            "matches": true
           },
           "label": "drvr_fatl_col_bmiles",
           "values": [
            10.6
           ]
          },
          {
           "axis": {
            "matches": true
           },
           "label": "perc_fatl_speed",
           "values": [
            42
           ]
          },
          {
           "axis": {
            "matches": true
           },
           "label": "perc_fatl_alcohol",
           "values": [
            33
           ]
          },
          {
           "axis": {
            "matches": true
           },
           "label": "perc_fatl_1st_time",
           "values": [
            86
           ]
          }
         ],
         "hovertemplate": "state=Washington<br>%{xaxis.title.text}=%{x}<br>%{yaxis.title.text}=%{y}<extra></extra>",
         "legendgroup": "Washington",
         "marker": {
          "color": "#B6E880",
          "symbol": "circle"
         },
         "name": "Washington",
         "showlegend": true,
         "type": "splom"
        },
        {
         "dimensions": [
          {
           "axis": {
            "matches": true
           },
           "label": "drvr_fatl_col_bmiles",
           "values": [
            23.8
           ]
          },
          {
           "axis": {
            "matches": true
           },
           "label": "perc_fatl_speed",
           "values": [
            34
           ]
          },
          {
           "axis": {
            "matches": true
           },
           "label": "perc_fatl_alcohol",
           "values": [
            28
           ]
          },
          {
           "axis": {
            "matches": true
           },
           "label": "perc_fatl_1st_time",
           "values": [
            87
           ]
          }
         ],
         "hovertemplate": "state=West Virginia<br>%{xaxis.title.text}=%{x}<br>%{yaxis.title.text}=%{y}<extra></extra>",
         "legendgroup": "West Virginia",
         "marker": {
          "color": "#FF97FF",
          "symbol": "circle"
         },
         "name": "West Virginia",
         "showlegend": true,
         "type": "splom"
        },
        {
         "dimensions": [
          {
           "axis": {
            "matches": true
           },
           "label": "drvr_fatl_col_bmiles",
           "values": [
            13.8
           ]
          },
          {
           "axis": {
            "matches": true
           },
           "label": "perc_fatl_speed",
           "values": [
            36
           ]
          },
          {
           "axis": {
            "matches": true
           },
           "label": "perc_fatl_alcohol",
           "values": [
            33
           ]
          },
          {
           "axis": {
            "matches": true
           },
           "label": "perc_fatl_1st_time",
           "values": [
            84
           ]
          }
         ],
         "hovertemplate": "state=Wisconsin<br>%{xaxis.title.text}=%{x}<br>%{yaxis.title.text}=%{y}<extra></extra>",
         "legendgroup": "Wisconsin",
         "marker": {
          "color": "#FECB52",
          "symbol": "circle"
         },
         "name": "Wisconsin",
         "showlegend": true,
         "type": "splom"
        },
        {
         "dimensions": [
          {
           "axis": {
            "matches": true
           },
           "label": "drvr_fatl_col_bmiles",
           "values": [
            17.4
           ]
          },
          {
           "axis": {
            "matches": true
           },
           "label": "perc_fatl_speed",
           "values": [
            42
           ]
          },
          {
           "axis": {
            "matches": true
           },
           "label": "perc_fatl_alcohol",
           "values": [
            32
           ]
          },
          {
           "axis": {
            "matches": true
           },
           "label": "perc_fatl_1st_time",
           "values": [
            90
           ]
          }
         ],
         "hovertemplate": "state=Wyoming<br>%{xaxis.title.text}=%{x}<br>%{yaxis.title.text}=%{y}<extra></extra>",
         "legendgroup": "Wyoming",
         "marker": {
          "color": "#636efa",
          "symbol": "circle"
         },
         "name": "Wyoming",
         "showlegend": true,
         "type": "splom"
        }
       ],
       "layout": {
        "dragmode": "select",
        "height": 800,
        "hovermode": "closest",
        "legend": {
         "title": {
          "text": "state"
         },
         "tracegroupgap": 0
        },
        "margin": {
         "t": 60
        },
        "template": {
         "data": {
          "bar": [
           {
            "error_x": {
             "color": "#2a3f5f"
            },
            "error_y": {
             "color": "#2a3f5f"
            },
            "marker": {
             "line": {
              "color": "#E5ECF6",
              "width": 0.5
             },
             "pattern": {
              "fillmode": "overlay",
              "size": 10,
              "solidity": 0.2
             }
            },
            "type": "bar"
           }
          ],
          "barpolar": [
           {
            "marker": {
             "line": {
              "color": "#E5ECF6",
              "width": 0.5
             },
             "pattern": {
              "fillmode": "overlay",
              "size": 10,
              "solidity": 0.2
             }
            },
            "type": "barpolar"
           }
          ],
          "carpet": [
           {
            "aaxis": {
             "endlinecolor": "#2a3f5f",
             "gridcolor": "white",
             "linecolor": "white",
             "minorgridcolor": "white",
             "startlinecolor": "#2a3f5f"
            },
            "baxis": {
             "endlinecolor": "#2a3f5f",
             "gridcolor": "white",
             "linecolor": "white",
             "minorgridcolor": "white",
             "startlinecolor": "#2a3f5f"
            },
            "type": "carpet"
           }
          ],
          "choropleth": [
           {
            "colorbar": {
             "outlinewidth": 0,
             "ticks": ""
            },
            "type": "choropleth"
           }
          ],
          "contour": [
           {
            "colorbar": {
             "outlinewidth": 0,
             "ticks": ""
            },
            "colorscale": [
             [
              0,
              "#0d0887"
             ],
             [
              0.1111111111111111,
              "#46039f"
             ],
             [
              0.2222222222222222,
              "#7201a8"
             ],
             [
              0.3333333333333333,
              "#9c179e"
             ],
             [
              0.4444444444444444,
              "#bd3786"
             ],
             [
              0.5555555555555556,
              "#d8576b"
             ],
             [
              0.6666666666666666,
              "#ed7953"
             ],
             [
              0.7777777777777778,
              "#fb9f3a"
             ],
             [
              0.8888888888888888,
              "#fdca26"
             ],
             [
              1,
              "#f0f921"
             ]
            ],
            "type": "contour"
           }
          ],
          "contourcarpet": [
           {
            "colorbar": {
             "outlinewidth": 0,
             "ticks": ""
            },
            "type": "contourcarpet"
           }
          ],
          "heatmap": [
           {
            "colorbar": {
             "outlinewidth": 0,
             "ticks": ""
            },
            "colorscale": [
             [
              0,
              "#0d0887"
             ],
             [
              0.1111111111111111,
              "#46039f"
             ],
             [
              0.2222222222222222,
              "#7201a8"
             ],
             [
              0.3333333333333333,
              "#9c179e"
             ],
             [
              0.4444444444444444,
              "#bd3786"
             ],
             [
              0.5555555555555556,
              "#d8576b"
             ],
             [
              0.6666666666666666,
              "#ed7953"
             ],
             [
              0.7777777777777778,
              "#fb9f3a"
             ],
             [
              0.8888888888888888,
              "#fdca26"
             ],
             [
              1,
              "#f0f921"
             ]
            ],
            "type": "heatmap"
           }
          ],
          "heatmapgl": [
           {
            "colorbar": {
             "outlinewidth": 0,
             "ticks": ""
            },
            "colorscale": [
             [
              0,
              "#0d0887"
             ],
             [
              0.1111111111111111,
              "#46039f"
             ],
             [
              0.2222222222222222,
              "#7201a8"
             ],
             [
              0.3333333333333333,
              "#9c179e"
             ],
             [
              0.4444444444444444,
              "#bd3786"
             ],
             [
              0.5555555555555556,
              "#d8576b"
             ],
             [
              0.6666666666666666,
              "#ed7953"
             ],
             [
              0.7777777777777778,
              "#fb9f3a"
             ],
             [
              0.8888888888888888,
              "#fdca26"
             ],
             [
              1,
              "#f0f921"
             ]
            ],
            "type": "heatmapgl"
           }
          ],
          "histogram": [
           {
            "marker": {
             "pattern": {
              "fillmode": "overlay",
              "size": 10,
              "solidity": 0.2
             }
            },
            "type": "histogram"
           }
          ],
          "histogram2d": [
           {
            "colorbar": {
             "outlinewidth": 0,
             "ticks": ""
            },
            "colorscale": [
             [
              0,
              "#0d0887"
             ],
             [
              0.1111111111111111,
              "#46039f"
             ],
             [
              0.2222222222222222,
              "#7201a8"
             ],
             [
              0.3333333333333333,
              "#9c179e"
             ],
             [
              0.4444444444444444,
              "#bd3786"
             ],
             [
              0.5555555555555556,
              "#d8576b"
             ],
             [
              0.6666666666666666,
              "#ed7953"
             ],
             [
              0.7777777777777778,
              "#fb9f3a"
             ],
             [
              0.8888888888888888,
              "#fdca26"
             ],
             [
              1,
              "#f0f921"
             ]
            ],
            "type": "histogram2d"
           }
          ],
          "histogram2dcontour": [
           {
            "colorbar": {
             "outlinewidth": 0,
             "ticks": ""
            },
            "colorscale": [
             [
              0,
              "#0d0887"
             ],
             [
              0.1111111111111111,
              "#46039f"
             ],
             [
              0.2222222222222222,
              "#7201a8"
             ],
             [
              0.3333333333333333,
              "#9c179e"
             ],
             [
              0.4444444444444444,
              "#bd3786"
             ],
             [
              0.5555555555555556,
              "#d8576b"
             ],
             [
              0.6666666666666666,
              "#ed7953"
             ],
             [
              0.7777777777777778,
              "#fb9f3a"
             ],
             [
              0.8888888888888888,
              "#fdca26"
             ],
             [
              1,
              "#f0f921"
             ]
            ],
            "type": "histogram2dcontour"
           }
          ],
          "mesh3d": [
           {
            "colorbar": {
             "outlinewidth": 0,
             "ticks": ""
            },
            "type": "mesh3d"
           }
          ],
          "parcoords": [
           {
            "line": {
             "colorbar": {
              "outlinewidth": 0,
              "ticks": ""
             }
            },
            "type": "parcoords"
           }
          ],
          "pie": [
           {
            "automargin": true,
            "type": "pie"
           }
          ],
          "scatter": [
           {
            "fillpattern": {
             "fillmode": "overlay",
             "size": 10,
             "solidity": 0.2
            },
            "type": "scatter"
           }
          ],
          "scatter3d": [
           {
            "line": {
             "colorbar": {
              "outlinewidth": 0,
              "ticks": ""
             }
            },
            "marker": {
             "colorbar": {
              "outlinewidth": 0,
              "ticks": ""
             }
            },
            "type": "scatter3d"
           }
          ],
          "scattercarpet": [
           {
            "marker": {
             "colorbar": {
              "outlinewidth": 0,
              "ticks": ""
             }
            },
            "type": "scattercarpet"
           }
          ],
          "scattergeo": [
           {
            "marker": {
             "colorbar": {
              "outlinewidth": 0,
              "ticks": ""
             }
            },
            "type": "scattergeo"
           }
          ],
          "scattergl": [
           {
            "marker": {
             "colorbar": {
              "outlinewidth": 0,
              "ticks": ""
             }
            },
            "type": "scattergl"
           }
          ],
          "scattermapbox": [
           {
            "marker": {
             "colorbar": {
              "outlinewidth": 0,
              "ticks": ""
             }
            },
            "type": "scattermapbox"
           }
          ],
          "scatterpolar": [
           {
            "marker": {
             "colorbar": {
              "outlinewidth": 0,
              "ticks": ""
             }
            },
            "type": "scatterpolar"
           }
          ],
          "scatterpolargl": [
           {
            "marker": {
             "colorbar": {
              "outlinewidth": 0,
              "ticks": ""
             }
            },
            "type": "scatterpolargl"
           }
          ],
          "scatterternary": [
           {
            "marker": {
             "colorbar": {
              "outlinewidth": 0,
              "ticks": ""
             }
            },
            "type": "scatterternary"
           }
          ],
          "surface": [
           {
            "colorbar": {
             "outlinewidth": 0,
             "ticks": ""
            },
            "colorscale": [
             [
              0,
              "#0d0887"
             ],
             [
              0.1111111111111111,
              "#46039f"
             ],
             [
              0.2222222222222222,
              "#7201a8"
             ],
             [
              0.3333333333333333,
              "#9c179e"
             ],
             [
              0.4444444444444444,
              "#bd3786"
             ],
             [
              0.5555555555555556,
              "#d8576b"
             ],
             [
              0.6666666666666666,
              "#ed7953"
             ],
             [
              0.7777777777777778,
              "#fb9f3a"
             ],
             [
              0.8888888888888888,
              "#fdca26"
             ],
             [
              1,
              "#f0f921"
             ]
            ],
            "type": "surface"
           }
          ],
          "table": [
           {
            "cells": {
             "fill": {
              "color": "#EBF0F8"
             },
             "line": {
              "color": "white"
             }
            },
            "header": {
             "fill": {
              "color": "#C8D4E3"
             },
             "line": {
              "color": "white"
             }
            },
            "type": "table"
           }
          ]
         },
         "layout": {
          "annotationdefaults": {
           "arrowcolor": "#2a3f5f",
           "arrowhead": 0,
           "arrowwidth": 1
          },
          "autotypenumbers": "strict",
          "coloraxis": {
           "colorbar": {
            "outlinewidth": 0,
            "ticks": ""
           }
          },
          "colorscale": {
           "diverging": [
            [
             0,
             "#8e0152"
            ],
            [
             0.1,
             "#c51b7d"
            ],
            [
             0.2,
             "#de77ae"
            ],
            [
             0.3,
             "#f1b6da"
            ],
            [
             0.4,
             "#fde0ef"
            ],
            [
             0.5,
             "#f7f7f7"
            ],
            [
             0.6,
             "#e6f5d0"
            ],
            [
             0.7,
             "#b8e186"
            ],
            [
             0.8,
             "#7fbc41"
            ],
            [
             0.9,
             "#4d9221"
            ],
            [
             1,
             "#276419"
            ]
           ],
           "sequential": [
            [
             0,
             "#0d0887"
            ],
            [
             0.1111111111111111,
             "#46039f"
            ],
            [
             0.2222222222222222,
             "#7201a8"
            ],
            [
             0.3333333333333333,
             "#9c179e"
            ],
            [
             0.4444444444444444,
             "#bd3786"
            ],
            [
             0.5555555555555556,
             "#d8576b"
            ],
            [
             0.6666666666666666,
             "#ed7953"
            ],
            [
             0.7777777777777778,
             "#fb9f3a"
            ],
            [
             0.8888888888888888,
             "#fdca26"
            ],
            [
             1,
             "#f0f921"
            ]
           ],
           "sequentialminus": [
            [
             0,
             "#0d0887"
            ],
            [
             0.1111111111111111,
             "#46039f"
            ],
            [
             0.2222222222222222,
             "#7201a8"
            ],
            [
             0.3333333333333333,
             "#9c179e"
            ],
            [
             0.4444444444444444,
             "#bd3786"
            ],
            [
             0.5555555555555556,
             "#d8576b"
            ],
            [
             0.6666666666666666,
             "#ed7953"
            ],
            [
             0.7777777777777778,
             "#fb9f3a"
            ],
            [
             0.8888888888888888,
             "#fdca26"
            ],
            [
             1,
             "#f0f921"
            ]
           ]
          },
          "colorway": [
           "#636efa",
           "#EF553B",
           "#00cc96",
           "#ab63fa",
           "#FFA15A",
           "#19d3f3",
           "#FF6692",
           "#B6E880",
           "#FF97FF",
           "#FECB52"
          ],
          "font": {
           "color": "#2a3f5f"
          },
          "geo": {
           "bgcolor": "white",
           "lakecolor": "white",
           "landcolor": "#E5ECF6",
           "showlakes": true,
           "showland": true,
           "subunitcolor": "white"
          },
          "hoverlabel": {
           "align": "left"
          },
          "hovermode": "closest",
          "mapbox": {
           "style": "light"
          },
          "paper_bgcolor": "white",
          "plot_bgcolor": "#E5ECF6",
          "polar": {
           "angularaxis": {
            "gridcolor": "white",
            "linecolor": "white",
            "ticks": ""
           },
           "bgcolor": "#E5ECF6",
           "radialaxis": {
            "gridcolor": "white",
            "linecolor": "white",
            "ticks": ""
           }
          },
          "scene": {
           "xaxis": {
            "backgroundcolor": "#E5ECF6",
            "gridcolor": "white",
            "gridwidth": 2,
            "linecolor": "white",
            "showbackground": true,
            "ticks": "",
            "zerolinecolor": "white"
           },
           "yaxis": {
            "backgroundcolor": "#E5ECF6",
            "gridcolor": "white",
            "gridwidth": 2,
            "linecolor": "white",
            "showbackground": true,
            "ticks": "",
            "zerolinecolor": "white"
           },
           "zaxis": {
            "backgroundcolor": "#E5ECF6",
            "gridcolor": "white",
            "gridwidth": 2,
            "linecolor": "white",
            "showbackground": true,
            "ticks": "",
            "zerolinecolor": "white"
           }
          },
          "shapedefaults": {
           "line": {
            "color": "#2a3f5f"
           }
          },
          "ternary": {
           "aaxis": {
            "gridcolor": "white",
            "linecolor": "white",
            "ticks": ""
           },
           "baxis": {
            "gridcolor": "white",
            "linecolor": "white",
            "ticks": ""
           },
           "bgcolor": "#E5ECF6",
           "caxis": {
            "gridcolor": "white",
            "linecolor": "white",
            "ticks": ""
           }
          },
          "title": {
           "x": 0.05
          },
          "xaxis": {
           "automargin": true,
           "gridcolor": "white",
           "linecolor": "white",
           "ticks": "",
           "title": {
            "standoff": 15
           },
           "zerolinecolor": "white",
           "zerolinewidth": 2
          },
          "yaxis": {
           "automargin": true,
           "gridcolor": "white",
           "linecolor": "white",
           "ticks": "",
           "title": {
            "standoff": 15
           },
           "zerolinecolor": "white",
           "zerolinewidth": 2
          }
         }
        },
        "title": {
         "text": "Road_Accident_Mortality"
        },
        "width": 800
       }
      }
     },
     "metadata": {},
     "output_type": "display_data"
    }
   ],
   "source": [
    "import plotly.express as px\n",
    "fig = px.scatter_matrix(road_accident_train,\n",
    "    dimensions=[\"drvr_fatl_col_bmiles\", \"perc_fatl_speed\", \"perc_fatl_alcohol\", \"perc_fatl_1st_time\"],\n",
    "    color=\"state\")\n",
    "fig.update_layout(\n",
    "    title='Road_Accident_Mortality',\n",
    "    dragmode='select',\n",
    "    width=800,\n",
    "    height=800,\n",
    "    hovermode='closest',\n",
    ")\n",
    "fig.show()\n"
   ]
  },
  {
   "attachments": {},
   "cell_type": "markdown",
   "metadata": {},
   "source": [
    "# Pearson correlation coefficient"
   ]
  },
  {
   "cell_type": "code",
   "execution_count": 15,
   "metadata": {},
   "outputs": [
    {
     "name": "stderr",
     "output_type": "stream",
     "text": [
      "C:\\Users\\popo\\AppData\\Local\\Temp\\ipykernel_7144\\403362149.py:1: FutureWarning:\n",
      "\n",
      "The default value of numeric_only in DataFrame.corr is deprecated. In a future version, it will default to False. Select only valid columns or specify the value of numeric_only to silence this warning.\n",
      "\n"
     ]
    },
    {
     "data": {
      "text/html": [
       "<div>\n",
       "<style scoped>\n",
       "    .dataframe tbody tr th:only-of-type {\n",
       "        vertical-align: middle;\n",
       "    }\n",
       "\n",
       "    .dataframe tbody tr th {\n",
       "        vertical-align: top;\n",
       "    }\n",
       "\n",
       "    .dataframe thead th {\n",
       "        text-align: right;\n",
       "    }\n",
       "</style>\n",
       "<table border=\"1\" class=\"dataframe\">\n",
       "  <thead>\n",
       "    <tr style=\"text-align: right;\">\n",
       "      <th></th>\n",
       "      <th>drvr_fatl_col_bmiles</th>\n",
       "      <th>perc_fatl_speed</th>\n",
       "      <th>perc_fatl_alcohol</th>\n",
       "      <th>perc_fatl_1st_time</th>\n",
       "      <th>million_miles_annually</th>\n",
       "    </tr>\n",
       "  </thead>\n",
       "  <tbody>\n",
       "    <tr>\n",
       "      <th>drvr_fatl_col_bmiles</th>\n",
       "      <td>1.000000</td>\n",
       "      <td>-0.029080</td>\n",
       "      <td>0.199426</td>\n",
       "      <td>-0.017942</td>\n",
       "      <td>-0.077133</td>\n",
       "    </tr>\n",
       "    <tr>\n",
       "      <th>perc_fatl_speed</th>\n",
       "      <td>-0.029080</td>\n",
       "      <td>1.000000</td>\n",
       "      <td>0.286244</td>\n",
       "      <td>0.014066</td>\n",
       "      <td>-0.043199</td>\n",
       "    </tr>\n",
       "    <tr>\n",
       "      <th>perc_fatl_alcohol</th>\n",
       "      <td>0.199426</td>\n",
       "      <td>0.286244</td>\n",
       "      <td>1.000000</td>\n",
       "      <td>-0.245455</td>\n",
       "      <td>-0.034561</td>\n",
       "    </tr>\n",
       "    <tr>\n",
       "      <th>perc_fatl_1st_time</th>\n",
       "      <td>-0.017942</td>\n",
       "      <td>0.014066</td>\n",
       "      <td>-0.245455</td>\n",
       "      <td>1.000000</td>\n",
       "      <td>-0.128928</td>\n",
       "    </tr>\n",
       "    <tr>\n",
       "      <th>million_miles_annually</th>\n",
       "      <td>-0.077133</td>\n",
       "      <td>-0.043199</td>\n",
       "      <td>-0.034561</td>\n",
       "      <td>-0.128928</td>\n",
       "      <td>1.000000</td>\n",
       "    </tr>\n",
       "  </tbody>\n",
       "</table>\n",
       "</div>"
      ],
      "text/plain": [
       "                        drvr_fatl_col_bmiles  perc_fatl_speed  \\\n",
       "drvr_fatl_col_bmiles                1.000000        -0.029080   \n",
       "perc_fatl_speed                    -0.029080         1.000000   \n",
       "perc_fatl_alcohol                   0.199426         0.286244   \n",
       "perc_fatl_1st_time                 -0.017942         0.014066   \n",
       "million_miles_annually             -0.077133        -0.043199   \n",
       "\n",
       "                        perc_fatl_alcohol  perc_fatl_1st_time  \\\n",
       "drvr_fatl_col_bmiles             0.199426           -0.017942   \n",
       "perc_fatl_speed                  0.286244            0.014066   \n",
       "perc_fatl_alcohol                1.000000           -0.245455   \n",
       "perc_fatl_1st_time              -0.245455            1.000000   \n",
       "million_miles_annually          -0.034561           -0.128928   \n",
       "\n",
       "                        million_miles_annually  \n",
       "drvr_fatl_col_bmiles                 -0.077133  \n",
       "perc_fatl_speed                      -0.043199  \n",
       "perc_fatl_alcohol                    -0.034561  \n",
       "perc_fatl_1st_time                   -0.128928  \n",
       "million_miles_annually                1.000000  "
      ]
     },
     "execution_count": 15,
     "metadata": {},
     "output_type": "execute_result"
    }
   ],
   "source": [
    "\n",
    "pearsoncorr = road_accident_train.corr(method='pearson')\n",
    "pearsoncorr"
   ]
  },
  {
   "cell_type": "code",
   "execution_count": 16,
   "metadata": {},
   "outputs": [
    {
     "data": {
      "text/plain": [
       "<AxesSubplot: >"
      ]
     },
     "execution_count": 16,
     "metadata": {},
     "output_type": "execute_result"
    },
    {
     "data": {
      "image/png": "[encoded data removed]",
      "text/plain": [
       "<Figure size 640x480 with 2 Axes>"
      ]
     },
     "metadata": {},
     "output_type": "display_data"
    }
   ],
   "source": [
    "sb.heatmap(pearsoncorr, \n",
    "            xticklabels=pearsoncorr.columns,\n",
    "            yticklabels=pearsoncorr.columns,\n",
    "            cmap='RdBu_r',\n",
    "            annot=True,\n",
    "            linewidth=0.5)"
   ]
  },
  {
   "attachments": {},
   "cell_type": "markdown",
   "metadata": {},
   "source": [
    "# Multi_Varient_Regression"
   ]
  },
  {
   "cell_type": "code",
   "execution_count": 17,
   "metadata": {},
   "outputs": [],
   "source": [
    "from mpl_toolkits.mplot3d import Axes3D\n",
    "import pandas as pd\n",
    "import matplotlib.pyplot as plt\n",
    "import numpy as np\n",
    "from sklearn import linear_model\n",
    "np.random.seed(19680801)"
   ]
  },
  {
   "cell_type": "code",
   "execution_count": 18,
   "metadata": {},
   "outputs": [],
   "source": [
    "import pandas as pd\n",
    "from sklearn import linear_model\n",
    "import statsmodels.api as sm"
   ]
  },
  {
   "cell_type": "code",
   "execution_count": 19,
   "metadata": {},
   "outputs": [
    {
     "data": {
      "text/plain": [
       "False"
      ]
     },
     "execution_count": 19,
     "metadata": {},
     "output_type": "execute_result"
    }
   ],
   "source": [
    "road_accident_train.isnull().values.any()"
   ]
  },
  {
   "cell_type": "code",
   "execution_count": 20,
   "metadata": {},
   "outputs": [
    {
     "name": "stdout",
     "output_type": "stream",
     "text": [
      "Intercept: \n",
      " 11.487059143850544\n",
      "Coefficients: \n",
      " [-0.04015906  0.1817491 ]\n",
      "                             OLS Regression Results                             \n",
      "================================================================================\n",
      "Dep. Variable:     drvr_fatl_col_bmiles   R-squared:                       0.048\n",
      "Model:                              OLS   Adj. R-squared:                  0.008\n",
      "Method:                   Least Squares   F-statistic:                     1.206\n",
      "Date:                  Mon, 20 Feb 2023   Prob (F-statistic):              0.308\n",
      "Time:                          17:20:22   Log-Likelihood:                -142.84\n",
      "No. Observations:                    51   AIC:                             291.7\n",
      "Df Residuals:                        48   BIC:                             297.5\n",
      "Df Model:                             2                                         \n",
      "Covariance Type:              nonrobust                                         \n",
      "=====================================================================================\n",
      "                        coef    std err          t      P>|t|      [0.025      0.975]\n",
      "-------------------------------------------------------------------------------------\n",
      "const                11.4871      3.647      3.150      0.003       4.155      18.819\n",
      "perc_fatl_speed      -0.0402      0.063     -0.639      0.526      -0.167       0.086\n",
      "perc_fatl_alcohol     0.1817      0.118      1.539      0.130      -0.056       0.419\n",
      "==============================================================================\n",
      "Omnibus:                        0.339   Durbin-Watson:                   1.965\n",
      "Prob(Omnibus):                  0.844   Jarque-Bera (JB):                0.517\n",
      "Skew:                          -0.107   Prob(JB):                        0.772\n",
      "Kurtosis:                       2.556   Cond. No.                         285.\n",
      "==============================================================================\n",
      "\n",
      "Notes:\n",
      "[1] Standard Errors assume that the covariance matrix of the errors is correctly specified.\n"
     ]
    }
   ],
   "source": [
    "\n",
    "x = road_accident_train[[\"perc_fatl_speed\",\"perc_fatl_alcohol\"]]\n",
    "y = road_accident_train['drvr_fatl_col_bmiles']\n",
    "\n",
    "# with sklearn\n",
    "regr = linear_model.LinearRegression()\n",
    "regr.fit(x, y)\n",
    "\n",
    "print('Intercept: \\n', regr.intercept_)\n",
    "print('Coefficients: \\n', regr.coef_)\n",
    "\n",
    "# with statsmodels\n",
    "x = sm.add_constant(x) # adding a constant\n",
    " \n",
    "model = sm.OLS(y, x).fit()\n",
    "predictions = model.predict(x) \n",
    " \n",
    "print_model = model.summary()\n",
    "print(print_model)"
   ]
  },
  {
   "attachments": {},
   "cell_type": "markdown",
   "metadata": {},
   "source": [
    "# PCA "
   ]
  },
  {
   "cell_type": "code",
   "execution_count": 26,
   "metadata": {},
   "outputs": [],
   "source": [
    "from sklearn.datasets import load_wine\n",
    "from sklearn.model_selection import train_test_split\n",
    "from sklearn.preprocessing import StandardScaler\n",
    "# x = road_accident_train[[\"perc_fatl_speed\",\"perc_fatl_alcohol\"]]\n",
    "# y = road_accident_train['drvr_fatl_col_bmiles']\n",
    "scaled_X_train = StandardScaler().fit_transform(x)"
   ]
  },
  {
   "cell_type": "code",
   "execution_count": 28,
   "metadata": {},
   "outputs": [],
   "source": [
    "from sklearn.datasets import load_wine\n",
    "from sklearn.model_selection import train_test_split\n",
    "from sklearn.preprocessing import StandardScaler\n",
    "X = road_accident_train[[\"perc_fatl_speed\", \"perc_fatl_alcohol\", \"perc_fatl_1st_time\"]]\n",
    "\n",
    "scaled_X_train = StandardScaler().fit_transform(X)\n"
   ]
  },
  {
   "cell_type": "code",
   "execution_count": 33,
   "metadata": {},
   "outputs": [
    {
     "name": "stderr",
     "output_type": "stream",
     "text": [
      "c:\\Users\\popo\\anaconda3\\lib\\site-packages\\sklearn\\neighbors\\_classification.py:237: FutureWarning:\n",
      "\n",
      "Unlike other reduction functions (e.g. `skew`, `kurtosis`), the default behavior of `mode` typically preserves the axis it acts along. In SciPy 1.11.0, this behavior will change: the default value of `keepdims` will become False, the `axis` over which the statistic is taken will be eliminated, and the value None will no longer be accepted. Set `keepdims` to True or False to avoid this warning.\n",
      "\n",
      "c:\\Users\\popo\\anaconda3\\lib\\site-packages\\sklearn\\neighbors\\_classification.py:237: FutureWarning:\n",
      "\n",
      "Unlike other reduction functions (e.g. `skew`, `kurtosis`), the default behavior of `mode` typically preserves the axis it acts along. In SciPy 1.11.0, this behavior will change: the default value of `keepdims` will become False, the `axis` over which the statistic is taken will be eliminated, and the value None will no longer be accepted. Set `keepdims` to True or False to avoid this warning.\n",
      "\n"
     ]
    },
    {
     "ename": "IndexError",
     "evalue": "only integers, slices (`:`), ellipsis (`...`), numpy.newaxis (`None`) and integer or boolean arrays are valid indices",
     "output_type": "error",
     "traceback": [
      "\u001b[1;31m---------------------------------------------------------------------------\u001b[0m",
      "\u001b[1;31mIndexError\u001b[0m                                Traceback (most recent call last)",
      "\u001b[1;32m~\\AppData\\Local\\Temp\\ipykernel_7144\\755026553.py\u001b[0m in \u001b[0;36m<module>\u001b[1;34m\u001b[0m\n\u001b[0;32m     35\u001b[0m \u001b[0max1\u001b[0m\u001b[1;33m.\u001b[0m\u001b[0mset_title\u001b[0m\u001b[1;33m(\u001b[0m\u001b[1;34m\"KNN without scaling\"\u001b[0m\u001b[1;33m)\u001b[0m\u001b[1;33m\u001b[0m\u001b[1;33m\u001b[0m\u001b[0m\n\u001b[0;32m     36\u001b[0m \u001b[1;33m\u001b[0m\u001b[0m\n\u001b[1;32m---> 37\u001b[1;33m \u001b[0mfit_and_plot_model\u001b[0m\u001b[1;33m(\u001b[0m\u001b[0mX_plot_scaled\u001b[0m\u001b[1;33m,\u001b[0m \u001b[0my_transformed\u001b[0m\u001b[1;33m,\u001b[0m \u001b[0mclf\u001b[0m\u001b[1;33m,\u001b[0m \u001b[0max2\u001b[0m\u001b[1;33m)\u001b[0m\u001b[1;33m\u001b[0m\u001b[1;33m\u001b[0m\u001b[0m\n\u001b[0m\u001b[0;32m     38\u001b[0m \u001b[0max2\u001b[0m\u001b[1;33m.\u001b[0m\u001b[0mset_xlabel\u001b[0m\u001b[1;33m(\u001b[0m\u001b[1;34m\"scaled proline\"\u001b[0m\u001b[1;33m)\u001b[0m\u001b[1;33m\u001b[0m\u001b[1;33m\u001b[0m\u001b[0m\n\u001b[0;32m     39\u001b[0m \u001b[0max2\u001b[0m\u001b[1;33m.\u001b[0m\u001b[0mset_ylabel\u001b[0m\u001b[1;33m(\u001b[0m\u001b[1;34m\"scaled hue\"\u001b[0m\u001b[1;33m)\u001b[0m\u001b[1;33m\u001b[0m\u001b[1;33m\u001b[0m\u001b[0m\n",
      "\u001b[1;32m~\\AppData\\Local\\Temp\\ipykernel_7144\\755026553.py\u001b[0m in \u001b[0;36mfit_and_plot_model\u001b[1;34m(X_plot, y, clf, ax)\u001b[0m\n\u001b[0;32m     23\u001b[0m         \u001b[0max\u001b[0m\u001b[1;33m=\u001b[0m\u001b[0max\u001b[0m\u001b[1;33m,\u001b[0m\u001b[1;33m\u001b[0m\u001b[1;33m\u001b[0m\u001b[0m\n\u001b[0;32m     24\u001b[0m     )\n\u001b[1;32m---> 25\u001b[1;33m     \u001b[0mdisp\u001b[0m\u001b[1;33m.\u001b[0m\u001b[0max_\u001b[0m\u001b[1;33m.\u001b[0m\u001b[0mscatter\u001b[0m\u001b[1;33m(\u001b[0m\u001b[0mX_plot\u001b[0m\u001b[1;33m[\u001b[0m\u001b[1;34m\"perc_fatl_speed\"\u001b[0m\u001b[1;33m]\u001b[0m\u001b[1;33m,\u001b[0m \u001b[0mX_plot\u001b[0m\u001b[1;33m[\u001b[0m\u001b[1;34m\"perc_fatl_alcohol\"\u001b[0m\u001b[1;33m]\u001b[0m\u001b[1;33m,\u001b[0m \u001b[0mc\u001b[0m\u001b[1;33m=\u001b[0m\u001b[0my\u001b[0m\u001b[1;33m,\u001b[0m \u001b[0ms\u001b[0m\u001b[1;33m=\u001b[0m\u001b[1;36m20\u001b[0m\u001b[1;33m,\u001b[0m \u001b[0medgecolor\u001b[0m\u001b[1;33m=\u001b[0m\u001b[1;34m\"k\"\u001b[0m\u001b[1;33m)\u001b[0m\u001b[1;33m\u001b[0m\u001b[1;33m\u001b[0m\u001b[0m\n\u001b[0m\u001b[0;32m     26\u001b[0m     \u001b[0mdisp\u001b[0m\u001b[1;33m.\u001b[0m\u001b[0max_\u001b[0m\u001b[1;33m.\u001b[0m\u001b[0mset_xlim\u001b[0m\u001b[1;33m(\u001b[0m\u001b[1;33m(\u001b[0m\u001b[0mX_plot\u001b[0m\u001b[1;33m[\u001b[0m\u001b[1;34m\"perc_fatl_speed\"\u001b[0m\u001b[1;33m]\u001b[0m\u001b[1;33m.\u001b[0m\u001b[0mmin\u001b[0m\u001b[1;33m(\u001b[0m\u001b[1;33m)\u001b[0m\u001b[1;33m,\u001b[0m \u001b[0mX_plot\u001b[0m\u001b[1;33m[\u001b[0m\u001b[1;34m\"perc_fatl_speed\"\u001b[0m\u001b[1;33m]\u001b[0m\u001b[1;33m.\u001b[0m\u001b[0mmax\u001b[0m\u001b[1;33m(\u001b[0m\u001b[1;33m)\u001b[0m\u001b[1;33m)\u001b[0m\u001b[1;33m)\u001b[0m\u001b[1;33m\u001b[0m\u001b[1;33m\u001b[0m\u001b[0m\n\u001b[0;32m     27\u001b[0m     \u001b[0mdisp\u001b[0m\u001b[1;33m.\u001b[0m\u001b[0max_\u001b[0m\u001b[1;33m.\u001b[0m\u001b[0mset_ylim\u001b[0m\u001b[1;33m(\u001b[0m\u001b[1;33m(\u001b[0m\u001b[0mX_plot\u001b[0m\u001b[1;33m[\u001b[0m\u001b[1;34m\"perc_fatl_alcohol\"\u001b[0m\u001b[1;33m]\u001b[0m\u001b[1;33m.\u001b[0m\u001b[0mmin\u001b[0m\u001b[1;33m(\u001b[0m\u001b[1;33m)\u001b[0m\u001b[1;33m,\u001b[0m \u001b[0mX_plot\u001b[0m\u001b[1;33m[\u001b[0m\u001b[1;34m\"perc_fatl_alcohol\"\u001b[0m\u001b[1;33m]\u001b[0m\u001b[1;33m.\u001b[0m\u001b[0mmax\u001b[0m\u001b[1;33m(\u001b[0m\u001b[1;33m)\u001b[0m\u001b[1;33m)\u001b[0m\u001b[1;33m)\u001b[0m\u001b[1;33m\u001b[0m\u001b[1;33m\u001b[0m\u001b[0m\n",
      "\u001b[1;31mIndexError\u001b[0m: only integers, slices (`:`), ellipsis (`...`), numpy.newaxis (`None`) and integer or boolean arrays are valid indices"
     ]
    },
    {
     "data": {
      "image/png": "[encoded data removed]",
      "text/plain": [
       "<Figure size 1200x600 with 2 Axes>"
      ]
     },
     "metadata": {},
     "output_type": "display_data"
    }
   ],
   "source": [
    "import matplotlib.pyplot as plt\n",
    "from sklearn.inspection import DecisionBoundaryDisplay\n",
    "from sklearn.neighbors import KNeighborsClassifier\n",
    "from sklearn import preprocessing\n",
    "from sklearn import utils\n",
    "\n",
    "#convert y values to categorical values\n",
    "\n",
    "\n",
    "\n",
    "X_plot = road_accident_train[[\"perc_fatl_speed\", \"perc_fatl_alcohol\"]]\n",
    "X_plot_scaled = StandardScaler().fit_transform(X_plot)\n",
    "clf = KNeighborsClassifier(n_neighbors=20)\n",
    "\n",
    "\n",
    "def fit_and_plot_model(X_plot, y, clf, ax):\n",
    "    clf.fit(X_plot, y)\n",
    "    disp = DecisionBoundaryDisplay.from_estimator(\n",
    "        clf,\n",
    "        X_plot,\n",
    "        response_method=\"predict\",\n",
    "        alpha=0.5,\n",
    "        ax=ax,\n",
    "    )\n",
    "    disp.ax_.scatter(X_plot[\"perc_fatl_speed\"], X_plot[\"perc_fatl_alcohol\"], c=y, s=20, edgecolor=\"k\")\n",
    "    disp.ax_.set_xlim((X_plot[\"perc_fatl_speed\"].min(), X_plot[\"perc_fatl_speed\"].max()))\n",
    "    disp.ax_.set_ylim((X_plot[\"perc_fatl_alcohol\"].min(), X_plot[\"perc_fatl_alcohol\"].max()))\n",
    "    return disp.ax_\n",
    "\n",
    "\n",
    "fig, (ax1, ax2) = plt.subplots(ncols=2, figsize=(12, 6))\n",
    "lab = preprocessing.LabelEncoder()\n",
    "y_transformed = lab.fit_transform(y)\n",
    "fit_and_plot_model(X_plot,y_transformed, clf, ax1)\n",
    "ax1.set_title(\"KNN without scaling\")\n",
    "\n",
    "fit_and_plot_model(X_plot_scaled, y_transformed, clf, ax2)\n",
    "ax2.set_xlabel(\"scaled proline\")\n",
    "ax2.set_ylabel(\"scaled hue\")\n",
    "_ = ax2.set_title(\"KNN with scaling\")"
   ]
  },
  {
   "cell_type": "code",
   "execution_count": 37,
   "metadata": {},
   "outputs": [],
   "source": [
    "from sklearn.datasets import load_wine\n",
    "from sklearn.model_selection import train_test_split\n",
    "from  sklearn.preprocessing import StandardScaler\n",
    "x=road_accident_train[[\"perc_fatl_speed\", \"perc_fatl_alcohol\", \"perc_fatl_1st_time\"]]\n",
    "X_train, X_test, y_train, y_test = train_test_split(\n",
    "   x, y, test_size=0.30, random_state=42\n",
    ")\n",
    "scaled_X_train = StandardScaler().fit_transform(X_train)"
   ]
  },
  {
   "cell_type": "code",
   "execution_count": 38,
   "metadata": {},
   "outputs": [
    {
     "data": {
      "image/png": "[encoded data removed]",
      "text/plain": [
       "<Figure size 600x800 with 1 Axes>"
      ]
     },
     "metadata": {},
     "output_type": "display_data"
    }
   ],
   "source": [
    "import pandas as pd\n",
    "from sklearn.decomposition import PCA\n",
    "\n",
    "pca = PCA(n_components=2).fit(X_train)\n",
    "scaled_pca = PCA(n_components=2).fit(scaled_X_train)\n",
    "X_train_transformed = pca.transform(X_train)\n",
    "X_train_std_transformed = scaled_pca.transform(scaled_X_train)\n",
    "\n",
    "first_pca_component = pd.DataFrame(\n",
    "    pca.components_[0], index= X_train.columns, columns=[\"without scaling\"]\n",
    ")\n",
    "first_pca_component[\"with scaling\"] = scaled_pca.components_[0]\n",
    "first_pca_component.plot.bar(\n",
    "    title=\"Weights of the first principal component\", figsize=(6, 8)\n",
    ")\n",
    "\n",
    "_ = plt.tight_layout()"
   ]
  },
  {
   "attachments": {},
   "cell_type": "markdown",
   "metadata": {},
   "source": [
    "# Visualize the first two principal components"
   ]
  },
  {
   "cell_type": "code",
   "execution_count": 101,
   "metadata": {},
   "outputs": [
    {
     "data": {
      "image/png": "[encoded data removed]",
      "text/plain": [
       "<Figure size 1000x500 with 2 Axes>"
      ]
     },
     "metadata": {},
     "output_type": "display_data"
    }
   ],
   "source": [
    "fig, (ax1, ax2) = plt.subplots(nrows=1, ncols=2, figsize=(10, 5))\n",
    "# speeding, alcohol influence, and first-time accidents.\n",
    "# \"perc_fatl_speed\", \"perc_fatl_alcohol\", \"perc_fatl_1st_time\"\n",
    "target_classes = [['perc_fatl_speed', 'perc_fatl_alcohol', 'perc_fatl_1st_time']] #\n",
    "colors = (\"blue\", \"red\", \"green\")\n",
    "markers = (\"^\", \"s\", \"o\")\n",
    "\n",
    "for target_class, color, marker in zip(target_classes, colors, markers):\n",
    "    ax1.scatter(\n",
    "        x=X_train_std_transformed[y_train == \"perc_fatl_speed\", 0],\n",
    "        y=X_train_std_transformed[y_train =='state', 1],\n",
    "        color=color,\n",
    "        label=f\"class {target_class}\",\n",
    "        alpha=0.5,\n",
    "        marker=marker,\n",
    "    )\n",
    "\n",
    "    ax2.scatter(\n",
    "        x=X_train_std_transformed[y_train ==\"perc_fatl_alcohol\", 0],\n",
    "        y=X_train_std_transformed[y_train =='state', 1],\n",
    "        color=color,\n",
    "        label=f\"class {target_class}\",\n",
    "        alpha=0.5,\n",
    "        marker=marker,\n",
    "    )\n",
    "\n",
    "ax1.set_title(\"Unscaled training dataset after PCA\")\n",
    "ax2.set_title(\"Standardized training dataset after PCA\")\n",
    "\n",
    "for ax in (ax1, ax2):\n",
    "    ax.set_xlabel(\"1st principal component\")\n",
    "    ax.set_ylabel(\"2nd principal component\")\n",
    "    ax.legend(loc=\"upper right\")\n",
    "    ax.grid()\n",
    "\n",
    "_ = plt.tight_layout()"
   ]
  },
  {
   "attachments": {},
   "cell_type": "markdown",
   "metadata": {},
   "source": [
    "# Kmeans"
   ]
  },
  {
   "cell_type": "code",
   "execution_count": null,
   "metadata": {},
   "outputs": [
    {
     "data": {
      "text/plain": [
       "(51, 6)"
      ]
     },
     "execution_count": 131,
     "metadata": {},
     "output_type": "execute_result"
    }
   ],
   "source": [
    "#Importing required modules\n",
    " \n",
    "from sklearn.datasets import load_digits\n",
    "from sklearn.decomposition import PCA\n",
    "from sklearn.cluster import KMeans\n",
    "import numpy as np\n",
    " \n",
    "\n",
    "pca = PCA(2)\n",
    " \n",
    "road_accident_train.shape"
   ]
  },
  {
   "cell_type": "code",
   "execution_count": null,
   "metadata": {},
   "outputs": [
    {
     "name": "stderr",
     "output_type": "stream",
     "text": [
      "c:\\Users\\popo\\anaconda3\\lib\\site-packages\\sklearn\\cluster\\_kmeans.py:1332: UserWarning:\n",
      "\n",
      "KMeans is known to have a memory leak on Windows with MKL, when there are less chunks than available threads. You can avoid it by setting the environment variable OMP_NUM_THREADS=1.\n",
      "\n"
     ]
    },
    {
     "name": "stdout",
     "output_type": "stream",
     "text": [
      "[4 3 3 7 0 3 2 3 3 7 7 2 3 3 7 1 0 5 3 4 3 8 5 1 7 2 6 1 3 4 5 7 4 4 8 8 3\n",
      " 0 2 6 6 4 5 2 9 3 1 2 0 4 2]\n"
     ]
    }
   ],
   "source": [
    "#Import required module\n",
    "from sklearn.cluster import KMeans\n",
    " \n",
    "#Initialize the class object\n",
    "kmeans = KMeans(n_clusters= 10)\n",
    " \n",
    "#predict the labels of clusters.\n",
    "label = kmeans.fit_predict(road_accident_train[[\"perc_fatl_speed\", \"perc_fatl_alcohol\", \"perc_fatl_1st_time\"]])\n",
    " \n",
    "print(label)"
   ]
  },
  {
   "cell_type": "code",
   "execution_count": null,
   "metadata": {},
   "outputs": [
    {
     "name": "stderr",
     "output_type": "stream",
     "text": [
      "c:\\Users\\popo\\anaconda3\\lib\\site-packages\\sklearn\\cluster\\_kmeans.py:1332: UserWarning:\n",
      "\n",
      "KMeans is known to have a memory leak on Windows with MKL, when there are less chunks than available threads. You can avoid it by setting the environment variable OMP_NUM_THREADS=1.\n",
      "\n"
     ]
    }
   ],
   "source": [
    "#Import required module\n",
    "from sklearn.cluster import KMeans\n",
    " \n",
    "#Initialize the class object\n",
    "kmeans = KMeans(n_clusters= 10)\n",
    " \n",
    "#predict the labels of clusters.\n",
    "label = kmeans.fit_predict(road_accident_train[[\"perc_fatl_speed\", \"perc_fatl_alcohol\", \"perc_fatl_1st_time\"]])\n",
    "\n"
   ]
  },
  {
   "attachments": {},
   "cell_type": "markdown",
   "metadata": {},
   "source": [
    "# Clustering "
   ]
  },
  {
   "cell_type": "code",
   "execution_count": 67,
   "metadata": {},
   "outputs": [
    {
     "name": "stderr",
     "output_type": "stream",
     "text": [
      "c:\\Users\\popo\\anaconda3\\lib\\site-packages\\sklearn\\cluster\\_kmeans.py:1332: UserWarning:\n",
      "\n",
      "KMeans is known to have a memory leak on Windows with MKL, when there are less chunks than available threads. You can avoid it by setting the environment variable OMP_NUM_THREADS=1.\n",
      "\n"
     ]
    }
   ],
   "source": [
    "from sklearn.cluster import KMeans\n",
    "import numpy as np\n",
    "# k means\n",
    "kmeans = KMeans(n_clusters=3, random_state=0)\n",
    "road_accident_train['cluster'] = kmeans.fit_predict(road_accident_train[[\"perc_fatl_speed\", \"perc_fatl_alcohol\", \"perc_fatl_1st_time\"]])\n",
    "# get centroids\n",
    "centroids = kmeans.cluster_centers_\n",
    "cen_x = [i[0] for i in centroids] \n",
    "cen_y = [i[1] for i in centroids]\n",
    "## add to df\n",
    "road_accident_train['cen_x'] = road_accident_train.cluster.map({0:cen_x[0], 1:cen_x[1], 2:cen_x[2]})\n",
    "road_accident_train['cen_y'] = road_accident_train.cluster.map({0:cen_y[0], 1:cen_y[1], 2:cen_y[2]})\n",
    "# define and map colors\n",
    "colors = ['#DF2020', '#81DF20', '#2095DF']\n",
    "road_accident_train['c'] = road_accident_train.cluster.map({0:colors[0], 1:colors[1], 2:colors[2]})"
   ]
  },
  {
   "cell_type": "code",
   "execution_count": 68,
   "metadata": {},
   "outputs": [
    {
     "data": {
      "text/plain": [
       "<matplotlib.collections.PathCollection at 0x1614d345040>"
      ]
     },
     "execution_count": 68,
     "metadata": {},
     "output_type": "execute_result"
    },
    {
     "data": {
      "image/png": "[encoded data removed]",
      "text/plain": [
       "<Figure size 640x480 with 1 Axes>"
      ]
     },
     "metadata": {},
     "output_type": "display_data"
    }
   ],
   "source": [
    "plt.scatter(road_accident_train.perc_fatl_speed, road_accident_train.perc_fatl_alcohol, c=road_accident_train.c, s=road_accident_train.drvr_fatl_col_bmiles, alpha = 0.6)"
   ]
  },
  {
   "cell_type": "code",
   "execution_count": 69,
   "metadata": {},
   "outputs": [
    {
     "data": {
      "text/plain": [
       "Text(0, 0.5, 'perc_fatl_alcohol')"
      ]
     },
     "execution_count": 69,
     "metadata": {},
     "output_type": "execute_result"
    },
    {
     "data": {
      "image/png": "[encoded data removed]",
      "text/plain": [
       "<Figure size 600x600 with 1 Axes>"
      ]
     },
     "metadata": {},
     "output_type": "display_data"
    }
   ],
   "source": [
    "from matplotlib.lines import Line2D\n",
    "fig, ax = plt.subplots(1, figsize=(6,6))\n",
    "# plot data\n",
    "# road_accident_train.perc_fatl_speed, road_accident_train.perc_fatl_alcohol, c=road_accident_train.c, s=road_accident_train.drvr_fatl_col_bmiles\n",
    "plt.scatter(road_accident_train.perc_fatl_speed, road_accident_train.perc_fatl_alcohol, c=road_accident_train.c, alpha = 0.6, s=road_accident_train.drvr_fatl_col_bmiles)\n",
    "# plot centroids\n",
    "plt.scatter(cen_x, cen_y, marker='^', c=colors, s=70)\n",
    "# plot Attack mean\n",
    "plt.plot([road_accident_train.perc_fatl_speed.mean()]*2, [0,200], color='black', lw=0.5, linestyle='--')\n",
    "plt.xlim(0,200)\n",
    "# plot Defense mean\n",
    "plt.plot([0,200], [road_accident_train.perc_fatl_alcohol.mean()]*2, color='black', lw=0.5, linestyle='--')\n",
    "plt.ylim(0,200)\n",
    "# create a list of legend elemntes\n",
    "## average line\n",
    "legend_elements = [Line2D([0], [0], color='black', lw=0.5, linestyle='--', label='Average')]\n",
    "## markers / records\n",
    "cluster_leg = [Line2D([0], [0], marker='o', color='w', label='Cluster {}'.format(i+1), \n",
    "               markerfacecolor=mcolor, markersize=5) for i, mcolor in enumerate(colors)]\n",
    "## centroids\n",
    "cent_leg = [Line2D([0], [0], marker='^', color='w', label='Centroid - C{}'.format(i+1), \n",
    "            markerfacecolor=mcolor, markersize=10) for i, mcolor in enumerate(colors)]\n",
    "# add all elements to the same list\n",
    "legend_elements.extend(cluster_leg)\n",
    "legend_elements.extend(cent_leg)\n",
    "# plot legend\n",
    "plt.legend(handles=legend_elements, loc='upper right', ncol=2)\n",
    "# title and labels\n",
    "plt.title('Mortality Rate \\n', loc='left', fontsize=22)\n",
    "plt.xlabel('perc_fatl_speed')\n",
    "plt.ylabel('perc_fatl_alcohol')"
   ]
  },
  {
   "cell_type": "code",
   "execution_count": 71,
   "metadata": {},
   "outputs": [
    {
     "data": {
      "text/plain": [
       "(0.0, 80.0)"
      ]
     },
     "execution_count": 71,
     "metadata": {},
     "output_type": "execute_result"
    },
    {
     "data": {
      "image/png": "[encoded data removed]",
      "text/plain": [
       "<Figure size 800x800 with 1 Axes>"
      ]
     },
     "metadata": {},
     "output_type": "display_data"
    }
   ],
   "source": [
    "from scipy import interpolate\n",
    "fig, ax = plt.subplots(1, figsize=(8,8))\n",
    "plt.scatter(road_accident_train.perc_fatl_speed, road_accident_train.perc_fatl_alcohol, c=road_accident_train.c, alpha = 0.6, s=road_accident_train.drvr_fatl_col_bmiles)\n",
    "plt.scatter(cen_x, cen_y, marker='^', c=colors, s=70)\n",
    "    \n",
    "for i in road_accident_train.cluster.unique():\n",
    "    # get the convex hull\n",
    "    points =road_accident_train[road_accident_train.cluster == i][['perc_fatl_speed', 'perc_fatl_alcohol']].values\n",
    "    hull = ConvexHull(points)\n",
    "    x_hull = np.append(points[hull.vertices,0],\n",
    "                       points[hull.vertices,0][0])\n",
    "    y_hull = np.append(points[hull.vertices,1],\n",
    "                       points[hull.vertices,1][0])\n",
    "    \n",
    "    # interpolate\n",
    "    dist = np.sqrt((x_hull[:-1] - x_hull[1:])**2 + (y_hull[:-1] - y_hull[1:])**2)\n",
    "    dist_along = np.concatenate(([0], dist.cumsum()))\n",
    "    spline, u = interpolate.splprep([x_hull, y_hull], \n",
    "                                    u=dist_along, s=0, per=1)\n",
    "    interp_d = np.linspace(dist_along[0], dist_along[-1], 50)\n",
    "    interp_x, interp_y = interpolate.splev(interp_d, spline)\n",
    "    # plot shape\n",
    "    plt.fill(interp_x, interp_y, '--', c=colors[i], alpha=0.2)\n",
    "    \n",
    "plt.xlim(0,80)\n",
    "plt.ylim(0,80)"
   ]
  },
  {
   "cell_type": "code",
   "execution_count": 92,
   "metadata": {},
   "outputs": [
    {
     "data": {
      "text/plain": [
       "(0.0, 80.0)"
      ]
     },
     "execution_count": 92,
     "metadata": {},
     "output_type": "execute_result"
    },
    {
     "data": {
      "image/png": "[encoded data removed]",
      "text/plain": [
       "<Figure size 800x800 with 1 Axes>"
      ]
     },
     "metadata": {},
     "output_type": "display_data"
    }
   ],
   "source": [
    "import seaborn as sns\n",
    "from scipy import interpolate\n",
    "fig, ax = plt.subplots(1, figsize=(8,8))\n",
    "plt.scatter(road_accident_train.perc_fatl_speed, road_accident_train.perc_fatl_alcohol, c=road_accident_train.million_miles_annually, alpha = 0.6, s=road_accident_train.drvr_fatl_col_bmiles)\n",
    "plt.scatter(cen_x, cen_y, marker='^', c=colors, s=70)\n",
    "    \n",
    "for i in road_accident_train.cluster.unique():\n",
    "    # get the convex hull\n",
    "    points =road_accident_train[road_accident_train.cluster == i][['perc_fatl_speed', 'perc_fatl_alcohol']].values\n",
    "    hull = ConvexHull(points)\n",
    "    x_hull = np.append(points[hull.vertices,0],\n",
    "                       points[hull.vertices,0][0])\n",
    "    y_hull = np.append(points[hull.vertices,1],\n",
    "                       points[hull.vertices,1][0])\n",
    "    \n",
    "\n",
    "    \n",
    "    \n",
    "\n",
    "    \n",
    "    # interpolate\n",
    "    dist = np.sqrt((x_hull[:-1] - x_hull[1:])**2 + (y_hull[:-1] - y_hull[1:])**2)\n",
    "    dist_along = np.concatenate(([0], dist.cumsum()))\n",
    "    spline, u = interpolate.splprep([x_hull, y_hull], \n",
    "                                    u=dist_along, s=0, per=1)\n",
    "    interp_d = np.linspace(dist_along[0], dist_along[-1], 50)\n",
    "    interp_x, interp_y = interpolate.splev(interp_d, spline)\n",
    "    # plot shape\n",
    "    plt.fill(interp_x, interp_y, '--', c=colors[i], alpha=0.2)\n",
    "  \n",
    "plt.xlim(0,80)\n",
    "plt.ylim(0,80)"
   ]
  },
  {
   "attachments": {},
   "cell_type": "markdown",
   "metadata": {},
   "source": [
    "# Violin plotting"
   ]
  },
  {
   "cell_type": "code",
   "execution_count": 93,
   "metadata": {},
   "outputs": [
    {
     "data": {
      "image/png": "[encoded data removed]",
      "text/plain": [
       "<Figure size 640x480 with 1 Axes>"
      ]
     },
     "metadata": {},
     "output_type": "display_data"
    }
   ],
   "source": [
    "import seaborn as sns\n",
    "    \n",
    "    \n",
    "sns.violinplot([y_hull ,  x_hull])\n",
    "\n",
    "plt.show()\n",
    "\n"
   ]
  }
 ],
 "metadata": {
  "kernelspec": {
   "display_name": "base",
   "language": "python",
   "name": "python3"
  },
  "language_info": {
   "codemirror_mode": {
    "name": "ipython",
    "version": 3
   },
   "file_extension": ".py",
   "mimetype": "text/x-python",
   "name": "python",
   "nbconvert_exporter": "python",
   "pygments_lexer": "ipython3",
   "version": "3.9.7"
  },
  "orig_nbformat": 4,
  "vscode": {
   "interpreter": {
    "hash": "c872da9b24e704463a3b2e0bb5f4192d77b6ffe402785ed21ba10e5792343b30"
   }
  }
 },
 "nbformat": 4,
 "nbformat_minor": 2
}
