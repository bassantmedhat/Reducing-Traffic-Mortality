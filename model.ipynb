{
 "cells": [
  {
   "attachments": {},
   "cell_type": "markdown",
   "metadata": {},
   "source": [
    "# importing"
   ]
  },
  {
   "cell_type": "code",
   "execution_count": 27,
   "metadata": {},
   "outputs": [],
   "source": [
    "import numpy as np\n",
    "import pandas as pd \n",
    "import matplotlib.pyplot as plt\n",
    "import seaborn as sb\n",
    "import seaborn as sns\n",
    "from matplotlib.ticker import StrMethodFormatter\n",
    "from matplotlib import colors\n",
    "from matplotlib.ticker import PercentFormatter"
   ]
  },
  {
   "attachments": {},
   "cell_type": "markdown",
   "metadata": {},
   "source": [
    "# loading data set\n"
   ]
  },
  {
   "cell_type": "code",
   "execution_count": 28,
   "metadata": {},
   "outputs": [
    {
     "data": {
      "text/html": [
       "<div>\n",
       "<style scoped>\n",
       "    .dataframe tbody tr th:only-of-type {\n",
       "        vertical-align: middle;\n",
       "    }\n",
       "\n",
       "    .dataframe tbody tr th {\n",
       "        vertical-align: top;\n",
       "    }\n",
       "\n",
       "    .dataframe thead th {\n",
       "        text-align: right;\n",
       "    }\n",
       "</style>\n",
       "<table border=\"1\" class=\"dataframe\">\n",
       "  <thead>\n",
       "    <tr style=\"text-align: right;\">\n",
       "      <th></th>\n",
       "      <th>state</th>\n",
       "      <th>drvr_fatl_col_bmiles</th>\n",
       "      <th>perc_fatl_speed</th>\n",
       "      <th>perc_fatl_alcohol</th>\n",
       "      <th>perc_fatl_1st_time</th>\n",
       "      <th>million_miles_annually</th>\n",
       "    </tr>\n",
       "  </thead>\n",
       "  <tbody>\n",
       "    <tr>\n",
       "      <th>0</th>\n",
       "      <td>Alabama</td>\n",
       "      <td>18.8</td>\n",
       "      <td>39</td>\n",
       "      <td>30</td>\n",
       "      <td>80</td>\n",
       "      <td>64914</td>\n",
       "    </tr>\n",
       "    <tr>\n",
       "      <th>1</th>\n",
       "      <td>Alaska</td>\n",
       "      <td>18.1</td>\n",
       "      <td>41</td>\n",
       "      <td>25</td>\n",
       "      <td>94</td>\n",
       "      <td>4593</td>\n",
       "    </tr>\n",
       "    <tr>\n",
       "      <th>2</th>\n",
       "      <td>Arizona</td>\n",
       "      <td>18.6</td>\n",
       "      <td>35</td>\n",
       "      <td>28</td>\n",
       "      <td>96</td>\n",
       "      <td>59575</td>\n",
       "    </tr>\n",
       "    <tr>\n",
       "      <th>3</th>\n",
       "      <td>Arkansas</td>\n",
       "      <td>22.4</td>\n",
       "      <td>18</td>\n",
       "      <td>26</td>\n",
       "      <td>95</td>\n",
       "      <td>32953</td>\n",
       "    </tr>\n",
       "    <tr>\n",
       "      <th>4</th>\n",
       "      <td>California</td>\n",
       "      <td>12.0</td>\n",
       "      <td>35</td>\n",
       "      <td>28</td>\n",
       "      <td>89</td>\n",
       "      <td>320784</td>\n",
       "    </tr>\n",
       "  </tbody>\n",
       "</table>\n",
       "</div>"
      ],
      "text/plain": [
       "        state  drvr_fatl_col_bmiles  perc_fatl_speed  perc_fatl_alcohol  \\\n",
       "0     Alabama                  18.8               39                 30   \n",
       "1      Alaska                  18.1               41                 25   \n",
       "2     Arizona                  18.6               35                 28   \n",
       "3    Arkansas                  22.4               18                 26   \n",
       "4  California                  12.0               35                 28   \n",
       "\n",
       "   perc_fatl_1st_time  million_miles_annually  \n",
       "0                  80                   64914  \n",
       "1                  94                    4593  \n",
       "2                  96                   59575  \n",
       "3                  95                   32953  \n",
       "4                  89                  320784  "
      ]
     },
     "execution_count": 28,
     "metadata": {},
     "output_type": "execute_result"
    }
   ],
   "source": [
    "car_acc= pd.read_csv(\"data/merged.csv\", comment=\"#\", sep=\",\")\n",
    "car_acc.head()"
   ]
  },
  {
   "cell_type": "code",
   "execution_count": 29,
   "metadata": {},
   "outputs": [
    {
     "name": "stdout",
     "output_type": "stream",
     "text": [
      "          state\n",
      "count        51\n",
      "unique       51\n",
      "top     Alabama\n",
      "freq          1\n"
     ]
    }
   ],
   "source": [
    "print(car_acc.describe(include=[\"O\"]))"
   ]
  },
  {
   "cell_type": "code",
   "execution_count": 30,
   "metadata": {},
   "outputs": [
    {
     "name": "stdout",
     "output_type": "stream",
     "text": [
      "<class 'pandas.core.frame.DataFrame'>\n",
      "RangeIndex: 51 entries, 0 to 50\n",
      "Data columns (total 6 columns):\n",
      " #   Column                  Non-Null Count  Dtype  \n",
      "---  ------                  --------------  -----  \n",
      " 0   state                   51 non-null     object \n",
      " 1   drvr_fatl_col_bmiles    51 non-null     float64\n",
      " 2   perc_fatl_speed         51 non-null     int64  \n",
      " 3   perc_fatl_alcohol       51 non-null     int64  \n",
      " 4   perc_fatl_1st_time      51 non-null     int64  \n",
      " 5   million_miles_annually  51 non-null     int64  \n",
      "dtypes: float64(1), int64(4), object(1)\n",
      "memory usage: 2.5+ KB\n",
      "None\n"
     ]
    }
   ],
   "source": [
    "print(car_acc.info())"
   ]
  },
  {
   "attachments": {},
   "cell_type": "markdown",
   "metadata": {},
   "source": [
    "# Pre Processing"
   ]
  },
  {
   "cell_type": "code",
   "execution_count": 31,
   "metadata": {},
   "outputs": [
    {
     "name": "stdout",
     "output_type": "stream",
     "text": [
      "False\n"
     ]
    }
   ],
   "source": [
    "check_nan = car_acc['perc_fatl_speed'].isnull().values.any()\n",
    "# printing the result\n",
    "print(check_nan)\n",
    "\n"
   ]
  },
  {
   "cell_type": "code",
   "execution_count": 32,
   "metadata": {},
   "outputs": [
    {
     "data": {
      "text/plain": [
       "(51, 6)"
      ]
     },
     "execution_count": 32,
     "metadata": {},
     "output_type": "execute_result"
    }
   ],
   "source": [
    "car_acc.shape"
   ]
  },
  {
   "cell_type": "code",
   "execution_count": 33,
   "metadata": {},
   "outputs": [
    {
     "data": {
      "text/plain": [
       "state                      object\n",
       "drvr_fatl_col_bmiles      float64\n",
       "perc_fatl_speed             int64\n",
       "perc_fatl_alcohol           int64\n",
       "perc_fatl_1st_time          int64\n",
       "million_miles_annually      int64\n",
       "dtype: object"
      ]
     },
     "execution_count": 33,
     "metadata": {},
     "output_type": "execute_result"
    }
   ],
   "source": [
    "car_acc.dtypes"
   ]
  },
  {
   "cell_type": "code",
   "execution_count": 34,
   "metadata": {},
   "outputs": [
    {
     "data": {
      "text/plain": [
       "state                      string\n",
       "drvr_fatl_col_bmiles      float64\n",
       "perc_fatl_speed             int64\n",
       "perc_fatl_alcohol           int64\n",
       "perc_fatl_1st_time          int64\n",
       "million_miles_annually      int64\n",
       "dtype: object"
      ]
     },
     "execution_count": 34,
     "metadata": {},
     "output_type": "execute_result"
    }
   ],
   "source": [
    "# Data type conversions\n",
    "car_acc['state'] = car_acc['state'].astype('string')\n",
    "\n",
    "# Show new data types\n",
    "car_acc.dtypes"
   ]
  },
  {
   "attachments": {},
   "cell_type": "markdown",
   "metadata": {},
   "source": [
    "# Visualization"
   ]
  },
  {
   "cell_type": "code",
   "execution_count": 35,
   "metadata": {},
   "outputs": [
    {
     "name": "stdout",
     "output_type": "stream",
     "text": [
      "       drvr_fatl_col_bmiles  perc_fatl_speed  perc_fatl_alcohol  \\\n",
      "count             51.000000        51.000000          51.000000   \n",
      "mean              15.790196        31.725490          30.686275   \n",
      "std                4.122002         9.633438           5.132213   \n",
      "min                5.900000        13.000000          16.000000   \n",
      "25%               12.750000        23.000000          28.000000   \n",
      "50%               15.600000        34.000000          30.000000   \n",
      "75%               18.500000        38.000000          33.000000   \n",
      "max               23.900000        54.000000          44.000000   \n",
      "\n",
      "       perc_fatl_1st_time  million_miles_annually  \n",
      "count            51.00000               51.000000  \n",
      "mean             88.72549            57851.019608  \n",
      "std               6.96011            59898.414088  \n",
      "min              76.00000             3568.000000  \n",
      "25%              83.50000            17450.000000  \n",
      "50%              88.00000            46606.000000  \n",
      "75%              95.00000            71922.500000  \n",
      "max             100.00000           320784.000000  \n"
     ]
    },
    {
     "data": {
      "text/plain": [
       "<seaborn.axisgrid.PairGrid at 0x25e06f1ba60>"
      ]
     },
     "execution_count": 35,
     "metadata": {},
     "output_type": "execute_result"
    },
    {
     "data": {
      "image/png": "[encoded data removed]",
      "text/plain": [
       "<Figure size 1250x1250 with 30 Axes>"
      ]
     },
     "metadata": {},
     "output_type": "display_data"
    }
   ],
   "source": [
    "# import seaborn and make plots appear inline\n",
    "import seaborn as sns\n",
    "%matplotlib inline\n",
    "\n",
    "# Compute the summary statistics of all columns in the `car_acc` DataFrame\n",
    "sum_stat_car = car_acc.describe()\n",
    "print(sum_stat_car)\n",
    "\n",
    "# Create a pairwise scatter plot to explore the data\n",
    "sns.pairplot(car_acc)"
   ]
  },
  {
   "cell_type": "code",
   "execution_count": 36,
   "metadata": {},
   "outputs": [
    {
     "data": {
      "text/plain": [
       "array([[<AxesSubplot: title={'center': 'drvr_fatl_col_bmiles'}>,\n",
       "        <AxesSubplot: title={'center': 'perc_fatl_speed'}>],\n",
       "       [<AxesSubplot: title={'center': 'perc_fatl_alcohol'}>,\n",
       "        <AxesSubplot: title={'center': 'perc_fatl_1st_time'}>],\n",
       "       [<AxesSubplot: title={'center': 'million_miles_annually'}>,\n",
       "        <AxesSubplot: >]], dtype=object)"
      ]
     },
     "execution_count": 36,
     "metadata": {},
     "output_type": "execute_result"
    },
    {
     "data": {
      "image/png": "[encoded data removed]",
      "text/plain": [
       "<Figure size 1500x1000 with 6 Axes>"
      ]
     },
     "metadata": {},
     "output_type": "display_data"
    }
   ],
   "source": [
    "car_acc.hist(bins=30, figsize=(15, 10))\n"
   ]
  },
  {
   "cell_type": "code",
   "execution_count": 37,
   "metadata": {},
   "outputs": [
    {
     "name": "stderr",
     "output_type": "stream",
     "text": [
      "c:\\Users\\popo\\anaconda3\\lib\\site-packages\\plotly\\express\\_core.py:279: FutureWarning:\n",
      "\n",
      "iteritems is deprecated and will be removed in a future version. Use .items instead.\n",
      "\n"
     ]
    },
    {
     "data": {
      "application/vnd.plotly.v1+json": {
       "config": {
        "plotlyServerURL": "https://plot.ly"
       },
       "data": [
        {
         "dimensions": [
          {
           "axis": {
            "matches": true
           },
           "label": "drvr_fatl_col_bmiles",
           "values": [
            18.8
           ]
          },
          {
           "axis": {
            "matches": true
           },
           "label": "perc_fatl_speed",
           "values": [
            39
           ]
          },
          {
           "axis": {
            "matches": true
           },
           "label": "perc_fatl_alcohol",
           "values": [
            30
           ]
          },
          {
           "axis": {
            "matches": true
           },
           "label": "perc_fatl_1st_time",
           "values": [
            80
           ]
          }
         ],
         "hovertemplate": "state=Alabama<br>%{xaxis.title.text}=%{x}<br>%{yaxis.title.text}=%{y}<extra></extra>",
         "legendgroup": "Alabama",
         "marker": {
          "color": "#636efa",
          "symbol": "circle"
         },
         "name": "Alabama",
         "showlegend": true,
         "type": "splom"
        },
        {
         "dimensions": [
          {
           "axis": {
            "matches": true
           },
           "label": "drvr_fatl_col_bmiles",
           "values": [
            18.1
           ]
          },
          {
           "axis": {
            "matches": true
           },
           "label": "perc_fatl_speed",
           "values": [
            41
           ]
          },
          {
           "axis": {
            "matches": true
           },
           "label": "perc_fatl_alcohol",
           "values": [
            25
           ]
          },
          {
           "axis": {
            "matches": true
           },
           "label": "perc_fatl_1st_time",
           "values": [
            94
           ]
          }
         ],
         "hovertemplate": "state=Alaska<br>%{xaxis.title.text}=%{x}<br>%{yaxis.title.text}=%{y}<extra></extra>",
         "legendgroup": "Alaska",
         "marker": {
          "color": "#EF553B",
          "symbol": "circle"
         },
         "name": "Alaska",
         "showlegend": true,
         "type": "splom"
        },
        {
         "dimensions": [
          {
           "axis": {
            "matches": true
           },
           "label": "drvr_fatl_col_bmiles",
           "values": [
            18.6
           ]
          },
          {
           "axis": {
            "matches": true
           },
           "label": "perc_fatl_speed",
           "values": [
            35
           ]
          },
          {
           "axis": {
            "matches": true
           },
           "label": "perc_fatl_alcohol",
           "values": [
            28
           ]
          },
          {
           "axis": {
            "matches": true
           },
           "label": "perc_fatl_1st_time",
           "values": [
            96
           ]
          }
         ],
         "hovertemplate": "state=Arizona<br>%{xaxis.title.text}=%{x}<br>%{yaxis.title.text}=%{y}<extra></extra>",
         "legendgroup": "Arizona",
         "marker": {
          "color": "#00cc96",
          "symbol": "circle"
         },
         "name": "Arizona",
         "showlegend": true,
         "type": "splom"
        },
        {
         "dimensions": [
          {
           "axis": {
            "matches": true
           },
           "label": "drvr_fatl_col_bmiles",
           "values": [
            22.4
           ]
          },
          {
           "axis": {
            "matches": true
           },
           "label": "perc_fatl_speed",
           "values": [
            18
           ]
          },
          {
           "axis": {
            "matches": true
           },
           "label": "perc_fatl_alcohol",
           "values": [
            26
           ]
          },
          {
           "axis": {
            "matches": true
           },
           "label": "perc_fatl_1st_time",
           "values": [
            95
           ]
          }
         ],
         "hovertemplate": "state=Arkansas<br>%{xaxis.title.text}=%{x}<br>%{yaxis.title.text}=%{y}<extra></extra>",
         "legendgroup": "Arkansas",
         "marker": {
          "color": "#ab63fa",
          "symbol": "circle"
         },
         "name": "Arkansas",
         "showlegend": true,
         "type": "splom"
        },
        {
         "dimensions": [
          {
           "axis": {
            "matches": true
           },
           "label": "drvr_fatl_col_bmiles",
           "values": [
            12
           ]
          },
          {
           "axis": {
            "matches": true
           },
           "label": "perc_fatl_speed",
           "values": [
            35
           ]
          },
          {
           "axis": {
            "matches": true
           },
           "label": "perc_fatl_alcohol",
           "values": [
            28
           ]
          },
          {
           "axis": {
            "matches": true
           },
           "label": "perc_fatl_1st_time",
           "values": [
            89
           ]
          }
         ],
         "hovertemplate": "state=California<br>%{xaxis.title.text}=%{x}<br>%{yaxis.title.text}=%{y}<extra></extra>",
         "legendgroup": "California",
         "marker": {
          "color": "#FFA15A",
          "symbol": "circle"
         },
         "name": "California",
         "showlegend": true,
         "type": "splom"
        },
        {
         "dimensions": [
          {
           "axis": {
            "matches": true
           },
           "label": "drvr_fatl_col_bmiles",
           "values": [
            13.6
           ]
          },
          {
           "axis": {
            "matches": true
           },
           "label": "perc_fatl_speed",
           "values": [
            37
           ]
          },
          {
           "axis": {
            "matches": true
           },
           "label": "perc_fatl_alcohol",
           "values": [
            28
           ]
          },
          {
           "axis": {
            "matches": true
           },
           "label": "perc_fatl_1st_time",
           "values": [
            95
           ]
          }
         ],
         "hovertemplate": "state=Colorado<br>%{xaxis.title.text}=%{x}<br>%{yaxis.title.text}=%{y}<extra></extra>",
         "legendgroup": "Colorado",
         "marker": {
          "color": "#19d3f3",
          "symbol": "circle"
         },
         "name": "Colorado",
         "showlegend": true,
         "type": "splom"
        },
        {
         "dimensions": [
          {
           "axis": {
            "matches": true
           },
           "label": "drvr_fatl_col_bmiles",
           "values": [
            10.8
           ]
          },
          {
           "axis": {
            "matches": true
           },
           "label": "perc_fatl_speed",
           "values": [
            46
           ]
          },
          {
           "axis": {
            "matches": true
           },
           "label": "perc_fatl_alcohol",
           "values": [
            36
           ]
          },
          {
           "axis": {
            "matches": true
           },
           "label": "perc_fatl_1st_time",
           "values": [
            82
           ]
          }
         ],
         "hovertemplate": "state=Connecticut<br>%{xaxis.title.text}=%{x}<br>%{yaxis.title.text}=%{y}<extra></extra>",
         "legendgroup": "Connecticut",
         "marker": {
          "color": "#FF6692",
          "symbol": "circle"
         },
         "name": "Connecticut",
         "showlegend": true,
         "type": "splom"
        },
        {
         "dimensions": [
          {
           "axis": {
            "matches": true
           },
           "label": "drvr_fatl_col_bmiles",
           "values": [
            16.2
           ]
          },
          {
           "axis": {
            "matches": true
           },
           "label": "perc_fatl_speed",
           "values": [
            38
           ]
          },
          {
           "axis": {
            "matches": true
           },
           "label": "perc_fatl_alcohol",
           "values": [
            30
           ]
          },
          {
           "axis": {
            "matches": true
           },
           "label": "perc_fatl_1st_time",
           "values": [
            99
           ]
          }
         ],
         "hovertemplate": "state=Delaware<br>%{xaxis.title.text}=%{x}<br>%{yaxis.title.text}=%{y}<extra></extra>",
         "legendgroup": "Delaware",
         "marker": {
          "color": "#B6E880",
          "symbol": "circle"
         },
         "name": "Delaware",
         "showlegend": true,
         "type": "splom"
        },
        {
         "dimensions": [
          {
           "axis": {
            "matches": true
           },
           "label": "drvr_fatl_col_bmiles",
           "values": [
            5.9
           ]
          },
          {
           "axis": {
            "matches": true
           },
           "label": "perc_fatl_speed",
           "values": [
            34
           ]
          },
          {
           "axis": {
            "matches": true
           },
           "label": "perc_fatl_alcohol",
           "values": [
            27
           ]
          },
          {
           "axis": {
            "matches": true
           },
           "label": "perc_fatl_1st_time",
           "values": [
            100
           ]
          }
         ],
         "hovertemplate": "state=District of Columnia<br>%{xaxis.title.text}=%{x}<br>%{yaxis.title.text}=%{y}<extra></extra>",
         "legendgroup": "District of Columnia",
         "marker": {
          "color": "#FF97FF",
          "symbol": "circle"
         },
         "name": "District of Columnia",
         "showlegend": true,
         "type": "splom"
        },
        {
         "dimensions": [
          {
           "axis": {
            "matches": true
           },
           "label": "drvr_fatl_col_bmiles",
           "values": [
            17.9
           ]
          },
          {
           "axis": {
            "matches": true
           },
           "label": "perc_fatl_speed",
           "values": [
            21
           ]
          },
          {
           "axis": {
            "matches": true
           },
           "label": "perc_fatl_alcohol",
           "values": [
            29
           ]
          },
          {
           "axis": {
            "matches": true
           },
           "label": "perc_fatl_1st_time",
           "values": [
            94
           ]
          }
         ],
         "hovertemplate": "state=Florida<br>%{xaxis.title.text}=%{x}<br>%{yaxis.title.text}=%{y}<extra></extra>",
         "legendgroup": "Florida",
         "marker": {
          "color": "#FECB52",
          "symbol": "circle"
         },
         "name": "Florida",
         "showlegend": true,
         "type": "splom"
        },
        {
         "dimensions": [
          {
           "axis": {
            "matches": true
           },
           "label": "drvr_fatl_col_bmiles",
           "values": [
            15.6
           ]
          },
          {
           "axis": {
            "matches": true
           },
           "label": "perc_fatl_speed",
           "values": [
            19
           ]
          },
          {
           "axis": {
            "matches": true
           },
           "label": "perc_fatl_alcohol",
           "values": [
            25
           ]
          },
          {
           "axis": {
            "matches": true
           },
           "label": "perc_fatl_1st_time",
           "values": [
            93
           ]
          }
         ],
         "hovertemplate": "state=Georgia<br>%{xaxis.title.text}=%{x}<br>%{yaxis.title.text}=%{y}<extra></extra>",
         "legendgroup": "Georgia",
         "marker": {
          "color": "#636efa",
          "symbol": "circle"
         },
         "name": "Georgia",
         "showlegend": true,
         "type": "splom"
        },
        {
         "dimensions": [
          {
           "axis": {
            "matches": true
           },
           "label": "drvr_fatl_col_bmiles",
           "values": [
            17.5
           ]
          },
          {
           "axis": {
            "matches": true
           },
           "label": "perc_fatl_speed",
           "values": [
            54
           ]
          },
          {
           "axis": {
            "matches": true
           },
           "label": "perc_fatl_alcohol",
           "values": [
            41
           ]
          },
          {
           "axis": {
            "matches": true
           },
           "label": "perc_fatl_1st_time",
           "values": [
            87
           ]
          }
         ],
         "hovertemplate": "state=Hawaii<br>%{xaxis.title.text}=%{x}<br>%{yaxis.title.text}=%{y}<extra></extra>",
         "legendgroup": "Hawaii",
         "marker": {
          "color": "#EF553B",
          "symbol": "circle"
         },
         "name": "Hawaii",
         "showlegend": true,
         "type": "splom"
        },
        {
         "dimensions": [
          {
           "axis": {
            "matches": true
           },
           "label": "drvr_fatl_col_bmiles",
           "values": [
            15.3
           ]
          },
          {
           "axis": {
            "matches": true
           },
           "label": "perc_fatl_speed",
           "values": [
            36
           ]
          },
          {
           "axis": {
            "matches": true
           },
           "label": "perc_fatl_alcohol",
           "values": [
            29
           ]
          },
          {
           "axis": {
            "matches": true
           },
           "label": "perc_fatl_1st_time",
           "values": [
            98
           ]
          }
         ],
         "hovertemplate": "state=Idaho<br>%{xaxis.title.text}=%{x}<br>%{yaxis.title.text}=%{y}<extra></extra>",
         "legendgroup": "Idaho",
         "marker": {
          "color": "#00cc96",
          "symbol": "circle"
         },
         "name": "Idaho",
         "showlegend": true,
         "type": "splom"
        },
        {
         "dimensions": [
          {
           "axis": {
            "matches": true
           },
           "label": "drvr_fatl_col_bmiles",
           "values": [
            12.8
           ]
          },
          {
           "axis": {
            "matches": true
           },
           "label": "perc_fatl_speed",
           "values": [
            36
           ]
          },
          {
           "axis": {
            "matches": true
           },
           "label": "perc_fatl_alcohol",
           "values": [
            34
           ]
          },
          {
           "axis": {
            "matches": true
           },
           "label": "perc_fatl_1st_time",
           "values": [
            96
           ]
          }
         ],
         "hovertemplate": "state=Illinois<br>%{xaxis.title.text}=%{x}<br>%{yaxis.title.text}=%{y}<extra></extra>",
         "legendgroup": "Illinois",
         "marker": {
          "color": "#ab63fa",
          "symbol": "circle"
         },
         "name": "Illinois",
         "showlegend": true,
         "type": "splom"
        },
        {
         "dimensions": [
          {
           "axis": {
            "matches": true
           },
           "label": "drvr_fatl_col_bmiles",
           "values": [
            14.5
           ]
          },
          {
           "axis": {
            "matches": true
           },
           "label": "perc_fatl_speed",
           "values": [
            25
           ]
          },
          {
           "axis": {
            "matches": true
           },
           "label": "perc_fatl_alcohol",
           "values": [
            29
           ]
          },
          {
           "axis": {
            "matches": true
           },
           "label": "perc_fatl_1st_time",
           "values": [
            95
           ]
          }
         ],
         "hovertemplate": "state=Indiana<br>%{xaxis.title.text}=%{x}<br>%{yaxis.title.text}=%{y}<extra></extra>",
         "legendgroup": "Indiana",
         "marker": {
          "color": "#FFA15A",
          "symbol": "circle"
         },
         "name": "Indiana",
         "showlegend": true,
         "type": "splom"
        },
        {
         "dimensions": [
          {
           "axis": {
            "matches": true
           },
           "label": "drvr_fatl_col_bmiles",
           "values": [
            15.7
           ]
          },
          {
           "axis": {
            "matches": true
           },
           "label": "perc_fatl_speed",
           "values": [
            17
           ]
          },
          {
           "axis": {
            "matches": true
           },
           "label": "perc_fatl_alcohol",
           "values": [
            25
           ]
          },
          {
           "axis": {
            "matches": true
           },
           "label": "perc_fatl_1st_time",
           "values": [
            87
           ]
          }
         ],
         "hovertemplate": "state=Iowa<br>%{xaxis.title.text}=%{x}<br>%{yaxis.title.text}=%{y}<extra></extra>",
         "legendgroup": "Iowa",
         "marker": {
          "color": "#19d3f3",
          "symbol": "circle"
         },
         "name": "Iowa",
         "showlegend": true,
         "type": "splom"
        },
        {
         "dimensions": [
          {
           "axis": {
            "matches": true
           },
           "label": "drvr_fatl_col_bmiles",
           "values": [
            17.8
           ]
          },
          {
           "axis": {
            "matches": true
           },
           "label": "perc_fatl_speed",
           "values": [
            27
           ]
          },
          {
           "axis": {
            "matches": true
           },
           "label": "perc_fatl_alcohol",
           "values": [
            24
           ]
          },
          {
           "axis": {
            "matches": true
           },
           "label": "perc_fatl_1st_time",
           "values": [
            85
           ]
          }
         ],
         "hovertemplate": "state=Kansas<br>%{xaxis.title.text}=%{x}<br>%{yaxis.title.text}=%{y}<extra></extra>",
         "legendgroup": "Kansas",
         "marker": {
          "color": "#FF6692",
          "symbol": "circle"
         },
         "name": "Kansas",
         "showlegend": true,
         "type": "splom"
        },
        {
         "dimensions": [
          {
           "axis": {
            "matches": true
           },
           "label": "drvr_fatl_col_bmiles",
           "values": [
            21.4
           ]
          },
          {
           "axis": {
            "matches": true
           },
           "label": "perc_fatl_speed",
           "values": [
            19
           ]
          },
          {
           "axis": {
            "matches": true
           },
           "label": "perc_fatl_alcohol",
           "values": [
            23
           ]
          },
          {
           "axis": {
            "matches": true
           },
           "label": "perc_fatl_1st_time",
           "values": [
            76
           ]
          }
         ],
         "hovertemplate": "state=Kentucky<br>%{xaxis.title.text}=%{x}<br>%{yaxis.title.text}=%{y}<extra></extra>",
         "legendgroup": "Kentucky",
         "marker": {
          "color": "#B6E880",
          "symbol": "circle"
         },
         "name": "Kentucky",
         "showlegend": true,
         "type": "splom"
        },
        {
         "dimensions": [
          {
           "axis": {
            "matches": true
           },
           "label": "drvr_fatl_col_bmiles",
           "values": [
            20.5
           ]
          },
          {
           "axis": {
            "matches": true
           },
           "label": "perc_fatl_speed",
           "values": [
            35
           ]
          },
          {
           "axis": {
            "matches": true
           },
           "label": "perc_fatl_alcohol",
           "values": [
            33
           ]
          },
          {
           "axis": {
            "matches": true
           },
           "label": "perc_fatl_1st_time",
           "values": [
            98
           ]
          }
         ],
         "hovertemplate": "state=Louisiana<br>%{xaxis.title.text}=%{x}<br>%{yaxis.title.text}=%{y}<extra></extra>",
         "legendgroup": "Louisiana",
         "marker": {
          "color": "#FF97FF",
          "symbol": "circle"
         },
         "name": "Louisiana",
         "showlegend": true,
         "type": "splom"
        },
        {
         "dimensions": [
          {
           "axis": {
            "matches": true
           },
           "label": "drvr_fatl_col_bmiles",
           "values": [
            15.1
           ]
          },
          {
           "axis": {
            "matches": true
           },
           "label": "perc_fatl_speed",
           "values": [
            38
           ]
          },
          {
           "axis": {
            "matches": true
           },
           "label": "perc_fatl_alcohol",
           "values": [
            30
           ]
          },
          {
           "axis": {
            "matches": true
           },
           "label": "perc_fatl_1st_time",
           "values": [
            84
           ]
          }
         ],
         "hovertemplate": "state=Maine<br>%{xaxis.title.text}=%{x}<br>%{yaxis.title.text}=%{y}<extra></extra>",
         "legendgroup": "Maine",
         "marker": {
          "color": "#FECB52",
          "symbol": "circle"
         },
         "name": "Maine",
         "showlegend": true,
         "type": "splom"
        },
        {
         "dimensions": [
          {
           "axis": {
            "matches": true
           },
           "label": "drvr_fatl_col_bmiles",
           "values": [
            12.5
           ]
          },
          {
           "axis": {
            "matches": true
           },
           "label": "perc_fatl_speed",
           "values": [
            34
           ]
          },
          {
           "axis": {
            "matches": true
           },
           "label": "perc_fatl_alcohol",
           "values": [
            32
           ]
          },
          {
           "axis": {
            "matches": true
           },
           "label": "perc_fatl_1st_time",
           "values": [
            99
           ]
          }
         ],
         "hovertemplate": "state=Maryland<br>%{xaxis.title.text}=%{x}<br>%{yaxis.title.text}=%{y}<extra></extra>",
         "legendgroup": "Maryland",
         "marker": {
          "color": "#636efa",
          "symbol": "circle"
         },
         "name": "Maryland",
         "showlegend": true,
         "type": "splom"
        },
        {
         "dimensions": [
          {
           "axis": {
            "matches": true
           },
           "label": "drvr_fatl_col_bmiles",
           "values": [
            8.2
           ]
          },
          {
           "axis": {
            "matches": true
           },
           "label": "perc_fatl_speed",
           "values": [
            23
           ]
          },
          {
           "axis": {
            "matches": true
           },
           "label": "perc_fatl_alcohol",
           "values": [
            35
           ]
          },
          {
           "axis": {
            "matches": true
           },
           "label": "perc_fatl_1st_time",
           "values": [
            80
           ]
          }
         ],
         "hovertemplate": "state=Massachusetts<br>%{xaxis.title.text}=%{x}<br>%{yaxis.title.text}=%{y}<extra></extra>",
         "legendgroup": "Massachusetts",
         "marker": {
          "color": "#EF553B",
          "symbol": "circle"
         },
         "name": "Massachusetts",
         "showlegend": true,
         "type": "splom"
        },
        {
         "dimensions": [
          {
           "axis": {
            "matches": true
           },
           "label": "drvr_fatl_col_bmiles",
           "values": [
            14.1
           ]
          },
          {
           "axis": {
            "matches": true
           },
           "label": "perc_fatl_speed",
           "values": [
            24
           ]
          },
          {
           "axis": {
            "matches": true
           },
           "label": "perc_fatl_alcohol",
           "values": [
            28
           ]
          },
          {
           "axis": {
            "matches": true
           },
           "label": "perc_fatl_1st_time",
           "values": [
            77
           ]
          }
         ],
         "hovertemplate": "state=Michigan<br>%{xaxis.title.text}=%{x}<br>%{yaxis.title.text}=%{y}<extra></extra>",
         "legendgroup": "Michigan",
         "marker": {
          "color": "#00cc96",
          "symbol": "circle"
         },
         "name": "Michigan",
         "showlegend": true,
         "type": "splom"
        },
        {
         "dimensions": [
          {
           "axis": {
            "matches": true
           },
           "label": "drvr_fatl_col_bmiles",
           "values": [
            9.6
           ]
          },
          {
           "axis": {
            "matches": true
           },
           "label": "perc_fatl_speed",
           "values": [
            23
           ]
          },
          {
           "axis": {
            "matches": true
           },
           "label": "perc_fatl_alcohol",
           "values": [
            29
           ]
          },
          {
           "axis": {
            "matches": true
           },
           "label": "perc_fatl_1st_time",
           "values": [
            88
           ]
          }
         ],
         "hovertemplate": "state=Minnesota<br>%{xaxis.title.text}=%{x}<br>%{yaxis.title.text}=%{y}<extra></extra>",
         "legendgroup": "Minnesota",
         "marker": {
          "color": "#ab63fa",
          "symbol": "circle"
         },
         "name": "Minnesota",
         "showlegend": true,
         "type": "splom"
        },
        {
         "dimensions": [
          {
           "axis": {
            "matches": true
           },
           "label": "drvr_fatl_col_bmiles",
           "values": [
            17.6
           ]
          },
          {
           "axis": {
            "matches": true
           },
           "label": "perc_fatl_speed",
           "values": [
            15
           ]
          },
          {
           "axis": {
            "matches": true
           },
           "label": "perc_fatl_alcohol",
           "values": [
            31
           ]
          },
          {
           "axis": {
            "matches": true
           },
           "label": "perc_fatl_1st_time",
           "values": [
            100
           ]
          }
         ],
         "hovertemplate": "state=Mississippi<br>%{xaxis.title.text}=%{x}<br>%{yaxis.title.text}=%{y}<extra></extra>",
         "legendgroup": "Mississippi",
         "marker": {
          "color": "#FFA15A",
          "symbol": "circle"
         },
         "name": "Mississippi",
         "showlegend": true,
         "type": "splom"
        },
        {
         "dimensions": [
          {
           "axis": {
            "matches": true
           },
           "label": "drvr_fatl_col_bmiles",
           "values": [
            16.1
           ]
          },
          {
           "axis": {
            "matches": true
           },
           "label": "perc_fatl_speed",
           "values": [
            43
           ]
          },
          {
           "axis": {
            "matches": true
           },
           "label": "perc_fatl_alcohol",
           "values": [
            34
           ]
          },
          {
           "axis": {
            "matches": true
           },
           "label": "perc_fatl_1st_time",
           "values": [
            84
           ]
          }
         ],
         "hovertemplate": "state=Missouri<br>%{xaxis.title.text}=%{x}<br>%{yaxis.title.text}=%{y}<extra></extra>",
         "legendgroup": "Missouri",
         "marker": {
          "color": "#19d3f3",
          "symbol": "circle"
         },
         "name": "Missouri",
         "showlegend": true,
         "type": "splom"
        },
        {
         "dimensions": [
          {
           "axis": {
            "matches": true
           },
           "label": "drvr_fatl_col_bmiles",
           "values": [
            21.4
           ]
          },
          {
           "axis": {
            "matches": true
           },
           "label": "perc_fatl_speed",
           "values": [
            39
           ]
          },
          {
           "axis": {
            "matches": true
           },
           "label": "perc_fatl_alcohol",
           "values": [
            44
           ]
          },
          {
           "axis": {
            "matches": true
           },
           "label": "perc_fatl_1st_time",
           "values": [
            85
           ]
          }
         ],
         "hovertemplate": "state=Montana<br>%{xaxis.title.text}=%{x}<br>%{yaxis.title.text}=%{y}<extra></extra>",
         "legendgroup": "Montana",
         "marker": {
          "color": "#FF6692",
          "symbol": "circle"
         },
         "name": "Montana",
         "showlegend": true,
         "type": "splom"
        },
        {
         "dimensions": [
          {
           "axis": {
            "matches": true
           },
           "label": "drvr_fatl_col_bmiles",
           "values": [
            14.9
           ]
          },
          {
           "axis": {
            "matches": true
           },
           "label": "perc_fatl_speed",
           "values": [
            13
           ]
          },
          {
           "axis": {
            "matches": true
           },
           "label": "perc_fatl_alcohol",
           "values": [
            35
           ]
          },
          {
           "axis": {
            "matches": true
           },
           "label": "perc_fatl_1st_time",
           "values": [
            90
           ]
          }
         ],
         "hovertemplate": "state=Nebraska<br>%{xaxis.title.text}=%{x}<br>%{yaxis.title.text}=%{y}<extra></extra>",
         "legendgroup": "Nebraska",
         "marker": {
          "color": "#B6E880",
          "symbol": "circle"
         },
         "name": "Nebraska",
         "showlegend": true,
         "type": "splom"
        },
        {
         "dimensions": [
          {
           "axis": {
            "matches": true
           },
           "label": "drvr_fatl_col_bmiles",
           "values": [
            14.7
           ]
          },
          {
           "axis": {
            "matches": true
           },
           "label": "perc_fatl_speed",
           "values": [
            37
           ]
          },
          {
           "axis": {
            "matches": true
           },
           "label": "perc_fatl_alcohol",
           "values": [
            32
           ]
          },
          {
           "axis": {
            "matches": true
           },
           "label": "perc_fatl_1st_time",
           "values": [
            99
           ]
          }
         ],
         "hovertemplate": "state=Nevada<br>%{xaxis.title.text}=%{x}<br>%{yaxis.title.text}=%{y}<extra></extra>",
         "legendgroup": "Nevada",
         "marker": {
          "color": "#FF97FF",
          "symbol": "circle"
         },
         "name": "Nevada",
         "showlegend": true,
         "type": "splom"
        },
        {
         "dimensions": [
          {
           "axis": {
            "matches": true
           },
           "label": "drvr_fatl_col_bmiles",
           "values": [
            11.6
           ]
          },
          {
           "axis": {
            "matches": true
           },
           "label": "perc_fatl_speed",
           "values": [
            35
           ]
          },
          {
           "axis": {
            "matches": true
           },
           "label": "perc_fatl_alcohol",
           "values": [
            30
           ]
          },
          {
           "axis": {
            "matches": true
           },
           "label": "perc_fatl_1st_time",
           "values": [
            83
           ]
          }
         ],
         "hovertemplate": "state=New Hampshire<br>%{xaxis.title.text}=%{x}<br>%{yaxis.title.text}=%{y}<extra></extra>",
         "legendgroup": "New Hampshire",
         "marker": {
          "color": "#FECB52",
          "symbol": "circle"
         },
         "name": "New Hampshire",
         "showlegend": true,
         "type": "splom"
        },
        {
         "dimensions": [
          {
           "axis": {
            "matches": true
           },
           "label": "drvr_fatl_col_bmiles",
           "values": [
            11.2
           ]
          },
          {
           "axis": {
            "matches": true
           },
           "label": "perc_fatl_speed",
           "values": [
            16
           ]
          },
          {
           "axis": {
            "matches": true
           },
           "label": "perc_fatl_alcohol",
           "values": [
            28
           ]
          },
          {
           "axis": {
            "matches": true
           },
           "label": "perc_fatl_1st_time",
           "values": [
            78
           ]
          }
         ],
         "hovertemplate": "state=New Jersey<br>%{xaxis.title.text}=%{x}<br>%{yaxis.title.text}=%{y}<extra></extra>",
         "legendgroup": "New Jersey",
         "marker": {
          "color": "#636efa",
          "symbol": "circle"
         },
         "name": "New Jersey",
         "showlegend": true,
         "type": "splom"
        },
        {
         "dimensions": [
          {
           "axis": {
            "matches": true
           },
           "label": "drvr_fatl_col_bmiles",
           "values": [
            18.4
           ]
          },
          {
           "axis": {
            "matches": true
           },
           "label": "perc_fatl_speed",
           "values": [
            19
           ]
          },
          {
           "axis": {
            "matches": true
           },
           "label": "perc_fatl_alcohol",
           "values": [
            27
           ]
          },
          {
           "axis": {
            "matches": true
           },
           "label": "perc_fatl_1st_time",
           "values": [
            98
           ]
          }
         ],
         "hovertemplate": "state=New Mexico<br>%{xaxis.title.text}=%{x}<br>%{yaxis.title.text}=%{y}<extra></extra>",
         "legendgroup": "New Mexico",
         "marker": {
          "color": "#EF553B",
          "symbol": "circle"
         },
         "name": "New Mexico",
         "showlegend": true,
         "type": "splom"
        },
        {
         "dimensions": [
          {
           "axis": {
            "matches": true
           },
           "label": "drvr_fatl_col_bmiles",
           "values": [
            12.3
           ]
          },
          {
           "axis": {
            "matches": true
           },
           "label": "perc_fatl_speed",
           "values": [
            32
           ]
          },
          {
           "axis": {
            "matches": true
           },
           "label": "perc_fatl_alcohol",
           "values": [
            29
           ]
          },
          {
           "axis": {
            "matches": true
           },
           "label": "perc_fatl_1st_time",
           "values": [
            80
           ]
          }
         ],
         "hovertemplate": "state=New York<br>%{xaxis.title.text}=%{x}<br>%{yaxis.title.text}=%{y}<extra></extra>",
         "legendgroup": "New York",
         "marker": {
          "color": "#00cc96",
          "symbol": "circle"
         },
         "name": "New York",
         "showlegend": true,
         "type": "splom"
        },
        {
         "dimensions": [
          {
           "axis": {
            "matches": true
           },
           "label": "drvr_fatl_col_bmiles",
           "values": [
            16.8
           ]
          },
          {
           "axis": {
            "matches": true
           },
           "label": "perc_fatl_speed",
           "values": [
            39
           ]
          },
          {
           "axis": {
            "matches": true
           },
           "label": "perc_fatl_alcohol",
           "values": [
            31
           ]
          },
          {
           "axis": {
            "matches": true
           },
           "label": "perc_fatl_1st_time",
           "values": [
            81
           ]
          }
         ],
         "hovertemplate": "state=North Carolina<br>%{xaxis.title.text}=%{x}<br>%{yaxis.title.text}=%{y}<extra></extra>",
         "legendgroup": "North Carolina",
         "marker": {
          "color": "#ab63fa",
          "symbol": "circle"
         },
         "name": "North Carolina",
         "showlegend": true,
         "type": "splom"
        },
        {
         "dimensions": [
          {
           "axis": {
            "matches": true
           },
           "label": "drvr_fatl_col_bmiles",
           "values": [
            23.9
           ]
          },
          {
           "axis": {
            "matches": true
           },
           "label": "perc_fatl_speed",
           "values": [
            23
           ]
          },
          {
           "axis": {
            "matches": true
           },
           "label": "perc_fatl_alcohol",
           "values": [
            42
           ]
          },
          {
           "axis": {
            "matches": true
           },
           "label": "perc_fatl_1st_time",
           "values": [
            86
           ]
          }
         ],
         "hovertemplate": "state=North Dakota<br>%{xaxis.title.text}=%{x}<br>%{yaxis.title.text}=%{y}<extra></extra>",
         "legendgroup": "North Dakota",
         "marker": {
          "color": "#FFA15A",
          "symbol": "circle"
         },
         "name": "North Dakota",
         "showlegend": true,
         "type": "splom"
        },
        {
         "dimensions": [
          {
           "axis": {
            "matches": true
           },
           "label": "drvr_fatl_col_bmiles",
           "values": [
            14.1
           ]
          },
          {
           "axis": {
            "matches": true
           },
           "label": "perc_fatl_speed",
           "values": [
            28
           ]
          },
          {
           "axis": {
            "matches": true
           },
           "label": "perc_fatl_alcohol",
           "values": [
            34
           ]
          },
          {
           "axis": {
            "matches": true
           },
           "label": "perc_fatl_1st_time",
           "values": [
            82
           ]
          }
         ],
         "hovertemplate": "state=Ohio<br>%{xaxis.title.text}=%{x}<br>%{yaxis.title.text}=%{y}<extra></extra>",
         "legendgroup": "Ohio",
         "marker": {
          "color": "#19d3f3",
          "symbol": "circle"
         },
         "name": "Ohio",
         "showlegend": true,
         "type": "splom"
        },
        {
         "dimensions": [
          {
           "axis": {
            "matches": true
           },
           "label": "drvr_fatl_col_bmiles",
           "values": [
            19.9
           ]
          },
          {
           "axis": {
            "matches": true
           },
           "label": "perc_fatl_speed",
           "values": [
            32
           ]
          },
          {
           "axis": {
            "matches": true
           },
           "label": "perc_fatl_alcohol",
           "values": [
            29
           ]
          },
          {
           "axis": {
            "matches": true
           },
           "label": "perc_fatl_1st_time",
           "values": [
            94
           ]
          }
         ],
         "hovertemplate": "state=Oklahoma<br>%{xaxis.title.text}=%{x}<br>%{yaxis.title.text}=%{y}<extra></extra>",
         "legendgroup": "Oklahoma",
         "marker": {
          "color": "#FF6692",
          "symbol": "circle"
         },
         "name": "Oklahoma",
         "showlegend": true,
         "type": "splom"
        },
        {
         "dimensions": [
          {
           "axis": {
            "matches": true
           },
           "label": "drvr_fatl_col_bmiles",
           "values": [
            12.8
           ]
          },
          {
           "axis": {
            "matches": true
           },
           "label": "perc_fatl_speed",
           "values": [
            33
           ]
          },
          {
           "axis": {
            "matches": true
           },
           "label": "perc_fatl_alcohol",
           "values": [
            26
           ]
          },
          {
           "axis": {
            "matches": true
           },
           "label": "perc_fatl_1st_time",
           "values": [
            90
           ]
          }
         ],
         "hovertemplate": "state=Oregon<br>%{xaxis.title.text}=%{x}<br>%{yaxis.title.text}=%{y}<extra></extra>",
         "legendgroup": "Oregon",
         "marker": {
          "color": "#B6E880",
          "symbol": "circle"
         },
         "name": "Oregon",
         "showlegend": true,
         "type": "splom"
        },
        {
         "dimensions": [
          {
           "axis": {
            "matches": true
           },
           "label": "drvr_fatl_col_bmiles",
           "values": [
            18.2
           ]
          },
          {
           "axis": {
            "matches": true
           },
           "label": "perc_fatl_speed",
           "values": [
            50
           ]
          },
          {
           "axis": {
            "matches": true
           },
           "label": "perc_fatl_alcohol",
           "values": [
            31
           ]
          },
          {
           "axis": {
            "matches": true
           },
           "label": "perc_fatl_1st_time",
           "values": [
            88
           ]
          }
         ],
         "hovertemplate": "state=Pennsylvania<br>%{xaxis.title.text}=%{x}<br>%{yaxis.title.text}=%{y}<extra></extra>",
         "legendgroup": "Pennsylvania",
         "marker": {
          "color": "#FF97FF",
          "symbol": "circle"
         },
         "name": "Pennsylvania",
         "showlegend": true,
         "type": "splom"
        },
        {
         "dimensions": [
          {
           "axis": {
            "matches": true
           },
           "label": "drvr_fatl_col_bmiles",
           "values": [
            11.1
           ]
          },
          {
           "axis": {
            "matches": true
           },
           "label": "perc_fatl_speed",
           "values": [
            34
           ]
          },
          {
           "axis": {
            "matches": true
           },
           "label": "perc_fatl_alcohol",
           "values": [
            38
           ]
          },
          {
           "axis": {
            "matches": true
           },
           "label": "perc_fatl_1st_time",
           "values": [
            79
           ]
          }
         ],
         "hovertemplate": "state=Rhode Island<br>%{xaxis.title.text}=%{x}<br>%{yaxis.title.text}=%{y}<extra></extra>",
         "legendgroup": "Rhode Island",
         "marker": {
          "color": "#FECB52",
          "symbol": "circle"
         },
         "name": "Rhode Island",
         "showlegend": true,
         "type": "splom"
        },
        {
         "dimensions": [
          {
           "axis": {
            "matches": true
           },
           "label": "drvr_fatl_col_bmiles",
           "values": [
            23.9
           ]
          },
          {
           "axis": {
            "matches": true
           },
           "label": "perc_fatl_speed",
           "values": [
            38
           ]
          },
          {
           "axis": {
            "matches": true
           },
           "label": "perc_fatl_alcohol",
           "values": [
            41
           ]
          },
          {
           "axis": {
            "matches": true
           },
           "label": "perc_fatl_1st_time",
           "values": [
            81
           ]
          }
         ],
         "hovertemplate": "state=South Carolina<br>%{xaxis.title.text}=%{x}<br>%{yaxis.title.text}=%{y}<extra></extra>",
         "legendgroup": "South Carolina",
         "marker": {
          "color": "#636efa",
          "symbol": "circle"
         },
         "name": "South Carolina",
         "showlegend": true,
         "type": "splom"
        },
        {
         "dimensions": [
          {
           "axis": {
            "matches": true
           },
           "label": "drvr_fatl_col_bmiles",
           "values": [
            19.4
           ]
          },
          {
           "axis": {
            "matches": true
           },
           "label": "perc_fatl_speed",
           "values": [
            31
           ]
          },
          {
           "axis": {
            "matches": true
           },
           "label": "perc_fatl_alcohol",
           "values": [
            33
           ]
          },
          {
           "axis": {
            "matches": true
           },
           "label": "perc_fatl_1st_time",
           "values": [
            86
           ]
          }
         ],
         "hovertemplate": "state=South Dakota<br>%{xaxis.title.text}=%{x}<br>%{yaxis.title.text}=%{y}<extra></extra>",
         "legendgroup": "South Dakota",
         "marker": {
          "color": "#EF553B",
          "symbol": "circle"
         },
         "name": "South Dakota",
         "showlegend": true,
         "type": "splom"
        },
        {
         "dimensions": [
          {
           "axis": {
            "matches": true
           },
           "label": "drvr_fatl_col_bmiles",
           "values": [
            19.5
           ]
          },
          {
           "axis": {
            "matches": true
           },
           "label": "perc_fatl_speed",
           "values": [
            21
           ]
          },
          {
           "axis": {
            "matches": true
           },
           "label": "perc_fatl_alcohol",
           "values": [
            29
           ]
          },
          {
           "axis": {
            "matches": true
           },
           "label": "perc_fatl_1st_time",
           "values": [
            81
           ]
          }
         ],
         "hovertemplate": "state=Tennessee<br>%{xaxis.title.text}=%{x}<br>%{yaxis.title.text}=%{y}<extra></extra>",
         "legendgroup": "Tennessee",
         "marker": {
          "color": "#00cc96",
          "symbol": "circle"
         },
         "name": "Tennessee",
         "showlegend": true,
         "type": "splom"
        },
        {
         "dimensions": [
          {
           "axis": {
            "matches": true
           },
           "label": "drvr_fatl_col_bmiles",
           "values": [
            19.4
           ]
          },
          {
           "axis": {
            "matches": true
           },
           "label": "perc_fatl_speed",
           "values": [
            40
           ]
          },
          {
           "axis": {
            "matches": true
           },
           "label": "perc_fatl_alcohol",
           "values": [
            38
           ]
          },
          {
           "axis": {
            "matches": true
           },
           "label": "perc_fatl_1st_time",
           "values": [
            87
           ]
          }
         ],
         "hovertemplate": "state=Texas<br>%{xaxis.title.text}=%{x}<br>%{yaxis.title.text}=%{y}<extra></extra>",
         "legendgroup": "Texas",
         "marker": {
          "color": "#ab63fa",
          "symbol": "circle"
         },
         "name": "Texas",
         "showlegend": true,
         "type": "splom"
        },
        {
         "dimensions": [
          {
           "axis": {
            "matches": true
           },
           "label": "drvr_fatl_col_bmiles",
           "values": [
            11.3
           ]
          },
          {
           "axis": {
            "matches": true
           },
           "label": "perc_fatl_speed",
           "values": [
            43
           ]
          },
          {
           "axis": {
            "matches": true
           },
           "label": "perc_fatl_alcohol",
           "values": [
            16
           ]
          },
          {
           "axis": {
            "matches": true
           },
           "label": "perc_fatl_1st_time",
           "values": [
            96
           ]
          }
         ],
         "hovertemplate": "state=Utah<br>%{xaxis.title.text}=%{x}<br>%{yaxis.title.text}=%{y}<extra></extra>",
         "legendgroup": "Utah",
         "marker": {
          "color": "#FFA15A",
          "symbol": "circle"
         },
         "name": "Utah",
         "showlegend": true,
         "type": "splom"
        },
        {
         "dimensions": [
          {
           "axis": {
            "matches": true
           },
           "label": "drvr_fatl_col_bmiles",
           "values": [
            13.6
           ]
          },
          {
           "axis": {
            "matches": true
           },
           "label": "perc_fatl_speed",
           "values": [
            30
           ]
          },
          {
           "axis": {
            "matches": true
           },
           "label": "perc_fatl_alcohol",
           "values": [
            30
           ]
          },
          {
           "axis": {
            "matches": true
           },
           "label": "perc_fatl_1st_time",
           "values": [
            95
           ]
          }
         ],
         "hovertemplate": "state=Vermont<br>%{xaxis.title.text}=%{x}<br>%{yaxis.title.text}=%{y}<extra></extra>",
         "legendgroup": "Vermont",
         "marker": {
          "color": "#19d3f3",
          "symbol": "circle"
         },
         "name": "Vermont",
         "showlegend": true,
         "type": "splom"
        },
        {
         "dimensions": [
          {
           "axis": {
            "matches": true
           },
           "label": "drvr_fatl_col_bmiles",
           "values": [
            12.7
           ]
          },
          {
           "axis": {
            "matches": true
           },
           "label": "perc_fatl_speed",
           "values": [
            19
           ]
          },
          {
           "axis": {
            "matches": true
           },
           "label": "perc_fatl_alcohol",
           "values": [
            27
           ]
          },
          {
           "axis": {
            "matches": true
           },
           "label": "perc_fatl_1st_time",
           "values": [
            88
           ]
          }
         ],
         "hovertemplate": "state=Virginia<br>%{xaxis.title.text}=%{x}<br>%{yaxis.title.text}=%{y}<extra></extra>",
         "legendgroup": "Virginia",
         "marker": {
          "color": "#FF6692",
          "symbol": "circle"
         },
         "name": "Virginia",
         "showlegend": true,
         "type": "splom"
        },
        {
         "dimensions": [
          {
           "axis": {
            "matches": true
           },
           "label": "drvr_fatl_col_bmiles",
           "values": [
            10.6
           ]
          },
          {
           "axis": {
            "matches": true
           },
           "label": "perc_fatl_speed",
           "values": [
            42
           ]
          },
          {
           "axis": {
            "matches": true
           },
           "label": "perc_fatl_alcohol",
           "values": [
            33
           ]
          },
          {
           "axis": {
            "matches": true
           },
           "label": "perc_fatl_1st_time",
           "values": [
            86
           ]
          }
         ],
         "hovertemplate": "state=Washington<br>%{xaxis.title.text}=%{x}<br>%{yaxis.title.text}=%{y}<extra></extra>",
         "legendgroup": "Washington",
         "marker": {
          "color": "#B6E880",
          "symbol": "circle"
         },
         "name": "Washington",
         "showlegend": true,
         "type": "splom"
        },
        {
         "dimensions": [
          {
           "axis": {
            "matches": true
           },
           "label": "drvr_fatl_col_bmiles",
           "values": [
            23.8
           ]
          },
          {
           "axis": {
            "matches": true
           },
           "label": "perc_fatl_speed",
           "values": [
            34
           ]
          },
          {
           "axis": {
            "matches": true
           },
           "label": "perc_fatl_alcohol",
           "values": [
            28
           ]
          },
          {
           "axis": {
            "matches": true
           },
           "label": "perc_fatl_1st_time",
           "values": [
            87
           ]
          }
         ],
         "hovertemplate": "state=West Virginia<br>%{xaxis.title.text}=%{x}<br>%{yaxis.title.text}=%{y}<extra></extra>",
         "legendgroup": "West Virginia",
         "marker": {
          "color": "#FF97FF",
          "symbol": "circle"
         },
         "name": "West Virginia",
         "showlegend": true,
         "type": "splom"
        },
        {
         "dimensions": [
          {
           "axis": {
            "matches": true
           },
           "label": "drvr_fatl_col_bmiles",
           "values": [
            13.8
           ]
          },
          {
           "axis": {
            "matches": true
           },
           "label": "perc_fatl_speed",
           "values": [
            36
           ]
          },
          {
           "axis": {
            "matches": true
           },
           "label": "perc_fatl_alcohol",
           "values": [
            33
           ]
          },
          {
           "axis": {
            "matches": true
           },
           "label": "perc_fatl_1st_time",
           "values": [
            84
           ]
          }
         ],
         "hovertemplate": "state=Wisconsin<br>%{xaxis.title.text}=%{x}<br>%{yaxis.title.text}=%{y}<extra></extra>",
         "legendgroup": "Wisconsin",
         "marker": {
          "color": "#FECB52",
          "symbol": "circle"
         },
         "name": "Wisconsin",
         "showlegend": true,
         "type": "splom"
        },
        {
         "dimensions": [
          {
           "axis": {
            "matches": true
           },
           "label": "drvr_fatl_col_bmiles",
           "values": [
            17.4
           ]
          },
          {
           "axis": {
            "matches": true
           },
           "label": "perc_fatl_speed",
           "values": [
            42
           ]
          },
          {
           "axis": {
            "matches": true
           },
           "label": "perc_fatl_alcohol",
           "values": [
            32
           ]
          },
          {
           "axis": {
            "matches": true
           },
           "label": "perc_fatl_1st_time",
           "values": [
            90
           ]
          }
         ],
         "hovertemplate": "state=Wyoming<br>%{xaxis.title.text}=%{x}<br>%{yaxis.title.text}=%{y}<extra></extra>",
         "legendgroup": "Wyoming",
         "marker": {
          "color": "#636efa",
          "symbol": "circle"
         },
         "name": "Wyoming",
         "showlegend": true,
         "type": "splom"
        }
       ],
       "layout": {
        "dragmode": "select",
        "height": 800,
        "hovermode": "closest",
        "legend": {
         "title": {
          "text": "state"
         },
         "tracegroupgap": 0
        },
        "margin": {
         "t": 60
        },
        "template": {
         "data": {
          "bar": [
           {
            "error_x": {
             "color": "#2a3f5f"
            },
            "error_y": {
             "color": "#2a3f5f"
            },
            "marker": {
             "line": {
              "color": "#E5ECF6",
              "width": 0.5
             },
             "pattern": {
              "fillmode": "overlay",
              "size": 10,
              "solidity": 0.2
             }
            },
            "type": "bar"
           }
          ],
          "barpolar": [
           {
            "marker": {
             "line": {
              "color": "#E5ECF6",
              "width": 0.5
             },
             "pattern": {
              "fillmode": "overlay",
              "size": 10,
              "solidity": 0.2
             }
            },
            "type": "barpolar"
           }
          ],
          "carpet": [
           {
            "aaxis": {
             "endlinecolor": "#2a3f5f",
             "gridcolor": "white",
             "linecolor": "white",
             "minorgridcolor": "white",
             "startlinecolor": "#2a3f5f"
            },
            "baxis": {
             "endlinecolor": "#2a3f5f",
             "gridcolor": "white",
             "linecolor": "white",
             "minorgridcolor": "white",
             "startlinecolor": "#2a3f5f"
            },
            "type": "carpet"
           }
          ],
          "choropleth": [
           {
            "colorbar": {
             "outlinewidth": 0,
             "ticks": ""
            },
            "type": "choropleth"
           }
          ],
          "contour": [
           {
            "colorbar": {
             "outlinewidth": 0,
             "ticks": ""
            },
            "colorscale": [
             [
              0,
              "#0d0887"
             ],
             [
              0.1111111111111111,
              "#46039f"
             ],
             [
              0.2222222222222222,
              "#7201a8"
             ],
             [
              0.3333333333333333,
              "#9c179e"
             ],
             [
              0.4444444444444444,
              "#bd3786"
             ],
             [
              0.5555555555555556,
              "#d8576b"
             ],
             [
              0.6666666666666666,
              "#ed7953"
             ],
             [
              0.7777777777777778,
              "#fb9f3a"
             ],
             [
              0.8888888888888888,
              "#fdca26"
             ],
             [
              1,
              "#f0f921"
             ]
            ],
            "type": "contour"
           }
          ],
          "contourcarpet": [
           {
            "colorbar": {
             "outlinewidth": 0,
             "ticks": ""
            },
            "type": "contourcarpet"
           }
          ],
          "heatmap": [
           {
            "colorbar": {
             "outlinewidth": 0,
             "ticks": ""
            },
            "colorscale": [
             [
              0,
              "#0d0887"
             ],
             [
              0.1111111111111111,
              "#46039f"
             ],
             [
              0.2222222222222222,
              "#7201a8"
             ],
             [
              0.3333333333333333,
              "#9c179e"
             ],
             [
              0.4444444444444444,
              "#bd3786"
             ],
             [
              0.5555555555555556,
              "#d8576b"
             ],
             [
              0.6666666666666666,
              "#ed7953"
             ],
             [
              0.7777777777777778,
              "#fb9f3a"
             ],
             [
              0.8888888888888888,
              "#fdca26"
             ],
             [
              1,
              "#f0f921"
             ]
            ],
            "type": "heatmap"
           }
          ],
          "heatmapgl": [
           {
            "colorbar": {
             "outlinewidth": 0,
             "ticks": ""
            },
            "colorscale": [
             [
              0,
              "#0d0887"
             ],
             [
              0.1111111111111111,
              "#46039f"
             ],
             [
              0.2222222222222222,
              "#7201a8"
             ],
             [
              0.3333333333333333,
              "#9c179e"
             ],
             [
              0.4444444444444444,
              "#bd3786"
             ],
             [
              0.5555555555555556,
              "#d8576b"
             ],
             [
              0.6666666666666666,
              "#ed7953"
             ],
             [
              0.7777777777777778,
              "#fb9f3a"
             ],
             [
              0.8888888888888888,
              "#fdca26"
             ],
             [
              1,
              "#f0f921"
             ]
            ],
            "type": "heatmapgl"
           }
          ],
          "histogram": [
           {
            "marker": {
             "pattern": {
              "fillmode": "overlay",
              "size": 10,
              "solidity": 0.2
             }
            },
            "type": "histogram"
           }
          ],
          "histogram2d": [
           {
            "colorbar": {
             "outlinewidth": 0,
             "ticks": ""
            },
            "colorscale": [
             [
              0,
              "#0d0887"
             ],
             [
              0.1111111111111111,
              "#46039f"
             ],
             [
              0.2222222222222222,
              "#7201a8"
             ],
             [
              0.3333333333333333,
              "#9c179e"
             ],
             [
              0.4444444444444444,
              "#bd3786"
             ],
             [
              0.5555555555555556,
              "#d8576b"
             ],
             [
              0.6666666666666666,
              "#ed7953"
             ],
             [
              0.7777777777777778,
              "#fb9f3a"
             ],
             [
              0.8888888888888888,
              "#fdca26"
             ],
             [
              1,
              "#f0f921"
             ]
            ],
            "type": "histogram2d"
           }
          ],
          "histogram2dcontour": [
           {
            "colorbar": {
             "outlinewidth": 0,
             "ticks": ""
            },
            "colorscale": [
             [
              0,
              "#0d0887"
             ],
             [
              0.1111111111111111,
              "#46039f"
             ],
             [
              0.2222222222222222,
              "#7201a8"
             ],
             [
              0.3333333333333333,
              "#9c179e"
             ],
             [
              0.4444444444444444,
              "#bd3786"
             ],
             [
              0.5555555555555556,
              "#d8576b"
             ],
             [
              0.6666666666666666,
              "#ed7953"
             ],
             [
              0.7777777777777778,
              "#fb9f3a"
             ],
             [
              0.8888888888888888,
              "#fdca26"
             ],
             [
              1,
              "#f0f921"
             ]
            ],
            "type": "histogram2dcontour"
           }
          ],
          "mesh3d": [
           {
            "colorbar": {
             "outlinewidth": 0,
             "ticks": ""
            },
            "type": "mesh3d"
           }
          ],
          "parcoords": [
           {
            "line": {
             "colorbar": {
              "outlinewidth": 0,
              "ticks": ""
             }
            },
            "type": "parcoords"
           }
          ],
          "pie": [
           {
            "automargin": true,
            "type": "pie"
           }
          ],
          "scatter": [
           {
            "fillpattern": {
             "fillmode": "overlay",
             "size": 10,
             "solidity": 0.2
            },
            "type": "scatter"
           }
          ],
          "scatter3d": [
           {
            "line": {
             "colorbar": {
              "outlinewidth": 0,
              "ticks": ""
             }
            },
            "marker": {
             "colorbar": {
              "outlinewidth": 0,
              "ticks": ""
             }
            },
            "type": "scatter3d"
           }
          ],
          "scattercarpet": [
           {
            "marker": {
             "colorbar": {
              "outlinewidth": 0,
              "ticks": ""
             }
            },
            "type": "scattercarpet"
           }
          ],
          "scattergeo": [
           {
            "marker": {
             "colorbar": {
              "outlinewidth": 0,
              "ticks": ""
             }
            },
            "type": "scattergeo"
           }
          ],
          "scattergl": [
           {
            "marker": {
             "colorbar": {
              "outlinewidth": 0,
              "ticks": ""
             }
            },
            "type": "scattergl"
           }
          ],
          "scattermapbox": [
           {
            "marker": {
             "colorbar": {
              "outlinewidth": 0,
              "ticks": ""
             }
            },
            "type": "scattermapbox"
           }
          ],
          "scatterpolar": [
           {
            "marker": {
             "colorbar": {
              "outlinewidth": 0,
              "ticks": ""
             }
            },
            "type": "scatterpolar"
           }
          ],
          "scatterpolargl": [
           {
            "marker": {
             "colorbar": {
              "outlinewidth": 0,
              "ticks": ""
             }
            },
            "type": "scatterpolargl"
           }
          ],
          "scatterternary": [
           {
            "marker": {
             "colorbar": {
              "outlinewidth": 0,
              "ticks": ""
             }
            },
            "type": "scatterternary"
           }
          ],
          "surface": [
           {
            "colorbar": {
             "outlinewidth": 0,
             "ticks": ""
            },
            "colorscale": [
             [
              0,
              "#0d0887"
             ],
             [
              0.1111111111111111,
              "#46039f"
             ],
             [
              0.2222222222222222,
              "#7201a8"
             ],
             [
              0.3333333333333333,
              "#9c179e"
             ],
             [
              0.4444444444444444,
              "#bd3786"
             ],
             [
              0.5555555555555556,
              "#d8576b"
             ],
             [
              0.6666666666666666,
              "#ed7953"
             ],
             [
              0.7777777777777778,
              "#fb9f3a"
             ],
             [
              0.8888888888888888,
              "#fdca26"
             ],
             [
              1,
              "#f0f921"
             ]
            ],
            "type": "surface"
           }
          ],
          "table": [
           {
            "cells": {
             "fill": {
              "color": "#EBF0F8"
             },
             "line": {
              "color": "white"
             }
            },
            "header": {
             "fill": {
              "color": "#C8D4E3"
             },
             "line": {
              "color": "white"
             }
            },
            "type": "table"
           }
          ]
         },
         "layout": {
          "annotationdefaults": {
           "arrowcolor": "#2a3f5f",
           "arrowhead": 0,
           "arrowwidth": 1
          },
          "autotypenumbers": "strict",
          "coloraxis": {
           "colorbar": {
            "outlinewidth": 0,
            "ticks": ""
           }
          },
          "colorscale": {
           "diverging": [
            [
             0,
             "#8e0152"
            ],
            [
             0.1,
             "#c51b7d"
            ],
            [
             0.2,
             "#de77ae"
            ],
            [
             0.3,
             "#f1b6da"
            ],
            [
             0.4,
             "#fde0ef"
            ],
            [
             0.5,
             "#f7f7f7"
            ],
            [
             0.6,
             "#e6f5d0"
            ],
            [
             0.7,
             "#b8e186"
            ],
            [
             0.8,
             "#7fbc41"
            ],
            [
             0.9,
             "#4d9221"
            ],
            [
             1,
             "#276419"
            ]
           ],
           "sequential": [
            [
             0,
             "#0d0887"
            ],
            [
             0.1111111111111111,
             "#46039f"
            ],
            [
             0.2222222222222222,
             "#7201a8"
            ],
            [
             0.3333333333333333,
             "#9c179e"
            ],
            [
             0.4444444444444444,
             "#bd3786"
            ],
            [
             0.5555555555555556,
             "#d8576b"
            ],
            [
             0.6666666666666666,
             "#ed7953"
            ],
            [
             0.7777777777777778,
             "#fb9f3a"
            ],
            [
             0.8888888888888888,
             "#fdca26"
            ],
            [
             1,
             "#f0f921"
            ]
           ],
           "sequentialminus": [
            [
             0,
             "#0d0887"
            ],
            [
             0.1111111111111111,
             "#46039f"
            ],
            [
             0.2222222222222222,
             "#7201a8"
            ],
            [
             0.3333333333333333,
             "#9c179e"
            ],
            [
             0.4444444444444444,
             "#bd3786"
            ],
            [
             0.5555555555555556,
             "#d8576b"
            ],
            [
             0.6666666666666666,
             "#ed7953"
            ],
            [
             0.7777777777777778,
             "#fb9f3a"
            ],
            [
             0.8888888888888888,
             "#fdca26"
            ],
            [
             1,
             "#f0f921"
            ]
           ]
          },
          "colorway": [
           "#636efa",
           "#EF553B",
           "#00cc96",
           "#ab63fa",
           "#FFA15A",
           "#19d3f3",
           "#FF6692",
           "#B6E880",
           "#FF97FF",
           "#FECB52"
          ],
          "font": {
           "color": "#2a3f5f"
          },
          "geo": {
           "bgcolor": "white",
           "lakecolor": "white",
           "landcolor": "#E5ECF6",
           "showlakes": true,
           "showland": true,
           "subunitcolor": "white"
          },
          "hoverlabel": {
           "align": "left"
          },
          "hovermode": "closest",
          "mapbox": {
           "style": "light"
          },
          "paper_bgcolor": "white",
          "plot_bgcolor": "#E5ECF6",
          "polar": {
           "angularaxis": {
            "gridcolor": "white",
            "linecolor": "white",
            "ticks": ""
           },
           "bgcolor": "#E5ECF6",
           "radialaxis": {
            "gridcolor": "white",
            "linecolor": "white",
            "ticks": ""
           }
          },
          "scene": {
           "xaxis": {
            "backgroundcolor": "#E5ECF6",
            "gridcolor": "white",
            "gridwidth": 2,
            "linecolor": "white",
            "showbackground": true,
            "ticks": "",
            "zerolinecolor": "white"
           },
           "yaxis": {
            "backgroundcolor": "#E5ECF6",
            "gridcolor": "white",
            "gridwidth": 2,
            "linecolor": "white",
            "showbackground": true,
            "ticks": "",
            "zerolinecolor": "white"
           },
           "zaxis": {
            "backgroundcolor": "#E5ECF6",
            "gridcolor": "white",
            "gridwidth": 2,
            "linecolor": "white",
            "showbackground": true,
            "ticks": "",
            "zerolinecolor": "white"
           }
          },
          "shapedefaults": {
           "line": {
            "color": "#2a3f5f"
           }
          },
          "ternary": {
           "aaxis": {
            "gridcolor": "white",
            "linecolor": "white",
            "ticks": ""
           },
           "baxis": {
            "gridcolor": "white",
            "linecolor": "white",
            "ticks": ""
           },
           "bgcolor": "#E5ECF6",
           "caxis": {
            "gridcolor": "white",
            "linecolor": "white",
            "ticks": ""
           }
          },
          "title": {
           "x": 0.05
          },
          "xaxis": {
           "automargin": true,
           "gridcolor": "white",
           "linecolor": "white",
           "ticks": "",
           "title": {
            "standoff": 15
           },
           "zerolinecolor": "white",
           "zerolinewidth": 2
          },
          "yaxis": {
           "automargin": true,
           "gridcolor": "white",
           "linecolor": "white",
           "ticks": "",
           "title": {
            "standoff": 15
           },
           "zerolinecolor": "white",
           "zerolinewidth": 2
          }
         }
        },
        "title": {
         "text": "Road_Accident_Mortality"
        },
        "width": 800
       }
      }
     },
     "metadata": {},
     "output_type": "display_data"
    }
   ],
   "source": [
    "import plotly.express as px\n",
    "fig = px.scatter_matrix(car_acc,\n",
    "    dimensions=[\"drvr_fatl_col_bmiles\", \"perc_fatl_speed\", \"perc_fatl_alcohol\", \"perc_fatl_1st_time\"],\n",
    "    color=\"state\")\n",
    "fig.update_layout(\n",
    "    title='Road_Accident_Mortality',\n",
    "    dragmode='select',\n",
    "    width=800,\n",
    "    height=800,\n",
    "    hovermode='closest',\n",
    ")\n",
    "fig.show()\n"
   ]
  },
  {
   "attachments": {},
   "cell_type": "markdown",
   "metadata": {},
   "source": [
    "# Pearson correlation coefficient"
   ]
  },
  {
   "cell_type": "code",
   "execution_count": 38,
   "metadata": {},
   "outputs": [
    {
     "name": "stderr",
     "output_type": "stream",
     "text": [
      "C:\\Users\\popo\\AppData\\Local\\Temp\\ipykernel_2884\\2255855268.py:1: FutureWarning:\n",
      "\n",
      "The default value of numeric_only in DataFrame.corr is deprecated. In a future version, it will default to False. Select only valid columns or specify the value of numeric_only to silence this warning.\n",
      "\n"
     ]
    },
    {
     "data": {
      "text/html": [
       "<div>\n",
       "<style scoped>\n",
       "    .dataframe tbody tr th:only-of-type {\n",
       "        vertical-align: middle;\n",
       "    }\n",
       "\n",
       "    .dataframe tbody tr th {\n",
       "        vertical-align: top;\n",
       "    }\n",
       "\n",
       "    .dataframe thead th {\n",
       "        text-align: right;\n",
       "    }\n",
       "</style>\n",
       "<table border=\"1\" class=\"dataframe\">\n",
       "  <thead>\n",
       "    <tr style=\"text-align: right;\">\n",
       "      <th></th>\n",
       "      <th>drvr_fatl_col_bmiles</th>\n",
       "      <th>perc_fatl_speed</th>\n",
       "      <th>perc_fatl_alcohol</th>\n",
       "      <th>perc_fatl_1st_time</th>\n",
       "      <th>million_miles_annually</th>\n",
       "    </tr>\n",
       "  </thead>\n",
       "  <tbody>\n",
       "    <tr>\n",
       "      <th>drvr_fatl_col_bmiles</th>\n",
       "      <td>1.000000</td>\n",
       "      <td>-0.029080</td>\n",
       "      <td>0.199426</td>\n",
       "      <td>-0.017942</td>\n",
       "      <td>-0.077133</td>\n",
       "    </tr>\n",
       "    <tr>\n",
       "      <th>perc_fatl_speed</th>\n",
       "      <td>-0.029080</td>\n",
       "      <td>1.000000</td>\n",
       "      <td>0.286244</td>\n",
       "      <td>0.014066</td>\n",
       "      <td>-0.043199</td>\n",
       "    </tr>\n",
       "    <tr>\n",
       "      <th>perc_fatl_alcohol</th>\n",
       "      <td>0.199426</td>\n",
       "      <td>0.286244</td>\n",
       "      <td>1.000000</td>\n",
       "      <td>-0.245455</td>\n",
       "      <td>-0.034561</td>\n",
       "    </tr>\n",
       "    <tr>\n",
       "      <th>perc_fatl_1st_time</th>\n",
       "      <td>-0.017942</td>\n",
       "      <td>0.014066</td>\n",
       "      <td>-0.245455</td>\n",
       "      <td>1.000000</td>\n",
       "      <td>-0.128928</td>\n",
       "    </tr>\n",
       "    <tr>\n",
       "      <th>million_miles_annually</th>\n",
       "      <td>-0.077133</td>\n",
       "      <td>-0.043199</td>\n",
       "      <td>-0.034561</td>\n",
       "      <td>-0.128928</td>\n",
       "      <td>1.000000</td>\n",
       "    </tr>\n",
       "  </tbody>\n",
       "</table>\n",
       "</div>"
      ],
      "text/plain": [
       "                        drvr_fatl_col_bmiles  perc_fatl_speed  \\\n",
       "drvr_fatl_col_bmiles                1.000000        -0.029080   \n",
       "perc_fatl_speed                    -0.029080         1.000000   \n",
       "perc_fatl_alcohol                   0.199426         0.286244   \n",
       "perc_fatl_1st_time                 -0.017942         0.014066   \n",
       "million_miles_annually             -0.077133        -0.043199   \n",
       "\n",
       "                        perc_fatl_alcohol  perc_fatl_1st_time  \\\n",
       "drvr_fatl_col_bmiles             0.199426           -0.017942   \n",
       "perc_fatl_speed                  0.286244            0.014066   \n",
       "perc_fatl_alcohol                1.000000           -0.245455   \n",
       "perc_fatl_1st_time              -0.245455            1.000000   \n",
       "million_miles_annually          -0.034561           -0.128928   \n",
       "\n",
       "                        million_miles_annually  \n",
       "drvr_fatl_col_bmiles                 -0.077133  \n",
       "perc_fatl_speed                      -0.043199  \n",
       "perc_fatl_alcohol                    -0.034561  \n",
       "perc_fatl_1st_time                   -0.128928  \n",
       "million_miles_annually                1.000000  "
      ]
     },
     "execution_count": 38,
     "metadata": {},
     "output_type": "execute_result"
    }
   ],
   "source": [
    "\n",
    "pearsoncorr = car_acc.corr(method='pearson')\n",
    "pearsoncorr"
   ]
  },
  {
   "cell_type": "code",
   "execution_count": 39,
   "metadata": {},
   "outputs": [
    {
     "data": {
      "text/plain": [
       "<AxesSubplot: >"
      ]
     },
     "execution_count": 39,
     "metadata": {},
     "output_type": "execute_result"
    },
    {
     "data": {
      "image/png": "[encoded data removed]",
      "text/plain": [
       "<Figure size 640x480 with 2 Axes>"
      ]
     },
     "metadata": {},
     "output_type": "display_data"
    }
   ],
   "source": [
    "sb.heatmap(pearsoncorr, \n",
    "            xticklabels=pearsoncorr.columns,\n",
    "            yticklabels=pearsoncorr.columns,\n",
    "            cmap='RdBu_r',\n",
    "            annot=True,\n",
    "            linewidth=0.5)"
   ]
  },
  {
   "attachments": {},
   "cell_type": "markdown",
   "metadata": {},
   "source": [
    "# Multi_Varient_Regression"
   ]
  },
  {
   "cell_type": "code",
   "execution_count": 40,
   "metadata": {},
   "outputs": [],
   "source": [
    "from mpl_toolkits.mplot3d import Axes3D\n",
    "import pandas as pd\n",
    "import matplotlib.pyplot as plt\n",
    "import numpy as np\n",
    "from sklearn import linear_model\n",
    "np.random.seed(19680801)"
   ]
  },
  {
   "cell_type": "code",
   "execution_count": 41,
   "metadata": {},
   "outputs": [],
   "source": [
    "import pandas as pd\n",
    "from sklearn import linear_model\n",
    "import statsmodels.api as sm"
   ]
  },
  {
   "cell_type": "code",
   "execution_count": 42,
   "metadata": {},
   "outputs": [
    {
     "data": {
      "text/plain": [
       "False"
      ]
     },
     "execution_count": 42,
     "metadata": {},
     "output_type": "execute_result"
    }
   ],
   "source": [
    "car_acc.isnull().values.any()"
   ]
  },
  {
   "cell_type": "code",
   "execution_count": 43,
   "metadata": {},
   "outputs": [
    {
     "name": "stdout",
     "output_type": "stream",
     "text": [
      "Intercept: \n",
      " 9.064980483403303\n",
      "Coefficients: \n",
      " [-0.04180041  0.19086404  0.02473301]\n",
      "                                  OLS Regression Results                                 \n",
      "=========================================================================================\n",
      "Dep. Variable:     drvr_fatl_col_bmiles   R-squared (uncentered):                   0.939\n",
      "Model:                              OLS   Adj. R-squared (uncentered):              0.935\n",
      "Method:                   Least Squares   F-statistic:                              247.5\n",
      "Date:                  Wed, 22 Feb 2023   Prob (F-statistic):                    3.45e-29\n",
      "Time:                          21:11:12   Log-Likelihood:                         -143.31\n",
      "No. Observations:                    51   AIC:                                      292.6\n",
      "Df Residuals:                        48   BIC:                                      298.4\n",
      "Df Model:                             3                                                  \n",
      "Covariance Type:              nonrobust                                                  \n",
      "======================================================================================\n",
      "                         coef    std err          t      P>|t|      [0.025      0.975]\n",
      "--------------------------------------------------------------------------------------\n",
      "perc_fatl_speed       -0.0405      0.064     -0.636      0.528      -0.169       0.088\n",
      "perc_fatl_alcohol      0.2581      0.102      2.522      0.015       0.052       0.464\n",
      "perc_fatl_1st_time     0.1028      0.035      2.979      0.005       0.033       0.172\n",
      "==============================================================================\n",
      "Omnibus:                        0.007   Durbin-Watson:                   1.801\n",
      "Prob(Omnibus):                  0.997   Jarque-Bera (JB):                0.086\n",
      "Skew:                          -0.017   Prob(JB):                        0.958\n",
      "Kurtosis:                       2.802   Cond. No.                         18.6\n",
      "==============================================================================\n",
      "\n",
      "Notes:\n",
      "[1] R² is computed without centering (uncentered) since the model does not contain a constant.\n",
      "[2] Standard Errors assume that the covariance matrix of the errors is correctly specified.\n"
     ]
    }
   ],
   "source": [
    "\n",
    "features = car_acc[[\"perc_fatl_speed\",\"perc_fatl_alcohol\",\"perc_fatl_1st_time\"]]\n",
    "target = car_acc['drvr_fatl_col_bmiles']\n",
    "\n",
    "# with sklearn\n",
    "regr = linear_model.LinearRegression()\n",
    "regr.fit(features, target)\n",
    "\n",
    "print('Intercept: \\n', regr.intercept_)\n",
    "print('Coefficients: \\n', regr.coef_)\n",
    "\n",
    "# with statsmodels\n",
    "x = sm.add_constant(features) # adding a constant\n",
    " \n",
    "model = sm.OLS(target, features).fit()\n",
    "predictions = model.predict(features) \n",
    " \n",
    "print_model = model.summary()\n",
    "print(print_model)"
   ]
  },
  {
   "attachments": {},
   "cell_type": "markdown",
   "metadata": {},
   "source": [
    "# PCA on standardized data"
   ]
  },
  {
   "cell_type": "code",
   "execution_count": 44,
   "metadata": {},
   "outputs": [],
   "source": [
    "from sklearn.preprocessing import StandardScaler\n",
    "features_scaled = StandardScaler().fit_transform(features)\n"
   ]
  },
  {
   "cell_type": "code",
   "execution_count": 45,
   "metadata": {},
   "outputs": [
    {
     "name": "stdout",
     "output_type": "stream",
     "text": [
      "The cumulative variance of the first two principal components is 0.7947\n"
     ]
    },
    {
     "data": {
      "image/png": "[encoded data removed]",
      "text/plain": [
       "<Figure size 640x480 with 1 Axes>"
      ]
     },
     "metadata": {},
     "output_type": "display_data"
    }
   ],
   "source": [
    "from sklearn.decomposition import PCA\n",
    "pca = PCA()\n",
    "\n",
    "# Fit the standardized data to the pca\n",
    "pca.fit(features_scaled)\n",
    "\n",
    "# Plot the proportion of variance explained on the y-axis of the bar plot\n",
    "import matplotlib.pyplot as plt\n",
    "plt.bar(range(1, pca.n_components_ + 1),  pca.explained_variance_ratio_)\n",
    "plt.xlabel('Principal component #')\n",
    "plt.ylabel('Proportion of variance explained')\n",
    "plt.xticks([1, 2, 3])\n",
    "\n",
    "# Compute the cumulative proportion of variance explained by the first two principal components\n",
    "two_first_comp_var_exp = pca.explained_variance_ratio_.cumsum()[1]\n",
    "print(\"The cumulative variance of the first two principal components is {}\".format(\n",
    "    round(two_first_comp_var_exp, 5)))"
   ]
  },
  {
   "attachments": {},
   "cell_type": "markdown",
   "metadata": {},
   "source": [
    "# Visualize the first two principal components"
   ]
  },
  {
   "cell_type": "code",
   "execution_count": 46,
   "metadata": {},
   "outputs": [
    {
     "data": {
      "text/plain": [
       "<matplotlib.collections.PathCollection at 0x25e120a9fa0>"
      ]
     },
     "execution_count": 46,
     "metadata": {},
     "output_type": "execute_result"
    },
    {
     "data": {
      "image/png": "[encoded data removed]",
      "text/plain": [
       "<Figure size 640x480 with 1 Axes>"
      ]
     },
     "metadata": {},
     "output_type": "display_data"
    }
   ],
   "source": [
    "# Transform the scaled features using two principal components\n",
    "pca = PCA(n_components=2)\n",
    "p_comps = pca.fit_transform(features_scaled)\n",
    "\n",
    "# Extract the first and second component to use for the scatter plot\n",
    "p_comp1 = p_comps[:,0]\n",
    "p_comp2 = p_comps[:,1]\n",
    "\n",
    "# Plot the first two principal components in a scatter plot\n",
    "plt.scatter(p_comp1,p_comp2)"
   ]
  },
  {
   "cell_type": "code",
   "execution_count": 47,
   "metadata": {},
   "outputs": [
    {
     "name": "stderr",
     "output_type": "stream",
     "text": [
      "c:\\Users\\popo\\anaconda3\\lib\\site-packages\\sklearn\\neighbors\\_classification.py:237: FutureWarning:\n",
      "\n",
      "Unlike other reduction functions (e.g. `skew`, `kurtosis`), the default behavior of `mode` typically preserves the axis it acts along. In SciPy 1.11.0, this behavior will change: the default value of `keepdims` will become False, the `axis` over which the statistic is taken will be eliminated, and the value None will no longer be accepted. Set `keepdims` to True or False to avoid this warning.\n",
      "\n",
      "c:\\Users\\popo\\anaconda3\\lib\\site-packages\\sklearn\\neighbors\\_classification.py:237: FutureWarning:\n",
      "\n",
      "Unlike other reduction functions (e.g. `skew`, `kurtosis`), the default behavior of `mode` typically preserves the axis it acts along. In SciPy 1.11.0, this behavior will change: the default value of `keepdims` will become False, the `axis` over which the statistic is taken will be eliminated, and the value None will no longer be accepted. Set `keepdims` to True or False to avoid this warning.\n",
      "\n"
     ]
    },
    {
     "ename": "IndexError",
     "evalue": "only integers, slices (`:`), ellipsis (`...`), numpy.newaxis (`None`) and integer or boolean arrays are valid indices",
     "output_type": "error",
     "traceback": [
      "\u001b[1;31m---------------------------------------------------------------------------\u001b[0m",
      "\u001b[1;31mIndexError\u001b[0m                                Traceback (most recent call last)",
      "\u001b[1;32m~\\AppData\\Local\\Temp\\ipykernel_2884\\1156502497.py\u001b[0m in \u001b[0;36m<module>\u001b[1;34m\u001b[0m\n\u001b[0;32m     34\u001b[0m \u001b[0max1\u001b[0m\u001b[1;33m.\u001b[0m\u001b[0mset_title\u001b[0m\u001b[1;33m(\u001b[0m\u001b[1;34m\"KNN without scaling\"\u001b[0m\u001b[1;33m)\u001b[0m\u001b[1;33m\u001b[0m\u001b[1;33m\u001b[0m\u001b[0m\n\u001b[0;32m     35\u001b[0m \u001b[1;33m\u001b[0m\u001b[0m\n\u001b[1;32m---> 36\u001b[1;33m \u001b[0mfit_and_plot_model\u001b[0m\u001b[1;33m(\u001b[0m\u001b[0mX_plot_scaled\u001b[0m \u001b[1;33m,\u001b[0m \u001b[0my_transformed\u001b[0m\u001b[1;33m,\u001b[0m \u001b[0mclf\u001b[0m\u001b[1;33m,\u001b[0m \u001b[0max2\u001b[0m\u001b[1;33m)\u001b[0m\u001b[1;33m\u001b[0m\u001b[1;33m\u001b[0m\u001b[0m\n\u001b[0m\u001b[0;32m     37\u001b[0m \u001b[0max2\u001b[0m\u001b[1;33m.\u001b[0m\u001b[0mset_xlabel\u001b[0m\u001b[1;33m(\u001b[0m\u001b[1;34m\"scaled proline\"\u001b[0m\u001b[1;33m)\u001b[0m\u001b[1;33m\u001b[0m\u001b[1;33m\u001b[0m\u001b[0m\n\u001b[0;32m     38\u001b[0m \u001b[0max2\u001b[0m\u001b[1;33m.\u001b[0m\u001b[0mset_ylabel\u001b[0m\u001b[1;33m(\u001b[0m\u001b[1;34m\"scaled hue\"\u001b[0m\u001b[1;33m)\u001b[0m\u001b[1;33m\u001b[0m\u001b[1;33m\u001b[0m\u001b[0m\n",
      "\u001b[1;32m~\\AppData\\Local\\Temp\\ipykernel_2884\\1156502497.py\u001b[0m in \u001b[0;36mfit_and_plot_model\u001b[1;34m(X_plot, target, clf, ax)\u001b[0m\n\u001b[0;32m     22\u001b[0m         \u001b[0max\u001b[0m\u001b[1;33m=\u001b[0m\u001b[0max\u001b[0m\u001b[1;33m,\u001b[0m\u001b[1;33m\u001b[0m\u001b[1;33m\u001b[0m\u001b[0m\n\u001b[0;32m     23\u001b[0m     )\n\u001b[1;32m---> 24\u001b[1;33m     \u001b[0mdisp\u001b[0m\u001b[1;33m.\u001b[0m\u001b[0max_\u001b[0m\u001b[1;33m.\u001b[0m\u001b[0mscatter\u001b[0m\u001b[1;33m(\u001b[0m\u001b[0mX_plot\u001b[0m\u001b[1;33m[\u001b[0m\u001b[1;34m\"perc_fatl_speed\"\u001b[0m\u001b[1;33m]\u001b[0m\u001b[1;33m,\u001b[0m \u001b[0mX_plot\u001b[0m\u001b[1;33m[\u001b[0m\u001b[1;34m\"perc_fatl_alcohol\"\u001b[0m\u001b[1;33m]\u001b[0m\u001b[1;33m,\u001b[0m \u001b[0mc\u001b[0m\u001b[1;33m=\u001b[0m\u001b[0mtarget\u001b[0m\u001b[1;33m,\u001b[0m \u001b[0ms\u001b[0m\u001b[1;33m=\u001b[0m\u001b[1;36m20\u001b[0m\u001b[1;33m,\u001b[0m \u001b[0medgecolor\u001b[0m\u001b[1;33m=\u001b[0m\u001b[1;34m\"k\"\u001b[0m\u001b[1;33m)\u001b[0m\u001b[1;33m\u001b[0m\u001b[1;33m\u001b[0m\u001b[0m\n\u001b[0m\u001b[0;32m     25\u001b[0m     \u001b[0mdisp\u001b[0m\u001b[1;33m.\u001b[0m\u001b[0max_\u001b[0m\u001b[1;33m.\u001b[0m\u001b[0mset_xlim\u001b[0m\u001b[1;33m(\u001b[0m\u001b[1;33m(\u001b[0m\u001b[0mX_plot\u001b[0m\u001b[1;33m[\u001b[0m\u001b[1;34m\"perc_fatl_speed\"\u001b[0m\u001b[1;33m]\u001b[0m\u001b[1;33m.\u001b[0m\u001b[0mmin\u001b[0m\u001b[1;33m(\u001b[0m\u001b[1;33m)\u001b[0m\u001b[1;33m,\u001b[0m \u001b[0mX_plot\u001b[0m\u001b[1;33m[\u001b[0m\u001b[1;34m\"perc_fatl_speed\"\u001b[0m\u001b[1;33m]\u001b[0m\u001b[1;33m.\u001b[0m\u001b[0mmax\u001b[0m\u001b[1;33m(\u001b[0m\u001b[1;33m)\u001b[0m\u001b[1;33m)\u001b[0m\u001b[1;33m)\u001b[0m\u001b[1;33m\u001b[0m\u001b[1;33m\u001b[0m\u001b[0m\n\u001b[0;32m     26\u001b[0m     \u001b[0mdisp\u001b[0m\u001b[1;33m.\u001b[0m\u001b[0max_\u001b[0m\u001b[1;33m.\u001b[0m\u001b[0mset_ylim\u001b[0m\u001b[1;33m(\u001b[0m\u001b[1;33m(\u001b[0m\u001b[0mX_plot\u001b[0m\u001b[1;33m[\u001b[0m\u001b[1;34m\"perc_fatl_alcohol\"\u001b[0m\u001b[1;33m]\u001b[0m\u001b[1;33m.\u001b[0m\u001b[0mmin\u001b[0m\u001b[1;33m(\u001b[0m\u001b[1;33m)\u001b[0m\u001b[1;33m,\u001b[0m \u001b[0mX_plot\u001b[0m\u001b[1;33m[\u001b[0m\u001b[1;34m\"perc_fatl_alcohol\"\u001b[0m\u001b[1;33m]\u001b[0m\u001b[1;33m.\u001b[0m\u001b[0mmax\u001b[0m\u001b[1;33m(\u001b[0m\u001b[1;33m)\u001b[0m\u001b[1;33m)\u001b[0m\u001b[1;33m)\u001b[0m\u001b[1;33m\u001b[0m\u001b[1;33m\u001b[0m\u001b[0m\n",
      "\u001b[1;31mIndexError\u001b[0m: only integers, slices (`:`), ellipsis (`...`), numpy.newaxis (`None`) and integer or boolean arrays are valid indices"
     ]
    },
    {
     "data": {
      "image/png": "[encoded data removed]",
      "text/plain": [
       "<Figure size 1200x600 with 2 Axes>"
      ]
     },
     "metadata": {},
     "output_type": "display_data"
    }
   ],
   "source": [
    "\n",
    "from sklearn.model_selection import train_test_split\n",
    "from sklearn.preprocessing import StandardScaler\n",
    "\n",
    "\n",
    "import matplotlib.pyplot as plt\n",
    "from sklearn.inspection import DecisionBoundaryDisplay\n",
    "from sklearn.neighbors import KNeighborsClassifier\n",
    "from sklearn import preprocessing\n",
    "from sklearn import utils\n",
    "\n",
    "clf = KNeighborsClassifier(n_neighbors=20)\n",
    "X_plot = car_acc[[\"perc_fatl_speed\", \"perc_fatl_alcohol\"]]\n",
    "X_plot_scaled = StandardScaler().fit_transform(X_plot)\n",
    "\n",
    "def fit_and_plot_model(X_plot, target, clf, ax):\n",
    "    clf.fit(X_plot, target)\n",
    "    disp = DecisionBoundaryDisplay.from_estimator(\n",
    "        clf,\n",
    "        X_plot,\n",
    "        response_method=\"predict\",\n",
    "        alpha=0.5,\n",
    "        ax=ax,\n",
    "    )\n",
    "    disp.ax_.scatter(X_plot[\"perc_fatl_speed\"], X_plot[\"perc_fatl_alcohol\"], c=target, s=20, edgecolor=\"k\")\n",
    "    disp.ax_.set_xlim((X_plot[\"perc_fatl_speed\"].min(), X_plot[\"perc_fatl_speed\"].max()))\n",
    "    disp.ax_.set_ylim((X_plot[\"perc_fatl_alcohol\"].min(), X_plot[\"perc_fatl_alcohol\"].max()))\n",
    "    return disp.ax_\n",
    "\n",
    "\n",
    "fig, (ax1, ax2) = plt.subplots(ncols=2, figsize=(12, 6))\n",
    "lab = preprocessing.LabelEncoder()\n",
    "y_transformed = lab.fit_transform(target)\n",
    "fit_and_plot_model(X_plot,y_transformed, clf, ax1)\n",
    "ax1.set_title(\"KNN without scaling\")\n",
    "\n",
    "fit_and_plot_model(X_plot_scaled , y_transformed, clf, ax2)\n",
    "ax2.set_xlabel(\"scaled proline\")\n",
    "ax2.set_ylabel(\"scaled hue\")\n",
    "_ = ax2.set_title(\"KNN with scaling\")\n",
    "\n"
   ]
  },
  {
   "cell_type": "code",
   "execution_count": null,
   "metadata": {},
   "outputs": [
    {
     "data": {
      "image/png": "[encoded data removed]",
      "text/plain": [
       "<Figure size 600x800 with 1 Axes>"
      ]
     },
     "metadata": {},
     "output_type": "display_data"
    }
   ],
   "source": [
    "from sklearn.datasets import load_wine\n",
    "from sklearn.model_selection import train_test_split\n",
    "from  sklearn.preprocessing import StandardScaler\n",
    "# x=car_acc[[\"perc_fatl_speed\", \"perc_fatl_alcohol\", \"perc_fatl_1st_time\"]]\n",
    "X_train, X_test, y_train, y_test = train_test_split(\n",
    "   features, target, test_size=0.30, random_state=42\n",
    ")\n",
    "\n",
    "\n",
    "\n",
    "import pandas as pd\n",
    "from sklearn.decomposition import PCA\n",
    "\n",
    "pca = PCA(n_components=2).fit(X_train)\n",
    "scaled_pca = PCA(n_components=2).fit(features_scaled)\n",
    "X_train_transformed = pca.transform(X_train)\n",
    "X_train_std_transformed = scaled_pca.transform(features_scaled)\n",
    "\n",
    "first_pca_component = pd.DataFrame(\n",
    "    pca.components_[0], index= X_train.columns, columns=[\"without scaling\"]\n",
    ")\n",
    "first_pca_component[\"with scaling\"] = scaled_pca.components_[0]\n",
    "first_pca_component.plot.bar(\n",
    "    title=\"Weights of the first principal component\", figsize=(6, 8)\n",
    ")\n",
    "\n",
    "_ = plt.tight_layout()"
   ]
  },
  {
   "attachments": {},
   "cell_type": "markdown",
   "metadata": {},
   "source": [
    "# clusters of similar states in the data"
   ]
  },
  {
   "cell_type": "code",
   "execution_count": null,
   "metadata": {},
   "outputs": [
    {
     "name": "stderr",
     "output_type": "stream",
     "text": [
      "c:\\Users\\popo\\anaconda3\\lib\\site-packages\\sklearn\\cluster\\_kmeans.py:1332: UserWarning:\n",
      "\n",
      "KMeans is known to have a memory leak on Windows with MKL, when there are less chunks than available threads. You can avoid it by setting the environment variable OMP_NUM_THREADS=1.\n",
      "\n",
      "c:\\Users\\popo\\anaconda3\\lib\\site-packages\\sklearn\\cluster\\_kmeans.py:1332: UserWarning:\n",
      "\n",
      "KMeans is known to have a memory leak on Windows with MKL, when there are less chunks than available threads. You can avoid it by setting the environment variable OMP_NUM_THREADS=1.\n",
      "\n",
      "c:\\Users\\popo\\anaconda3\\lib\\site-packages\\sklearn\\cluster\\_kmeans.py:1332: UserWarning:\n",
      "\n",
      "KMeans is known to have a memory leak on Windows with MKL, when there are less chunks than available threads. You can avoid it by setting the environment variable OMP_NUM_THREADS=1.\n",
      "\n",
      "c:\\Users\\popo\\anaconda3\\lib\\site-packages\\sklearn\\cluster\\_kmeans.py:1332: UserWarning:\n",
      "\n",
      "KMeans is known to have a memory leak on Windows with MKL, when there are less chunks than available threads. You can avoid it by setting the environment variable OMP_NUM_THREADS=1.\n",
      "\n",
      "c:\\Users\\popo\\anaconda3\\lib\\site-packages\\sklearn\\cluster\\_kmeans.py:1332: UserWarning:\n",
      "\n",
      "KMeans is known to have a memory leak on Windows with MKL, when there are less chunks than available threads. You can avoid it by setting the environment variable OMP_NUM_THREADS=1.\n",
      "\n",
      "c:\\Users\\popo\\anaconda3\\lib\\site-packages\\sklearn\\cluster\\_kmeans.py:1332: UserWarning:\n",
      "\n",
      "KMeans is known to have a memory leak on Windows with MKL, when there are less chunks than available threads. You can avoid it by setting the environment variable OMP_NUM_THREADS=1.\n",
      "\n",
      "c:\\Users\\popo\\anaconda3\\lib\\site-packages\\sklearn\\cluster\\_kmeans.py:1332: UserWarning:\n",
      "\n",
      "KMeans is known to have a memory leak on Windows with MKL, when there are less chunks than available threads. You can avoid it by setting the environment variable OMP_NUM_THREADS=1.\n",
      "\n",
      "c:\\Users\\popo\\anaconda3\\lib\\site-packages\\sklearn\\cluster\\_kmeans.py:1332: UserWarning:\n",
      "\n",
      "KMeans is known to have a memory leak on Windows with MKL, when there are less chunks than available threads. You can avoid it by setting the environment variable OMP_NUM_THREADS=1.\n",
      "\n",
      "c:\\Users\\popo\\anaconda3\\lib\\site-packages\\sklearn\\cluster\\_kmeans.py:1332: UserWarning:\n",
      "\n",
      "KMeans is known to have a memory leak on Windows with MKL, when there are less chunks than available threads. You can avoid it by setting the environment variable OMP_NUM_THREADS=1.\n",
      "\n"
     ]
    },
    {
     "data": {
      "text/plain": [
       "[<matplotlib.lines.Line2D at 0x1c1db457130>]"
      ]
     },
     "execution_count": 42,
     "metadata": {},
     "output_type": "execute_result"
    },
    {
     "data": {
      "image/png": "[encoded data removed]",
      "text/plain": [
       "<Figure size 640x480 with 1 Axes>"
      ]
     },
     "metadata": {},
     "output_type": "display_data"
    }
   ],
   "source": [
    "# Import KMeans from sklearn\n",
    "from sklearn.cluster import KMeans\n",
    "\n",
    "# A loop will be used to plot the explanatory power for up to 10 KMeans clusters\n",
    "ks = range(1, 10)\n",
    "inertias = []\n",
    "for k in ks:\n",
    "    # Initialize the KMeans object using the current number of clusters (k)\n",
    "    km = KMeans(n_clusters=k, random_state=8)\n",
    "    # Fit the scaled features to the KMeans object\n",
    "    km.fit(features_scaled)\n",
    "    # Append the inertia for `km` to the list of inertias\n",
    "    inertias.append(km.inertia_)\n",
    "    \n",
    "# Plot the results in a line plot\n",
    "plt.plot(ks, inertias, marker='o')"
   ]
  },
  {
   "attachments": {},
   "cell_type": "markdown",
   "metadata": {},
   "source": [
    "# Visualize the first two principal components"
   ]
  },
  {
   "attachments": {},
   "cell_type": "markdown",
   "metadata": {},
   "source": [
    "# Kmeans"
   ]
  },
  {
   "cell_type": "code",
   "execution_count": null,
   "metadata": {},
   "outputs": [
    {
     "data": {
      "text/plain": [
       "(51, 6)"
      ]
     },
     "execution_count": 131,
     "metadata": {},
     "output_type": "execute_result"
    }
   ],
   "source": [
    "#Importing required modules\n",
    " \n",
    "from sklearn.datasets import load_digits\n",
    "from sklearn.decomposition import PCA\n",
    "from sklearn.cluster import KMeans\n",
    "import numpy as np\n",
    " \n",
    "\n",
    "pca = PCA(2)\n",
    " \n",
    "car_acc.shape"
   ]
  },
  {
   "cell_type": "code",
   "execution_count": null,
   "metadata": {},
   "outputs": [
    {
     "name": "stderr",
     "output_type": "stream",
     "text": [
      "c:\\Users\\popo\\anaconda3\\lib\\site-packages\\sklearn\\cluster\\_kmeans.py:1332: UserWarning:\n",
      "\n",
      "KMeans is known to have a memory leak on Windows with MKL, when there are less chunks than available threads. You can avoid it by setting the environment variable OMP_NUM_THREADS=1.\n",
      "\n"
     ]
    },
    {
     "name": "stdout",
     "output_type": "stream",
     "text": [
      "[4 3 3 7 0 3 2 3 3 7 7 2 3 3 7 1 0 5 3 4 3 8 5 1 7 2 6 1 3 4 5 7 4 4 8 8 3\n",
      " 0 2 6 6 4 5 2 9 3 1 2 0 4 2]\n"
     ]
    }
   ],
   "source": [
    "#Import required module\n",
    "from sklearn.cluster import KMeans\n",
    " \n",
    "#Initialize the class object\n",
    "kmeans = KMeans(n_clusters= 10)\n",
    " \n",
    "#predict the labels of clusters.\n",
    "label = kmeans.fit_predict(car_acc[[\"perc_fatl_speed\", \"perc_fatl_alcohol\", \"perc_fatl_1st_time\"]])\n",
    " \n",
    "print(label)"
   ]
  },
  {
   "cell_type": "code",
   "execution_count": null,
   "metadata": {},
   "outputs": [
    {
     "name": "stderr",
     "output_type": "stream",
     "text": [
      "c:\\Users\\popo\\anaconda3\\lib\\site-packages\\sklearn\\cluster\\_kmeans.py:1332: UserWarning:\n",
      "\n",
      "KMeans is known to have a memory leak on Windows with MKL, when there are less chunks than available threads. You can avoid it by setting the environment variable OMP_NUM_THREADS=1.\n",
      "\n"
     ]
    }
   ],
   "source": [
    "#Import required module\n",
    "from sklearn.cluster import KMeans\n",
    " \n",
    "#Initialize the class object\n",
    "kmeans = KMeans(n_clusters= 10)\n",
    " \n",
    "#predict the labels of clusters.\n",
    "label = kmeans.fit_predict(car_acc[[\"perc_fatl_speed\", \"perc_fatl_alcohol\", \"perc_fatl_1st_time\"]])\n",
    "\n"
   ]
  },
  {
   "attachments": {},
   "cell_type": "markdown",
   "metadata": {},
   "source": [
    "# Clustering "
   ]
  },
  {
   "cell_type": "code",
   "execution_count": null,
   "metadata": {},
   "outputs": [
    {
     "name": "stderr",
     "output_type": "stream",
     "text": [
      "c:\\Users\\popo\\anaconda3\\lib\\site-packages\\sklearn\\cluster\\_kmeans.py:1332: UserWarning:\n",
      "\n",
      "KMeans is known to have a memory leak on Windows with MKL, when there are less chunks than available threads. You can avoid it by setting the environment variable OMP_NUM_THREADS=1.\n",
      "\n"
     ]
    }
   ],
   "source": [
    "from sklearn.cluster import KMeans\n",
    "import numpy as np\n",
    "# k means\n",
    "kmeans = KMeans(n_clusters=3, random_state=0)\n",
    "car_acc['cluster'] = kmeans.fit_predict(car_acc[[\"perc_fatl_speed\", \"perc_fatl_alcohol\", \"perc_fatl_1st_time\"]])\n",
    "# get centroids\n",
    "centroids = kmeans.cluster_centers_\n",
    "cen_x = [i[0] for i in centroids] \n",
    "cen_y = [i[1] for i in centroids]\n",
    "## add to df\n",
    "car_acc['cen_x'] = car_acc.cluster.map({0:cen_x[0], 1:cen_x[1], 2:cen_x[2]})\n",
    "car_acc['cen_y'] = car_acc.cluster.map({0:cen_y[0], 1:cen_y[1], 2:cen_y[2]})\n",
    "# define and map colors\n",
    "colors = ['#DF2020', '#81DF20', '#2095DF']\n",
    "car_acc['c'] = car_acc.cluster.map({0:colors[0], 1:colors[1], 2:colors[2]})"
   ]
  },
  {
   "cell_type": "code",
   "execution_count": null,
   "metadata": {},
   "outputs": [
    {
     "name": "stderr",
     "output_type": "stream",
     "text": [
      "c:\\Users\\popo\\anaconda3\\lib\\site-packages\\sklearn\\cluster\\_kmeans.py:1332: UserWarning:\n",
      "\n",
      "KMeans is known to have a memory leak on Windows with MKL, when there are less chunks than available threads. You can avoid it by setting the environment variable OMP_NUM_THREADS=1.\n",
      "\n",
      "c:\\Users\\popo\\anaconda3\\lib\\site-packages\\sklearn\\cluster\\_kmeans.py:1332: UserWarning:\n",
      "\n",
      "KMeans is known to have a memory leak on Windows with MKL, when there are less chunks than available threads. You can avoid it by setting the environment variable OMP_NUM_THREADS=1.\n",
      "\n",
      "c:\\Users\\popo\\anaconda3\\lib\\site-packages\\sklearn\\cluster\\_kmeans.py:1332: UserWarning:\n",
      "\n",
      "KMeans is known to have a memory leak on Windows with MKL, when there are less chunks than available threads. You can avoid it by setting the environment variable OMP_NUM_THREADS=1.\n",
      "\n",
      "c:\\Users\\popo\\anaconda3\\lib\\site-packages\\sklearn\\cluster\\_kmeans.py:1332: UserWarning:\n",
      "\n",
      "KMeans is known to have a memory leak on Windows with MKL, when there are less chunks than available threads. You can avoid it by setting the environment variable OMP_NUM_THREADS=1.\n",
      "\n",
      "c:\\Users\\popo\\anaconda3\\lib\\site-packages\\sklearn\\cluster\\_kmeans.py:1332: UserWarning:\n",
      "\n",
      "KMeans is known to have a memory leak on Windows with MKL, when there are less chunks than available threads. You can avoid it by setting the environment variable OMP_NUM_THREADS=1.\n",
      "\n",
      "c:\\Users\\popo\\anaconda3\\lib\\site-packages\\sklearn\\cluster\\_kmeans.py:1332: UserWarning:\n",
      "\n",
      "KMeans is known to have a memory leak on Windows with MKL, when there are less chunks than available threads. You can avoid it by setting the environment variable OMP_NUM_THREADS=1.\n",
      "\n",
      "c:\\Users\\popo\\anaconda3\\lib\\site-packages\\sklearn\\cluster\\_kmeans.py:1332: UserWarning:\n",
      "\n",
      "KMeans is known to have a memory leak on Windows with MKL, when there are less chunks than available threads. You can avoid it by setting the environment variable OMP_NUM_THREADS=1.\n",
      "\n",
      "c:\\Users\\popo\\anaconda3\\lib\\site-packages\\sklearn\\cluster\\_kmeans.py:1332: UserWarning:\n",
      "\n",
      "KMeans is known to have a memory leak on Windows with MKL, when there are less chunks than available threads. You can avoid it by setting the environment variable OMP_NUM_THREADS=1.\n",
      "\n",
      "c:\\Users\\popo\\anaconda3\\lib\\site-packages\\sklearn\\cluster\\_kmeans.py:1332: UserWarning:\n",
      "\n",
      "KMeans is known to have a memory leak on Windows with MKL, when there are less chunks than available threads. You can avoid it by setting the environment variable OMP_NUM_THREADS=1.\n",
      "\n"
     ]
    },
    {
     "data": {
      "text/plain": [
       "[<matplotlib.lines.Line2D at 0x1c1dd618310>]"
      ]
     },
     "execution_count": 56,
     "metadata": {},
     "output_type": "execute_result"
    },
    {
     "data": {
      "image/png": "[encoded data removed]",
      "text/plain": [
       "<Figure size 640x480 with 1 Axes>"
      ]
     },
     "metadata": {},
     "output_type": "display_data"
    }
   ],
   "source": [
    "# Import KMeans from sklearn\n",
    "from sklearn.cluster import KMeans\n",
    "\n",
    "# A loop will be used to plot the explanatory power for up to 10 KMeans clusters\n",
    "ks = range(1, 10)\n",
    "inertias = []\n",
    "for k in ks:\n",
    "    # Initialize the KMeans object using the current number of clusters (k)\n",
    "    km = KMeans(n_clusters=k, random_state=8)\n",
    "    # Fit the scaled features to the KMeans object\n",
    "    km.fit(features_scaled)\n",
    "    # Append the inertia for `km` to the list of inertias\n",
    "    inertias.append(km.inertia_)\n",
    "    \n",
    "# Plot the results in a line plot\n",
    "plt.plot(ks, inertias, marker='o')"
   ]
  },
  {
   "cell_type": "code",
   "execution_count": null,
   "metadata": {},
   "outputs": [
    {
     "data": {
      "text/plain": [
       "<matplotlib.collections.PathCollection at 0x1c1dbcc7100>"
      ]
     },
     "execution_count": 57,
     "metadata": {},
     "output_type": "execute_result"
    },
    {
     "data": {
      "image/png": "[encoded data removed]",
      "text/plain": [
       "<Figure size 640x480 with 1 Axes>"
      ]
     },
     "metadata": {},
     "output_type": "display_data"
    }
   ],
   "source": [
    "plt.scatter(car_acc.perc_fatl_speed, car_acc.perc_fatl_alcohol, c=car_acc.c, s=car_acc.drvr_fatl_col_bmiles, alpha = 0.6)"
   ]
  },
  {
   "cell_type": "code",
   "execution_count": null,
   "metadata": {},
   "outputs": [
    {
     "name": "stderr",
     "output_type": "stream",
     "text": [
      "c:\\Users\\popo\\anaconda3\\lib\\site-packages\\sklearn\\cluster\\_kmeans.py:1332: UserWarning:\n",
      "\n",
      "KMeans is known to have a memory leak on Windows with MKL, when there are less chunks than available threads. You can avoid it by setting the environment variable OMP_NUM_THREADS=1.\n",
      "\n"
     ]
    },
    {
     "data": {
      "text/plain": [
       "<matplotlib.collections.PathCollection at 0x1c1dbba75e0>"
      ]
     },
     "execution_count": 58,
     "metadata": {},
     "output_type": "execute_result"
    },
    {
     "data": {
      "image/png": "[encoded data removed]",
      "text/plain": [
       "<Figure size 640x480 with 1 Axes>"
      ]
     },
     "metadata": {},
     "output_type": "display_data"
    }
   ],
   "source": [
    "km = KMeans(n_clusters=3, random_state=8)\n",
    "\n",
    "# Fit the data to the `km` object\n",
    "p_comps = km.fit_transform(features_scaled)\n",
    "\n",
    "# Create a scatter plot of the first two principal components\n",
    "# and color it according to the KMeans cluster assignment \n",
    "plt.scatter(p_comps[:,0], p_comps[:,1], c=km.labels_)"
   ]
  },
  {
   "cell_type": "code",
   "execution_count": null,
   "metadata": {},
   "outputs": [
    {
     "data": {
      "text/plain": [
       "Text(0, 0.5, 'perc_fatl_alcohol')"
      ]
     },
     "execution_count": 59,
     "metadata": {},
     "output_type": "execute_result"
    },
    {
     "data": {
      "image/png": "[encoded data removed]",
      "text/plain": [
       "<Figure size 600x600 with 1 Axes>"
      ]
     },
     "metadata": {},
     "output_type": "display_data"
    }
   ],
   "source": [
    "from matplotlib.lines import Line2D\n",
    "fig, ax = plt.subplots(1, figsize=(6,6))\n",
    "# plot data\n",
    "\n",
    "plt.scatter(car_acc.perc_fatl_speed, car_acc.perc_fatl_alcohol, c=car_acc.c, alpha = 0.6, s=car_acc.drvr_fatl_col_bmiles)\n",
    "# plot centroids\n",
    "plt.scatter(cen_x, cen_y, marker='^', c=colors, s=70)\n",
    "# plot Attack mean\n",
    "plt.plot([car_acc.perc_fatl_speed.mean()]*2, [0,200], color='black', lw=0.5, linestyle='--')\n",
    "plt.xlim(0,200)\n",
    "# plot Defense mean\n",
    "plt.plot([0,200], [car_acc.perc_fatl_alcohol.mean()]*2, color='black', lw=0.5, linestyle='--')\n",
    "plt.ylim(0,200)\n",
    "# create a list of legend elemntes\n",
    "## average line\n",
    "legend_elements = [Line2D([0], [0], color='black', lw=0.5, linestyle='--', label='Average')]\n",
    "## markers / records\n",
    "cluster_leg = [Line2D([0], [0], marker='o', color='w', label='Cluster {}'.format(i+1), \n",
    "               markerfacecolor=mcolor, markersize=5) for i, mcolor in enumerate(colors)]\n",
    "## centroids\n",
    "cent_leg = [Line2D([0], [0], marker='^', color='w', label='Centroid - C{}'.format(i+1), \n",
    "            markerfacecolor=mcolor, markersize=10) for i, mcolor in enumerate(colors)]\n",
    "# add all elements to the same list\n",
    "legend_elements.extend(cluster_leg)\n",
    "legend_elements.extend(cent_leg)\n",
    "# plot legend\n",
    "plt.legend(handles=legend_elements, loc='upper right', ncol=2)\n",
    "# title and labels\n",
    "plt.title('Mortality Rate \\n', loc='left', fontsize=22)\n",
    "plt.xlabel('perc_fatl_speed')\n",
    "plt.ylabel('perc_fatl_alcohol')"
   ]
  },
  {
   "cell_type": "code",
   "execution_count": null,
   "metadata": {},
   "outputs": [
    {
     "data": {
      "text/plain": [
       "(0.0, 80.0)"
      ]
     },
     "execution_count": 62,
     "metadata": {},
     "output_type": "execute_result"
    },
    {
     "data": {
      "image/png": "[encoded data removed]",
      "text/plain": [
       "<Figure size 800x800 with 1 Axes>"
      ]
     },
     "metadata": {},
     "output_type": "display_data"
    }
   ],
   "source": [
    "from scipy import interpolate\n",
    "from scipy.spatial import ConvexHull, convex_hull_plot_2d\n",
    "fig, ax = plt.subplots(1, figsize=(8,8))\n",
    "plt.scatter(car_acc.perc_fatl_speed,car_acc.perc_fatl_alcohol, c=car_acc.c, alpha = 0.6, s=car_acc.drvr_fatl_col_bmiles)\n",
    "plt.scatter(cen_x, cen_y, marker='^', c=colors, s=70)\n",
    "    \n",
    "for i in car_acc.cluster.unique():\n",
    "    # get the convex hull\n",
    "    points =car_acc[car_acc.cluster == i][['perc_fatl_speed', 'perc_fatl_alcohol']].values\n",
    "    hull = ConvexHull(points)\n",
    "    x_hull = np.append(points[hull.vertices,0],\n",
    "                       points[hull.vertices,0][0])\n",
    "    y_hull = np.append(points[hull.vertices,1],\n",
    "                       points[hull.vertices,1][0])\n",
    "    \n",
    "    # interpolate\n",
    "    dist = np.sqrt((x_hull[:-1] - x_hull[1:])**2 + (y_hull[:-1] - y_hull[1:])**2)\n",
    "    dist_along = np.concatenate(([0], dist.cumsum()))\n",
    "    spline, u = interpolate.splprep([x_hull, y_hull], \n",
    "                                    u=dist_along, s=0, per=1)\n",
    "    interp_d = np.linspace(dist_along[0], dist_along[-1], 50)\n",
    "    interp_x, interp_y = interpolate.splev(interp_d, spline)\n",
    "    # plot shape\n",
    "    plt.fill(interp_x, interp_y, '--', c=colors[i], alpha=0.2)\n",
    "    \n",
    "plt.xlim(0,80)\n",
    "plt.ylim(0,80)"
   ]
  },
  {
   "attachments": {},
   "cell_type": "markdown",
   "metadata": {},
   "source": [
    "# Violin plotting"
   ]
  },
  {
   "cell_type": "code",
   "execution_count": null,
   "metadata": {},
   "outputs": [
    {
     "data": {
      "image/png": "[encoded data removed]",
      "text/plain": [
       "<Figure size 640x480 with 1 Axes>"
      ]
     },
     "metadata": {},
     "output_type": "display_data"
    }
   ],
   "source": [
    "import seaborn as sns\n",
    "    \n",
    "    \n",
    "sns.violinplot([y_hull ,  x_hull])\n",
    "\n",
    "plt.show()\n",
    "\n"
   ]
  },
  {
   "attachments": {},
   "cell_type": "markdown",
   "metadata": {},
   "source": [
    "# Visualize the feature differences between the clusters"
   ]
  },
  {
   "cell_type": "code",
   "execution_count": null,
   "metadata": {},
   "outputs": [
    {
     "data": {
      "text/plain": [
       "<AxesSubplot: xlabel='percent', ylabel='measurement'>"
      ]
     },
     "execution_count": 65,
     "metadata": {},
     "output_type": "execute_result"
    },
    {
     "data": {
      "image/png": "[encoded data removed]",
      "text/plain": [
       "<Figure size 640x480 with 1 Axes>"
      ]
     },
     "metadata": {},
     "output_type": "display_data"
    }
   ],
   "source": [
    "# Create a new column with the labels from the KMeans clustering\n",
    "car_acc['cluster'] =  km.labels_\n",
    "\n",
    "# Reshape the DataFrame to the long format\n",
    "melt_car = pd.melt(car_acc, id_vars=\"cluster\", var_name=\"measurement\", value_name=\"percent\", value_vars=features)\n",
    "\n",
    "# Create a violin plot splitting and coloring the results according to the km-clusters\n",
    "sns.violinplot(x=melt_car[\"percent\"], y=melt_car[\"measurement\"], hue=melt_car[\"cluster\"])"
   ]
  },
  {
   "attachments": {},
   "cell_type": "markdown",
   "metadata": {},
   "source": [
    "# Compute the number of accidents within each cluster"
   ]
  },
  {
   "cell_type": "code",
   "execution_count": null,
   "metadata": {},
   "outputs": [
    {
     "name": "stderr",
     "output_type": "stream",
     "text": [
      "C:\\Users\\popo\\AppData\\Local\\Temp\\ipykernel_16800\\2592000802.py:11: FutureWarning:\n",
      "\n",
      "\n",
      "\n",
      "The `ci` parameter is deprecated. Use `errorbar=None` for the same effect.\n",
      "\n",
      "\n"
     ]
    },
    {
     "data": {
      "text/html": [
       "<div>\n",
       "<style scoped>\n",
       "    .dataframe tbody tr th:only-of-type {\n",
       "        vertical-align: middle;\n",
       "    }\n",
       "\n",
       "    .dataframe tbody tr th {\n",
       "        vertical-align: top;\n",
       "    }\n",
       "\n",
       "    .dataframe thead th {\n",
       "        text-align: right;\n",
       "    }\n",
       "</style>\n",
       "<table border=\"1\" class=\"dataframe\">\n",
       "  <thead>\n",
       "    <tr style=\"text-align: right;\">\n",
       "      <th></th>\n",
       "      <th>count</th>\n",
       "      <th>mean</th>\n",
       "      <th>sum</th>\n",
       "    </tr>\n",
       "    <tr>\n",
       "      <th>cluster</th>\n",
       "      <th></th>\n",
       "      <th></th>\n",
       "      <th></th>\n",
       "    </tr>\n",
       "  </thead>\n",
       "  <tbody>\n",
       "    <tr>\n",
       "      <th>0</th>\n",
       "      <td>18</td>\n",
       "      <td>911.406439</td>\n",
       "      <td>16405.3159</td>\n",
       "    </tr>\n",
       "    <tr>\n",
       "      <th>1</th>\n",
       "      <td>11</td>\n",
       "      <td>860.505945</td>\n",
       "      <td>9465.5654</td>\n",
       "    </tr>\n",
       "    <tr>\n",
       "      <th>2</th>\n",
       "      <td>22</td>\n",
       "      <td>898.378595</td>\n",
       "      <td>19764.3291</td>\n",
       "    </tr>\n",
       "  </tbody>\n",
       "</table>\n",
       "</div>"
      ],
      "text/plain": [
       "         count        mean         sum\n",
       "cluster                               \n",
       "0           18  911.406439  16405.3159\n",
       "1           11  860.505945   9465.5654\n",
       "2           22  898.378595  19764.3291"
      ]
     },
     "execution_count": 69,
     "metadata": {},
     "output_type": "execute_result"
    },
    {
     "data": {
      "image/png": "[encoded data removed]",
      "text/plain": [
       "<Figure size 640x480 with 1 Axes>"
      ]
     },
     "metadata": {},
     "output_type": "display_data"
    }
   ],
   "source": [
    "\n",
    "car_acc['num_drvr_fatl_col'] = car_acc['drvr_fatl_col_bmiles']*car_acc[\"million_miles_annually\"]/1000\n",
    "\n",
    "# Create a barplot of the total number of accidents per cluster\n",
    "sns.barplot(x=car_acc[\"cluster\"], y=car_acc[\"num_drvr_fatl_col\"], data=car_acc, estimator=sum, ci=None)\n",
    "\n",
    "# Calculate the number of states in each cluster and their 'num_drvr_fatl_col' mean and sum.\n",
    "count_mean_sum = car_acc.groupby(\"cluster\")[\"num_drvr_fatl_col\"].agg([\"count\", \"mean\", \"sum\"])\n",
    "count_mean_sum"
   ]
  },
  {
   "attachments": {},
   "cell_type": "markdown",
   "metadata": {},
   "source": [
    "# Make a decision when there is no clear right choice"
   ]
  },
  {
   "cell_type": "code",
   "execution_count": null,
   "metadata": {},
   "outputs": [],
   "source": [
    "# Which cluster would you choose?\n",
    "cluster_num = 2"
   ]
  }
 ],
 "metadata": {
  "kernelspec": {
   "display_name": "base",
   "language": "python",
   "name": "python3"
  },
  "language_info": {
   "codemirror_mode": {
    "name": "ipython",
    "version": 3
   },
   "file_extension": ".py",
   "mimetype": "text/x-python",
   "name": "python",
   "nbconvert_exporter": "python",
   "pygments_lexer": "ipython3",
   "version": "3.9.7"
  },
  "orig_nbformat": 4,
  "vscode": {
   "interpreter": {
    "hash": "c872da9b24e704463a3b2e0bb5f4192d77b6ffe402785ed21ba10e5792343b30"
   }
  }
 },
 "nbformat": 4,
 "nbformat_minor": 2
}
